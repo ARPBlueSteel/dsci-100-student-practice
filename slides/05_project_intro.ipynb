{
 "cells": [
  {
   "cell_type": "markdown",
   "metadata": {
    "slideshow": {
     "slide_type": "slide"
    }
   },
   "source": [
    "# DSCI 100: Introduction to Data Science\n",
    "## Group Project"
   ]
  },
  {
   "cell_type": "markdown",
   "metadata": {
    "slideshow": {
     "slide_type": "skip"
    }
   },
   "source": [
    "# First: congrats on completing your first quiz!!\n",
    "\n",
    "<img src=\"https://i.imgur.com/vIf0lAD.gif\" width=500>"
   ]
  },
  {
   "cell_type": "markdown",
   "metadata": {
    "slideshow": {
     "slide_type": "slide"
    }
   },
   "source": [
    "# Today: group project kickoff\n",
    "\n",
    "<img src=\"https://c.tenor.com/ZHSqMp3bCoAAAAAC/sports-minions.gif\" width=600>\n",
    "\n",
    "- Group project overview and requirements\n",
    "- Get a brief understanding of classification and regression (more in the next lecture!)"
   ]
  },
  {
   "cell_type": "markdown",
   "metadata": {
    "slideshow": {
     "slide_type": "slide"
    }
   },
   "source": [
    "## Project\n",
    "\n",
    "*Formulate and answer a predictive question about a dataset of your choice using either classification or regression. Present the full analysis, from reading the data to communicating results.*\n",
    "\n",
    "- What is *classification*?\n",
    "    - Predict a *class/category* for a new observation/measurement\n",
    "    - Using past observations with *known* class/category\n",
    "    - Learn more in lecture 6 & 7!\n",
    "- What is *regression*?\n",
    "    - Predict a *numerical value* for a new observation/measurement\n",
    "    - Using past observations with *known* numerical value\n",
    "    - Learn more in week 8 & 9! (you will have to read ahead if you want to do this!)\n",
    "- $K$-nearest neighbours\n",
    "    - Predict a value for a new observation based on *nearby* observations in the data"
   ]
  },
  {
   "cell_type": "markdown",
   "metadata": {
    "slideshow": {
     "slide_type": "slide"
    }
   },
   "source": [
    "## Deliverables\n",
    "\n",
    "- Group contract \n",
    "- Project proposal \n",
    "- Final report \n",
    "- Teamwork report (*this is an assessment of teammates and self, which will be used to assign project grades at the end of the semester!*)\n",
    "\n",
    "See dates on Canvas"
   ]
  },
  {
   "cell_type": "markdown",
   "metadata": {
    "slideshow": {
     "slide_type": "slide"
    }
   },
   "source": [
    "## Working in a group \n",
    "\n",
    "- Positive group experiences have been shown to contribute to student learning, retention and overall success (Astin, 1997; Tinto, 1998; National Survey of Student Engagement, 2006).\n"
   ]
  },
  {
   "cell_type": "markdown",
   "metadata": {
    "slideshow": {
     "slide_type": "fragment"
    }
   },
   "source": [
    "Group projects can help you develop skills that are important for your careers. \n",
    "- Planning and managing deadlines  \n",
    "- Learning through discussion \n",
    "- Getting and giving feedback \n",
    "- Challenging your assumptions\n",
    "- Developing stronger communication skills"
   ]
  },
  {
   "cell_type": "markdown",
   "metadata": {
    "slideshow": {
     "slide_type": "fragment"
    }
   },
   "source": [
    "This group project will allow you to:\n",
    "- Work on more complex problems than you might be able to do on your own\n",
    "- Divide the workload \n",
    "- Learn from each other's perspectives\n",
    "- Combine different skill sets and academic backgrounds\n",
    "- Hold one another (and be held) accountable\n",
    "- Receive support and encouragement from your group mates \n",
    "- Practice resolving differences \n",
    "- Practice vocalizing your thoughts to your peers \n",
    "\n",
    "Source: https://www.cmu.edu/teaching/designteach/design/instructionalstrategies/groupprojects/benefits.html"
   ]
  },
  {
   "cell_type": "markdown",
   "metadata": {
    "slideshow": {
     "slide_type": "notes"
    }
   },
   "source": [
    "- encourage student to problem solve by developing solutions and evaluating the best ones balancing personal learning with the group project goals.\n",
    "- In any group work situation, it is always possible that issues will arise (e.g. problems with unequal distribution of work). \n",
    "- group contract/setting expectations will help minimize \n",
    "- learning how to work with others is a valuable life lesson"
   ]
  },
  {
   "cell_type": "markdown",
   "metadata": {
    "slideshow": {
     "slide_type": "slide"
    }
   },
   "source": [
    "## Group Contract\n",
    "\n",
    "A large part of your success as a group will come down to good communication and setting clear expectations from the start!\n",
    "\n",
    "The group contract will help you:\n",
    "- formalize the expectations you have for your group members \n",
    "- what they can expect of you\n",
    "- think about what you need from each other to work effectively as a team\n",
    "- decide how/when you will communicate with each other\n",
    "- `group_contract` on Canvas: create and agree on this contract as a team\n",
    "\n",
    "For example:\n",
    "- **goals:** what skills do we want to develop or refine?\n",
    "- **expectations:** attendance at meetings, participation, frequency of communication, quality of work\n",
    "- **consequences:** how will we address non-performance regarding these goals, expectations?"
   ]
  },
  {
   "cell_type": "markdown",
   "metadata": {
    "slideshow": {
     "slide_type": "slide"
    }
   },
   "source": [
    "# In your groups:\n",
    "1. **Icebreaker activity**\n",
    "\n",
    "2. Visit the `group_contract` now and fill out your group contract as a team!\n",
    "\n",
    "3. Once you are down, get started on the worksheet"
   ]
  },
  {
   "cell_type": "markdown",
   "metadata": {
    "slideshow": {
     "slide_type": "fragment"
    }
   },
   "source": [
    "## What do I do if my teammate(s) is(are) not here today?\n",
    "- Reach out to them and exchange contact info/set up a time to meet (virtually or in person)! \n",
    "- You can message them on Canvas (go to \"Inbox\" on the left sidebar) "
   ]
  },
  {
   "cell_type": "markdown",
   "metadata": {
    "slideshow": {
     "slide_type": "skip"
    }
   },
   "source": [
    "## Activity \\#1: Explore Datasets - Preliminary\n",
    "- Group project assignment details on Canvas\n",
    "- One person should code, the rest of the group should direct the coding process\n",
    "- Using what you have learnt in weeks 1-4, read the dataset, take a look at it, and write a short description about the dataset. \n",
    "- Some questions you should try to answer:\n",
    "    - What is the dataset about?\n",
    "    - How many variables are there?\n",
    "    - How many observations are there?"
   ]
  },
  {
   "cell_type": "markdown",
   "metadata": {
    "slideshow": {
     "slide_type": "skip"
    }
   },
   "source": [
    "## Activity \\#2: Explore Datasets Part 2 - Outcome Variable\n",
    "- Now, someone else should take over the coding!\n",
    "- Try to answer these questions now:\n",
    "    - Identify the main outcome/categorical/label variable in the dataset.\n",
    "    - How many values/groups are in this variable?\n",
    "    - How many observations are there in each value/group?\n",
    "- Tip: Think about how you are organising your workbook: add more code and markdown cells (and arranged them!) to keep your notebook neat"
   ]
  },
  {
   "cell_type": "markdown",
   "metadata": {
    "slideshow": {
     "slide_type": "skip"
    }
   },
   "source": [
    "## Activity \\#3: Explore Datasets Part 3 - Visualisations!\n",
    "- Make some visualisations of the outcome variable:\n",
    "    - What does the distribution of the variable look like?\n",
    "    - What relationship does it have with some of the other variables?\n",
    "- Tip: Try using a range of box plots, scatterplots, bar charts, line graphs, etc. "
   ]
  }
 ],
 "metadata": {
  "celltoolbar": "Slideshow",
  "kernelspec": {
   "display_name": "R",
   "language": "R",
   "name": "ir"
  },
  "language_info": {
   "codemirror_mode": "r",
   "file_extension": ".r",
   "mimetype": "text/x-r-source",
   "name": "R",
   "pygments_lexer": "r",
   "version": "4.0.0"
  },
  "rise": {
   "transition": "fade"
  }
 },
 "nbformat": 4,
 "nbformat_minor": 2
}
