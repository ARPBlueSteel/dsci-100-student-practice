{
 "cells": [
  {
   "cell_type": "markdown",
   "metadata": {
    "slideshow": {
     "slide_type": "slide"
    }
   },
   "source": [
    "# DSCI 100: Introduction to Data Science\n",
    "\n",
    "## Tutorial 2 - Getting data into R: Class activity"
   ]
  },
  {
   "cell_type": "markdown",
   "metadata": {
    "slideshow": {
     "slide_type": "slide"
    }
   },
   "source": [
    "## Class Activity"
   ]
  },
  {
   "cell_type": "markdown",
   "metadata": {
    "slideshow": {
     "slide_type": "fragment"
    }
   },
   "source": [
    "1. Create a new R Jupyter notebook."
   ]
  },
  {
   "cell_type": "markdown",
   "metadata": {
    "slideshow": {
     "slide_type": "fragment"
    }
   },
   "source": [
    "2. Connect to the `kickstarter` database (same database as question 3.0 from tutorial). Remember to load the packages necessary to do so."
   ]
  },
  {
   "cell_type": "markdown",
   "metadata": {
    "slideshow": {
     "slide_type": "fragment"
    }
   },
   "source": [
    "3. Use the `projects` table from the `kickstarter` database to answer the following question: what is the project URL of the project from Great Britain (`GB`) with the greatest total amount pledged.\n",
    "\n",
    "You **must** use all of the following functions once each: `arrange()`, `collect()`, `filter()`, `select()`, and `tail()`."
   ]
  },
  {
   "cell_type": "markdown",
   "metadata": {
    "slideshow": {
     "slide_type": "fragment"
    }
   },
   "source": [
    "4. Post your code and final answer (project URL) to Piazza."
   ]
  },
  {
   "cell_type": "markdown",
   "metadata": {
    "slideshow": {
     "slide_type": "slide"
    }
   },
   "source": [
    "## Solution"
   ]
  },
  {
   "cell_type": "code",
   "execution_count": 1,
   "metadata": {
    "slideshow": {
     "slide_type": "-"
    }
   },
   "outputs": [
    {
     "name": "stderr",
     "output_type": "stream",
     "text": [
      "── \u001b[1mAttaching packages\u001b[22m ─────────────────────────────────────── tidyverse 1.2.1 ──\n",
      "\u001b[32m✔\u001b[39m \u001b[34mggplot2\u001b[39m 3.2.0     \u001b[32m✔\u001b[39m \u001b[34mpurrr  \u001b[39m 0.3.2\n",
      "\u001b[32m✔\u001b[39m \u001b[34mtibble \u001b[39m 2.1.3     \u001b[32m✔\u001b[39m \u001b[34mdplyr  \u001b[39m 0.8.3\n",
      "\u001b[32m✔\u001b[39m \u001b[34mtidyr  \u001b[39m 0.8.3     \u001b[32m✔\u001b[39m \u001b[34mstringr\u001b[39m 1.4.0\n",
      "\u001b[32m✔\u001b[39m \u001b[34mreadr  \u001b[39m 1.3.1     \u001b[32m✔\u001b[39m \u001b[34mforcats\u001b[39m 0.4.0\n",
      "── \u001b[1mConflicts\u001b[22m ────────────────────────────────────────── tidyverse_conflicts() ──\n",
      "\u001b[31m✖\u001b[39m \u001b[34mdplyr\u001b[39m::\u001b[32mfilter()\u001b[39m masks \u001b[34mstats\u001b[39m::filter()\n",
      "\u001b[31m✖\u001b[39m \u001b[34mdplyr\u001b[39m::\u001b[32mlag()\u001b[39m    masks \u001b[34mstats\u001b[39m::lag()\n",
      "\n",
      "Attaching package: ‘dbplyr’\n",
      "\n",
      "The following objects are masked from ‘package:dplyr’:\n",
      "\n",
      "    ident, sql\n",
      "\n"
     ]
    }
   ],
   "source": [
    "library(tidyverse)\n",
    "library(dbplyr)\n",
    "library(DBI)"
   ]
  },
  {
   "cell_type": "code",
   "execution_count": 2,
   "metadata": {
    "slideshow": {
     "slide_type": "slide"
    }
   },
   "outputs": [],
   "source": [
    "connection <- dbConnect(RPostgres::Postgres(),\n",
    "                       dbname = \"kickstarter\",\n",
    "                       host = \"r7k3-mds1.stat.ubc.ca\",\n",
    "                       port = 5432,\n",
    "                       user = \"dsci100\",\n",
    "                       password = \"dsci100\")"
   ]
  },
  {
   "cell_type": "code",
   "execution_count": 3,
   "metadata": {
    "slideshow": {
     "slide_type": "slide"
    }
   },
   "outputs": [
    {
     "data": {
      "text/plain": [
       "\u001b[38;5;246m# Source:   lazy query [?? x 44]\u001b[39m\n",
       "\u001b[38;5;246m# Database: postgres [dsci100@r7k3-mds1.stat.ubc.ca:5432/kickstarter]\u001b[39m\n",
       "      id state url_project url_project_sho… name  country creator_id location_id\n",
       "   \u001b[3m\u001b[38;5;246m<int>\u001b[39m\u001b[23m \u001b[3m\u001b[38;5;246m<chr>\u001b[39m\u001b[23m \u001b[3m\u001b[38;5;246m<chr>\u001b[39m\u001b[23m       \u001b[3m\u001b[38;5;246m<chr>\u001b[39m\u001b[23m            \u001b[3m\u001b[38;5;246m<chr>\u001b[39m\u001b[23m \u001b[3m\u001b[38;5;246m<chr>\u001b[39m\u001b[23m        \u001b[3m\u001b[38;5;246m<int>\u001b[39m\u001b[23m       \u001b[3m\u001b[38;5;246m<int>\u001b[39m\u001b[23m\n",
       "\u001b[38;5;250m1\u001b[39m 2.18\u001b[38;5;246me\u001b[39m8 succ… https://ww… http://kck.st/1… Look… US      \u001b[4m1\u001b[24m436\u001b[4m6\u001b[24m\u001b[4m6\u001b[24m\u001b[4m2\u001b[24m259     2\u001b[4m4\u001b[24m\u001b[4m5\u001b[24m\u001b[4m9\u001b[24m115\n",
       "\u001b[38;5;250m2\u001b[39m 2.18\u001b[38;5;246me\u001b[39m8 succ… https://ww… http://kck.st/1… Iral… US      \u001b[4m1\u001b[24m954\u001b[4m3\u001b[24m\u001b[4m7\u001b[24m\u001b[4m9\u001b[24m699     2\u001b[4m3\u001b[24m\u001b[4m6\u001b[24m\u001b[4m3\u001b[24m557\n",
       "\u001b[38;5;250m3\u001b[39m 2.18\u001b[38;5;246me\u001b[39m8 succ… https://ww… http://kck.st/1… Kati… US       311\u001b[4m3\u001b[24m\u001b[4m9\u001b[24m\u001b[4m3\u001b[24m342     2\u001b[4m4\u001b[24m\u001b[4m9\u001b[24m\u001b[4m5\u001b[24m739\n",
       "\u001b[38;5;250m4\u001b[39m 2.18\u001b[38;5;246me\u001b[39m8 fail… https://ww… http://kck.st/d… Ange… US      \u001b[4m1\u001b[24m920\u001b[4m9\u001b[24m\u001b[4m3\u001b[24m\u001b[4m0\u001b[24m043     2\u001b[4m3\u001b[24m\u001b[4m9\u001b[24m\u001b[4m1\u001b[24m585\n",
       "\u001b[38;5;250m5\u001b[39m 2.18\u001b[38;5;246me\u001b[39m8 succ… https://ww… http://kck.st/1… 1001… US      \u001b[4m1\u001b[24m768\u001b[4m5\u001b[24m\u001b[4m5\u001b[24m\u001b[4m6\u001b[24m333     2\u001b[4m4\u001b[24m\u001b[4m1\u001b[24m\u001b[4m0\u001b[24m896\n",
       "\u001b[38;5;250m6\u001b[39m 2.18\u001b[38;5;246me\u001b[39m8 fail… https://ww… http://kck.st/2… LOON… US       692\u001b[4m1\u001b[24m\u001b[4m4\u001b[24m\u001b[4m6\u001b[24m147      \u001b[4m5\u001b[24m\u001b[4m6\u001b[24m\u001b[4m5\u001b[24m346\n",
       "\u001b[38;5;246m# … with 36 more variables: category_id \u001b[3m\u001b[38;5;246m<int>\u001b[38;5;246m\u001b[23m, created_at \u001b[3m\u001b[38;5;246m<int>\u001b[38;5;246m\u001b[23m,\n",
       "#   deadline \u001b[3m\u001b[38;5;246m<int>\u001b[38;5;246m\u001b[23m, launched_at \u001b[3m\u001b[38;5;246m<int>\u001b[38;5;246m\u001b[23m, goal \u001b[3m\u001b[38;5;246m<dbl>\u001b[38;5;246m\u001b[23m, pledged \u001b[3m\u001b[38;5;246m<dbl>\u001b[38;5;246m\u001b[23m,\n",
       "#   currency \u001b[3m\u001b[38;5;246m<chr>\u001b[38;5;246m\u001b[23m, currency_symbol \u001b[3m\u001b[38;5;246m<chr>\u001b[38;5;246m\u001b[23m, usd_pledged \u001b[3m\u001b[38;5;246m<dbl>\u001b[38;5;246m\u001b[23m,\n",
       "#   static_usd_rate \u001b[3m\u001b[38;5;246m<dbl>\u001b[38;5;246m\u001b[23m, backers_count \u001b[3m\u001b[38;5;246m<int>\u001b[38;5;246m\u001b[23m, comments_count \u001b[3m\u001b[38;5;246m<int>\u001b[38;5;246m\u001b[23m,\n",
       "#   updates_count \u001b[3m\u001b[38;5;246m<int>\u001b[38;5;246m\u001b[23m, spotlight \u001b[3m\u001b[38;5;246m<chr>\u001b[38;5;246m\u001b[23m, staff_pick \u001b[3m\u001b[38;5;246m<chr>\u001b[38;5;246m\u001b[23m, blurb \u001b[3m\u001b[38;5;246m<chr>\u001b[38;5;246m\u001b[23m,\n",
       "#   currency_trailing_code \u001b[3m\u001b[38;5;246m<chr>\u001b[38;5;246m\u001b[23m, disable_communication \u001b[3m\u001b[38;5;246m<chr>\u001b[38;5;246m\u001b[23m, photo_url \u001b[3m\u001b[38;5;246m<chr>\u001b[38;5;246m\u001b[23m,\n",
       "#   profile_blurb \u001b[3m\u001b[38;5;246m<chr>\u001b[38;5;246m\u001b[23m, profile_id \u001b[3m\u001b[38;5;246m<int>\u001b[38;5;246m\u001b[23m, profile_name \u001b[3m\u001b[38;5;246m<chr>\u001b[38;5;246m\u001b[23m,\n",
       "#   profile_project_id \u001b[3m\u001b[38;5;246m<int>\u001b[38;5;246m\u001b[23m, profile_state \u001b[3m\u001b[38;5;246m<chr>\u001b[38;5;246m\u001b[23m, slug \u001b[3m\u001b[38;5;246m<chr>\u001b[38;5;246m\u001b[23m,\n",
       "#   url_rewards \u001b[3m\u001b[38;5;246m<chr>\u001b[38;5;246m\u001b[23m, url_updates \u001b[3m\u001b[38;5;246m<chr>\u001b[38;5;246m\u001b[23m, video_id \u001b[3m\u001b[38;5;246m<int>\u001b[38;5;246m\u001b[23m, video_url_high \u001b[3m\u001b[38;5;246m<chr>\u001b[38;5;246m\u001b[23m,\n",
       "#   video_url_webm \u001b[3m\u001b[38;5;246m<chr>\u001b[38;5;246m\u001b[23m, video_height \u001b[3m\u001b[38;5;246m<int>\u001b[38;5;246m\u001b[23m, video_width \u001b[3m\u001b[38;5;246m<int>\u001b[38;5;246m\u001b[23m,\n",
       "#   video_status \u001b[3m\u001b[38;5;246m<chr>\u001b[38;5;246m\u001b[23m, file_name \u001b[3m\u001b[38;5;246m<chr>\u001b[38;5;246m\u001b[23m, last_modification \u001b[3m\u001b[38;5;246m<dttm>\u001b[38;5;246m\u001b[23m,\n",
       "#   deleted_comments \u001b[3m\u001b[38;5;246m<int>\u001b[38;5;246m\u001b[23m\u001b[39m"
      ]
     },
     "metadata": {},
     "output_type": "display_data"
    }
   ],
   "source": [
    "projects <- tbl(connection, \"projects\")\n",
    "head(projects)"
   ]
  },
  {
   "cell_type": "code",
   "execution_count": 4,
   "metadata": {
    "slideshow": {
     "slide_type": "slide"
    }
   },
   "outputs": [
    {
     "data": {
      "text/html": [
       "<ol class=list-inline>\n",
       "\t<li>'id'</li>\n",
       "\t<li>'state'</li>\n",
       "\t<li>'url_project'</li>\n",
       "\t<li>'url_project_short'</li>\n",
       "\t<li>'name'</li>\n",
       "\t<li>'country'</li>\n",
       "\t<li>'creator_id'</li>\n",
       "\t<li>'location_id'</li>\n",
       "\t<li>'category_id'</li>\n",
       "\t<li>'created_at'</li>\n",
       "\t<li>'deadline'</li>\n",
       "\t<li>'launched_at'</li>\n",
       "\t<li>'goal'</li>\n",
       "\t<li>'pledged'</li>\n",
       "\t<li>'currency'</li>\n",
       "\t<li>'currency_symbol'</li>\n",
       "\t<li>'usd_pledged'</li>\n",
       "\t<li>'static_usd_rate'</li>\n",
       "\t<li>'backers_count'</li>\n",
       "\t<li>'comments_count'</li>\n",
       "\t<li>'updates_count'</li>\n",
       "\t<li>'spotlight'</li>\n",
       "\t<li>'staff_pick'</li>\n",
       "\t<li>'blurb'</li>\n",
       "\t<li>'currency_trailing_code'</li>\n",
       "\t<li>'disable_communication'</li>\n",
       "\t<li>'photo_url'</li>\n",
       "\t<li>'profile_blurb'</li>\n",
       "\t<li>'profile_id'</li>\n",
       "\t<li>'profile_name'</li>\n",
       "\t<li>'profile_project_id'</li>\n",
       "\t<li>'profile_state'</li>\n",
       "\t<li>'slug'</li>\n",
       "\t<li>'url_rewards'</li>\n",
       "\t<li>'url_updates'</li>\n",
       "\t<li>'video_id'</li>\n",
       "\t<li>'video_url_high'</li>\n",
       "\t<li>'video_url_webm'</li>\n",
       "\t<li>'video_height'</li>\n",
       "\t<li>'video_width'</li>\n",
       "\t<li>'video_status'</li>\n",
       "\t<li>'file_name'</li>\n",
       "\t<li>'last_modification'</li>\n",
       "\t<li>'deleted_comments'</li>\n",
       "</ol>\n"
      ],
      "text/latex": [
       "\\begin{enumerate*}\n",
       "\\item 'id'\n",
       "\\item 'state'\n",
       "\\item 'url\\_project'\n",
       "\\item 'url\\_project\\_short'\n",
       "\\item 'name'\n",
       "\\item 'country'\n",
       "\\item 'creator\\_id'\n",
       "\\item 'location\\_id'\n",
       "\\item 'category\\_id'\n",
       "\\item 'created\\_at'\n",
       "\\item 'deadline'\n",
       "\\item 'launched\\_at'\n",
       "\\item 'goal'\n",
       "\\item 'pledged'\n",
       "\\item 'currency'\n",
       "\\item 'currency\\_symbol'\n",
       "\\item 'usd\\_pledged'\n",
       "\\item 'static\\_usd\\_rate'\n",
       "\\item 'backers\\_count'\n",
       "\\item 'comments\\_count'\n",
       "\\item 'updates\\_count'\n",
       "\\item 'spotlight'\n",
       "\\item 'staff\\_pick'\n",
       "\\item 'blurb'\n",
       "\\item 'currency\\_trailing\\_code'\n",
       "\\item 'disable\\_communication'\n",
       "\\item 'photo\\_url'\n",
       "\\item 'profile\\_blurb'\n",
       "\\item 'profile\\_id'\n",
       "\\item 'profile\\_name'\n",
       "\\item 'profile\\_project\\_id'\n",
       "\\item 'profile\\_state'\n",
       "\\item 'slug'\n",
       "\\item 'url\\_rewards'\n",
       "\\item 'url\\_updates'\n",
       "\\item 'video\\_id'\n",
       "\\item 'video\\_url\\_high'\n",
       "\\item 'video\\_url\\_webm'\n",
       "\\item 'video\\_height'\n",
       "\\item 'video\\_width'\n",
       "\\item 'video\\_status'\n",
       "\\item 'file\\_name'\n",
       "\\item 'last\\_modification'\n",
       "\\item 'deleted\\_comments'\n",
       "\\end{enumerate*}\n"
      ],
      "text/markdown": [
       "1. 'id'\n",
       "2. 'state'\n",
       "3. 'url_project'\n",
       "4. 'url_project_short'\n",
       "5. 'name'\n",
       "6. 'country'\n",
       "7. 'creator_id'\n",
       "8. 'location_id'\n",
       "9. 'category_id'\n",
       "10. 'created_at'\n",
       "11. 'deadline'\n",
       "12. 'launched_at'\n",
       "13. 'goal'\n",
       "14. 'pledged'\n",
       "15. 'currency'\n",
       "16. 'currency_symbol'\n",
       "17. 'usd_pledged'\n",
       "18. 'static_usd_rate'\n",
       "19. 'backers_count'\n",
       "20. 'comments_count'\n",
       "21. 'updates_count'\n",
       "22. 'spotlight'\n",
       "23. 'staff_pick'\n",
       "24. 'blurb'\n",
       "25. 'currency_trailing_code'\n",
       "26. 'disable_communication'\n",
       "27. 'photo_url'\n",
       "28. 'profile_blurb'\n",
       "29. 'profile_id'\n",
       "30. 'profile_name'\n",
       "31. 'profile_project_id'\n",
       "32. 'profile_state'\n",
       "33. 'slug'\n",
       "34. 'url_rewards'\n",
       "35. 'url_updates'\n",
       "36. 'video_id'\n",
       "37. 'video_url_high'\n",
       "38. 'video_url_webm'\n",
       "39. 'video_height'\n",
       "40. 'video_width'\n",
       "41. 'video_status'\n",
       "42. 'file_name'\n",
       "43. 'last_modification'\n",
       "44. 'deleted_comments'\n",
       "\n",
       "\n"
      ],
      "text/plain": [
       " [1] \"id\"                     \"state\"                  \"url_project\"           \n",
       " [4] \"url_project_short\"      \"name\"                   \"country\"               \n",
       " [7] \"creator_id\"             \"location_id\"            \"category_id\"           \n",
       "[10] \"created_at\"             \"deadline\"               \"launched_at\"           \n",
       "[13] \"goal\"                   \"pledged\"                \"currency\"              \n",
       "[16] \"currency_symbol\"        \"usd_pledged\"            \"static_usd_rate\"       \n",
       "[19] \"backers_count\"          \"comments_count\"         \"updates_count\"         \n",
       "[22] \"spotlight\"              \"staff_pick\"             \"blurb\"                 \n",
       "[25] \"currency_trailing_code\" \"disable_communication\"  \"photo_url\"             \n",
       "[28] \"profile_blurb\"          \"profile_id\"             \"profile_name\"          \n",
       "[31] \"profile_project_id\"     \"profile_state\"          \"slug\"                  \n",
       "[34] \"url_rewards\"            \"url_updates\"            \"video_id\"              \n",
       "[37] \"video_url_high\"         \"video_url_webm\"         \"video_height\"          \n",
       "[40] \"video_width\"            \"video_status\"           \"file_name\"             \n",
       "[43] \"last_modification\"      \"deleted_comments\"      "
      ]
     },
     "metadata": {},
     "output_type": "display_data"
    }
   ],
   "source": [
    "colnames(projects)"
   ]
  },
  {
   "cell_type": "code",
   "execution_count": 5,
   "metadata": {
    "slideshow": {
     "slide_type": "-"
    }
   },
   "outputs": [
    {
     "data": {
      "text/html": [
       "<table>\n",
       "<caption>A tibble: 6 × 3</caption>\n",
       "<thead>\n",
       "\t<tr><th scope=col>url_project</th><th scope=col>country</th><th scope=col>pledged</th></tr>\n",
       "\t<tr><th scope=col>&lt;chr&gt;</th><th scope=col>&lt;chr&gt;</th><th scope=col>&lt;dbl&gt;</th></tr>\n",
       "</thead>\n",
       "<tbody>\n",
       "\t<tr><td>https://www.kickstarter.com/projects/awakenrealms/lords-of-hellas                            </td><td>GB</td><td>1717793</td></tr>\n",
       "\t<tr><td>https://www.kickstarter.com/projects/playtonic/yooka-laylee-a-3d-platformer-rare-vival       </td><td>GB</td><td>2090104</td></tr>\n",
       "\t<tr><td>https://www.kickstarter.com/projects/torquing/zano-autonomous-intelligent-swarming-nano-drone</td><td>GB</td><td>2335120</td></tr>\n",
       "\t<tr><td>https://www.kickstarter.com/projects/awakenrealms/nemesis-board-game                         </td><td>GB</td><td>3080834</td></tr>\n",
       "\t<tr><td>https://www.kickstarter.com/projects/steamforged/dark-soulstm-the-board-game                 </td><td>GB</td><td>3771475</td></tr>\n",
       "\t<tr><td>https://www.kickstarter.com/projects/awakenrealms/tainted-grail-the-fall-of-avalon           </td><td>GB</td><td>4940031</td></tr>\n",
       "</tbody>\n",
       "</table>\n"
      ],
      "text/latex": [
       "A tibble: 6 × 3\n",
       "\\begin{tabular}{r|lll}\n",
       " url\\_project & country & pledged\\\\\n",
       " <chr> & <chr> & <dbl>\\\\\n",
       "\\hline\n",
       "\t https://www.kickstarter.com/projects/awakenrealms/lords-of-hellas                             & GB & 1717793\\\\\n",
       "\t https://www.kickstarter.com/projects/playtonic/yooka-laylee-a-3d-platformer-rare-vival        & GB & 2090104\\\\\n",
       "\t https://www.kickstarter.com/projects/torquing/zano-autonomous-intelligent-swarming-nano-drone & GB & 2335120\\\\\n",
       "\t https://www.kickstarter.com/projects/awakenrealms/nemesis-board-game                          & GB & 3080834\\\\\n",
       "\t https://www.kickstarter.com/projects/steamforged/dark-soulstm-the-board-game                  & GB & 3771475\\\\\n",
       "\t https://www.kickstarter.com/projects/awakenrealms/tainted-grail-the-fall-of-avalon            & GB & 4940031\\\\\n",
       "\\end{tabular}\n"
      ],
      "text/markdown": [
       "\n",
       "A tibble: 6 × 3\n",
       "\n",
       "| url_project &lt;chr&gt; | country &lt;chr&gt; | pledged &lt;dbl&gt; |\n",
       "|---|---|---|\n",
       "| https://www.kickstarter.com/projects/awakenrealms/lords-of-hellas                             | GB | 1717793 |\n",
       "| https://www.kickstarter.com/projects/playtonic/yooka-laylee-a-3d-platformer-rare-vival        | GB | 2090104 |\n",
       "| https://www.kickstarter.com/projects/torquing/zano-autonomous-intelligent-swarming-nano-drone | GB | 2335120 |\n",
       "| https://www.kickstarter.com/projects/awakenrealms/nemesis-board-game                          | GB | 3080834 |\n",
       "| https://www.kickstarter.com/projects/steamforged/dark-soulstm-the-board-game                  | GB | 3771475 |\n",
       "| https://www.kickstarter.com/projects/awakenrealms/tainted-grail-the-fall-of-avalon            | GB | 4940031 |\n",
       "\n"
      ],
      "text/plain": [
       "  url_project                                                                                  \n",
       "1 https://www.kickstarter.com/projects/awakenrealms/lords-of-hellas                            \n",
       "2 https://www.kickstarter.com/projects/playtonic/yooka-laylee-a-3d-platformer-rare-vival       \n",
       "3 https://www.kickstarter.com/projects/torquing/zano-autonomous-intelligent-swarming-nano-drone\n",
       "4 https://www.kickstarter.com/projects/awakenrealms/nemesis-board-game                         \n",
       "5 https://www.kickstarter.com/projects/steamforged/dark-soulstm-the-board-game                 \n",
       "6 https://www.kickstarter.com/projects/awakenrealms/tainted-grail-the-fall-of-avalon           \n",
       "  country pledged\n",
       "1 GB      1717793\n",
       "2 GB      2090104\n",
       "3 GB      2335120\n",
       "4 GB      3080834\n",
       "5 GB      3771475\n",
       "6 GB      4940031"
      ]
     },
     "metadata": {},
     "output_type": "display_data"
    }
   ],
   "source": [
    "projects_sel <- select(projects, url_project, country, pledged)\n",
    "projects_filt <- filter(projects_sel, country == \"GB\")\n",
    "projects_sorted <- arrange(projects_filt, pledged)\n",
    "projects_coll <- collect(projects_sorted)\n",
    "tail(projects_coll)"
   ]
  },
  {
   "cell_type": "markdown",
   "metadata": {
    "slideshow": {
     "slide_type": "slide"
    }
   },
   "source": [
    "## Question:"
   ]
  },
  {
   "cell_type": "markdown",
   "metadata": {
    "slideshow": {
     "slide_type": "fragment"
    }
   },
   "source": [
    "- Should we use `collect()` before or after working the data into our desired form? Does it matter?"
   ]
  },
  {
   "cell_type": "markdown",
   "metadata": {
    "slideshow": {
     "slide_type": "fragment"
    }
   },
   "source": [
    "- ANSWER: **Yes** it matters; we should use `collect()` **after**."
   ]
  },
  {
   "cell_type": "markdown",
   "metadata": {
    "slideshow": {
     "slide_type": "slide"
    }
   },
   "source": [
    "## But why?"
   ]
  },
  {
   "cell_type": "markdown",
   "metadata": {
    "slideshow": {
     "slide_type": "fragment"
    }
   },
   "source": [
    "- Databases are more efficient at selecting, filtering, and joining large datasets than R."
   ]
  },
  {
   "cell_type": "code",
   "execution_count": 6,
   "metadata": {
    "slideshow": {
     "slide_type": "fragment"
    }
   },
   "outputs": [
    {
     "data": {
      "text/plain": [
       "\u001b[38;5;246m# Source:   lazy query [?? x 1]\u001b[39m\n",
       "\u001b[38;5;246m# Database: postgres [dsci100@r7k3-mds1.stat.ubc.ca:5432/kickstarter]\u001b[39m\n",
       "  n      \n",
       "  \u001b[3m\u001b[38;5;246m<int64>\u001b[39m\u001b[23m\n",
       "\u001b[38;5;250m1\u001b[39m 408637 "
      ]
     },
     "metadata": {},
     "output_type": "display_data"
    }
   ],
   "source": [
    "count(projects)"
   ]
  },
  {
   "cell_type": "markdown",
   "metadata": {
    "slideshow": {
     "slide_type": "fragment"
    }
   },
   "source": [
    "- Thus, we should use `collect()` after working with our data in the database so our code is more efficient and we spend less time waiting for it to run."
   ]
  },
  {
   "cell_type": "markdown",
   "metadata": {
    "slideshow": {
     "slide_type": "slide"
    }
   },
   "source": [
    "Selecting and filtering the `projects` dataset (~408 thousand rows) in R:"
   ]
  },
  {
   "cell_type": "code",
   "execution_count": 7,
   "metadata": {
    "slideshow": {
     "slide_type": "-"
    }
   },
   "outputs": [
    {
     "data": {
      "text/plain": [
       "   user  system elapsed \n",
       " 11.848   0.660  15.758 "
      ]
     },
     "metadata": {},
     "output_type": "display_data"
    }
   ],
   "source": [
    "ptm <- proc.time() ## Start a timer\n",
    "\n",
    "projects_df <- collect(projects)\n",
    "projects_df_selected <- select(projects_df, url_project, country, pledged)\n",
    "projects_df_filtered <- filter(projects_df_selected,\n",
    "                               country == \"GB\")\n",
    "projects_df_sorted <- arrange(projects_df_filtered, pledged)\n",
    "projects_df_tail <- tail(projects_df_sorted)\n",
    "\n",
    "proc.time() - ptm ## Stop the timer"
   ]
  },
  {
   "cell_type": "markdown",
   "metadata": {
    "slideshow": {
     "slide_type": "slide"
    }
   },
   "source": [
    "Doing the same, but using the database instead:"
   ]
  },
  {
   "cell_type": "code",
   "execution_count": 8,
   "metadata": {
    "scrolled": true,
    "slideshow": {
     "slide_type": "-"
    }
   },
   "outputs": [
    {
     "data": {
      "text/plain": [
       "   user  system elapsed \n",
       "  0.070   0.009   0.519 "
      ]
     },
     "metadata": {},
     "output_type": "display_data"
    }
   ],
   "source": [
    "ptm <- proc.time() ## Start a timer\n",
    "\n",
    "projects_selected <- select(projects, url_project, country, pledged)\n",
    "projects_filtered <- filter(projects_selected,\n",
    "                               country == \"GB\")\n",
    "projects_sorted <- arrange(projects_filtered, pledged)\n",
    "projects_collected <- collect(projects_sorted)\n",
    "projects_tail <- tail(projects_collected)\n",
    "\n",
    "proc.time() - ptm ## Stop the timer"
   ]
  }
 ],
 "metadata": {
  "celltoolbar": "Slideshow",
  "kernelspec": {
   "display_name": "R",
   "language": "R",
   "name": "ir"
  },
  "rise" : {
     "transition" : "fade"
  },
  "language_info": {
   "codemirror_mode": "r",
   "file_extension": ".r",
   "mimetype": "text/x-r-source",
   "name": "R",
   "pygments_lexer": "r",
   "version": "3.6.1"
  }
 },
 "nbformat": 4,
 "nbformat_minor": 2
}
