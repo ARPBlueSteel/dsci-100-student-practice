{
 "cells": [
  {
   "cell_type": "markdown",
   "metadata": {
    "slideshow": {
     "slide_type": "slide"
    }
   },
   "source": [
    "# DSCI 100 - Introduction to Data Science\n",
    "\n",
    "\n",
    "## Lecture 1 - Getting started with Jupyter & R\n",
    "\n",
    "<img src=\"img/programming_women.jpg\" width=1000>\n",
    "\n",
    "*Photos/Images by #WOCinTech/#WOCinTech Chat ([CC-BY](https://creativecommons.org/licenses/by/2.0/))*"
   ]
  },
  {
   "cell_type": "markdown",
   "metadata": {
    "slideshow": {
     "slide_type": "slide"
    }
   },
   "source": [
    "## Teaching Team Introductions\n",
    "\n",
    "### Instructor(s):\n",
    "\n",
    "- Section 002: Daniel Chen\n",
    "\n",
    "**For all sections: if you have administrative questions (e.g. are sick and going to miss a quiz), please contact the course coordinator (Daniel Chen)** "
   ]
  },
  {
   "cell_type": "markdown",
   "metadata": {
    "slideshow": {
     "slide_type": "slide"
    }
   },
   "source": [
    "### Teaching Assistants \n",
    "\n",
    "- Amirali Darbandsari\n",
    "- Ding Ma\n",
    "- Eric Li\n",
    "- Eros Rojas\n",
    "- Gautham Pughazhendhi\n",
    "- Nour Hanafi\n",
    "- Simon Liang"
   ]
  },
  {
   "cell_type": "markdown",
   "metadata": {
    "slideshow": {
     "slide_type": "slide"
    }
   },
   "source": [
    "## COVID-19 Policy (If we go back in person)\n",
    "\n",
    "This semester is going to be a bit *odd.* Our primary goal is keeping everyone as safe as possible. See the [COVID-19 Policy](https://ubc-dsci.github.io/dsci-100-student/COVID.html)!\n",
    "\n",
    "- **Seating:** Please stay in the same seat throughout the whole semester.\n",
    "- **Masks:** are mandatory when you are in class.\n",
    "- **Vaccines:** Getting vaccinated is good. Please get vaccinated if you are able to, for your safety and others'."
   ]
  },
  {
   "cell_type": "markdown",
   "metadata": {
    "slideshow": {
     "slide_type": "fragment"
    }
   },
   "source": [
    "- **If you feel unwell, it doesn't matter what it is: STAY. HOME.**\n",
    "    - I will provide recorded lectures\n",
    "    - you can do your assignments remotely\n",
    "    - we can make alternate arrangements for quizzes\n",
    "    - I will drop the lowest worksheet + tutorial score at the end of class\n",
    "    \n",
    "<center><img src=\"https://cdn.dribbble.com/users/5024684/screenshots/10813428/media/8cd2048b42f10a32d67b5775b99f488b.gif\" width=\"500\"/></center>"
   ]
  },
  {
   "cell_type": "markdown",
   "metadata": {
    "slideshow": {
     "slide_type": "slide"
    }
   },
   "source": [
    "## Course Guidelines\n",
    "Visit and abide by the course [Code of Conduct](https://canvas.ubc.ca/courses/53658/modules/items/2152307). \n",
    "\n",
    "Basically: **be good to each other.**\n",
    "\n",
    "- Help other students if they're struggling\n",
    "- Respect others while they speak; don't interrupt\n",
    "- Come to class prepared\n",
    "- Value diversity, respect everyone's ideas\n",
    "- Be aware of how much you are contributing to class\n",
    "    - If you tend to speak often, allow others to speak\n",
    "    - If you tend to stay quiet, challenge yourself to share ideas so others can learn from you \n",
    "- Listen actively, and be mindful of each other's differences \n",
    "- Avoid demeaning, devaluing, or \"putting down\" people \n",
    "- Trust that people are doing the best they can. Be as patient as possible with the learning processes of others\n",
    "- Respect your teaching team, and expect professionalism and respect in return\n",
    "\n",
    "e.g.: Posting a \"let me google that for you\" link on Piazza in response to another student's question. Please don't do this. Remember: students in this class come from a wide variety of backgrounds - **be good to each other!** "
   ]
  },
  {
   "cell_type": "markdown",
   "metadata": {
    "slideshow": {
     "slide_type": "slide"
    }
   },
   "source": [
    "# How do you currently feel about this upcoming semester? \n",
    "#### Put a stamp icon on the line to indicate how you're feeling\n",
    "\n",
    "<img src = \"img/cat_feeling.png\">"
   ]
  },
  {
   "cell_type": "markdown",
   "metadata": {
    "slideshow": {
     "slide_type": "slide"
    }
   },
   "source": [
    "<img src=\"https://media.giphy.com/media/up25s7QBalEmQ/giphy.gif\" width=\"500\">"
   ]
  },
  {
   "cell_type": "markdown",
   "metadata": {
    "slideshow": {
     "slide_type": "fragment"
    }
   },
   "source": [
    "## What *is* data science exactly?\n",
    "\n",
    "**Data science** is the use of *reproducible* and *auditable* processes to obtain value (i.e., insight) from data."
   ]
  },
  {
   "cell_type": "markdown",
   "metadata": {
    "slideshow": {
     "slide_type": "fragment"
    }
   },
   "source": [
    "\n",
    "\n",
    "## High-level goals of this course:"
   ]
  },
  {
   "cell_type": "markdown",
   "metadata": {
    "slideshow": {
     "slide_type": "fragment"
    }
   },
   "source": [
    "1. Learn how to use reproducible tools (Jupyter + R) to do data analysis"
   ]
  },
  {
   "cell_type": "markdown",
   "metadata": {
    "slideshow": {
     "slide_type": "fragment"
    }
   },
   "source": [
    "2. Learn how to identify and solve 4 common problems in data science"
   ]
  },
  {
   "cell_type": "markdown",
   "metadata": {
    "slideshow": {
     "slide_type": "slide"
    }
   },
   "source": [
    "## Problems we will focus on:"
   ]
  },
  {
   "cell_type": "markdown",
   "metadata": {
    "slideshow": {
     "slide_type": "fragment"
    }
   },
   "source": [
    "1. Predict a class/category for a new observation/measurement (*e.g.,* cancerous or benign tumour)"
   ]
  },
  {
   "cell_type": "markdown",
   "metadata": {
    "slideshow": {
     "slide_type": "fragment"
    }
   },
   "source": [
    "2. Predicting a value for a new observation/measurement (e.g., 10 km race time for 20 year old females with a BMI of 25)"
   ]
  },
  {
   "cell_type": "markdown",
   "metadata": {
    "slideshow": {
     "slide_type": "fragment"
    }
   },
   "source": [
    "3. Finding previously unknown/unlabelled subgroups in your data (e.g., products commonly bought together on Amazon)"
   ]
  },
  {
   "cell_type": "markdown",
   "metadata": {
    "slideshow": {
     "slide_type": "fragment"
    }
   },
   "source": [
    "4. Estimating an average or a proportion from a representative sample (group of people or units) and using that estimate to generalize to the broader population (e.g., the proportion of undergraduate students that own an iphone)"
   ]
  },
  {
   "cell_type": "markdown",
   "metadata": {
    "slideshow": {
     "slide_type": "slide"
    }
   },
   "source": [
    "## Brief Canvas walkthrough: \n",
    "\n",
    "https://canvas.ubc.ca/courses/95817\n",
    "\n",
    "Read the [Syllabus](https://ubc-dsci.github.io/dsci-100-student/README.html) and [Frequently Asked Questions](https://ubc-dsci.github.io/dsci-100-student/FAQ.html) pages carefully!\n"
   ]
  },
  {
   "cell_type": "markdown",
   "metadata": {
    "slideshow": {
     "slide_type": "fragment"
    }
   },
   "source": [
    "## TL;DR \n",
    "\n",
    "Yes, you satisfy the math requirement. There is no math requirement. Ignore SIS's scary warnings.\n",
    "\n",
    "<img src=\"https://media.giphy.com/media/l396BM0OLbZFvPQWI/giphy.gif\" width=\"800\">\n",
    "\n",
    "But please do read the syllabus in more detail later!"
   ]
  },
  {
   "cell_type": "markdown",
   "metadata": {
    "slideshow": {
     "slide_type": "slide"
    }
   },
   "source": [
    "### Lecture/Tutorial Structure\n",
    "- We will post a reading before each class. \n",
    "    - e.g. the first chapter is `reading_01`\n",
    "- **The readings often provide example answers for the questions in worksheets and tutorials!**\n",
    "- We will kick off each lecture with a little intro\n",
    "    - the slides should be up before each lecture, e.g. `slides_01`\n",
    "- You will have one *graded* assignment per lecture / tutorial\n",
    "    - Lecture worksheets start Tuesday in class, due **Saturday 11:59pm**\n",
    "    - Tutorial worksheets start Thursday in class, due **Saturday 11:59pm**\n",
    "- But we're in 2x summer session!\n",
    "    - Lecture 2 worksheets start Tuesday in class, due **Sunday 11:59pm**\n",
    "    - Tutorial 2 worksheets start Thursday in class, due **Sunday 11:59pm**\n",
    "- There will usually be an *ungraded* activity/demo in lectures and tutorials"
   ]
  },
  {
   "cell_type": "markdown",
   "metadata": {
    "slideshow": {
     "slide_type": "notes"
    }
   },
   "source": [
    "### Assignments\n",
    "\n",
    "- 2 Lectures on Tuesday. \n",
    "    - Lecture 1 worksheets (e.g. `worksheet_intro`) are due **Saturdays at 11:59pm**\n",
    "    - Lecture 2 worksheets (e.g. `worksheet_reading`) are due **Sundays at 11:59pm** \n",
    "- 2 Tutorials on Tuesdays. \n",
    "    - Tutorial 1 worksheets (e.g. `tutorial_intro`) are due **Saturdays at 11:59pm** \n",
    "    - Tutorial 2 worksheets (e.g. `tutorial_reading`) are due **Sundays at 11:59pm** \n",
    "- no \"submit button\" - our server takes a snapshot at the due date/time \n",
    "- please make sure you **manually save your work! Do not rely on automatic checkpoints!**  \n",
    "- the server should basically be on 24 / 7. I will give notice before I shut it down (barring any emergencies).\n",
    "- see the course syllabus for two common mistakes to avoid for autograded assignments\n",
    "- Each worksheet is not worth a lot of points -- they are designed to help you learn, not evaluate you. \n",
    "    - **please do collaborate, but do not copy!**\n",
    "    - We won't give extensions for weekly assignments. We will drop the lowest grade for each worksheet and tutorial at the end of the semester."
   ]
  },
  {
   "cell_type": "markdown",
   "metadata": {
    "slideshow": {
     "slide_type": "slide"
    }
   },
   "source": [
    "### Main Evaluations\n",
    "\n",
    "- three quizzes, each covering ~4 weeks of material\n",
    "    - sections 002: Quiz 1 & 2 will be **in person**\n",
    "    - *all sections*: Quiz 3 (final exam) will be **in person**\n",
    "- a group project"
   ]
  },
  {
   "cell_type": "markdown",
   "metadata": {
    "slideshow": {
     "slide_type": "slide"
    }
   },
   "source": [
    "### Collaborate!\n",
    "- Talk to each other (in class, on Piazza) as you work through the worksheets and tutorials\n",
    "- Group project at middle-end of course\n",
    "- You will be working with the same people every week \n",
    "    - get to know one another; let's build a community where we help each other learn both during and outside of class!"
   ]
  },
  {
   "cell_type": "markdown",
   "metadata": {
    "slideshow": {
     "slide_type": "slide"
    }
   },
   "source": [
    "### First week learning goals:"
   ]
  },
  {
   "cell_type": "markdown",
   "metadata": {
    "slideshow": {
     "slide_type": "fragment"
    }
   },
   "source": [
    "- Edit and execute code and markdown in Jupyter notebooks"
   ]
  },
  {
   "cell_type": "markdown",
   "metadata": {
    "slideshow": {
     "slide_type": "fragment"
    }
   },
   "source": [
    "- Do the basics of data manipulation and visualization in R"
   ]
  },
  {
   "cell_type": "markdown",
   "metadata": {
    "slideshow": {
     "slide_type": "fragment"
    }
   },
   "source": [
    "- Use the help and documentation tools in R"
   ]
  },
  {
   "cell_type": "markdown",
   "metadata": {
    "slideshow": {
     "slide_type": "slide"
    }
   },
   "source": [
    "## We've got a lot to do - let's get started!\n",
    "\n",
    "<img src=\"https://media.giphy.com/media/6onMzNPjtFeCI/giphy.gif\" width=\"800\">"
   ]
  },
  {
   "cell_type": "markdown",
   "metadata": {
    "slideshow": {
     "slide_type": "fragment"
    }
   },
   "source": [
    "I'll begin with a quick Jupyter notebook demo using your first assignment, [Worksheet 1](https://canvas.ubc.ca/courses/95817)"
   ]
  },
  {
   "cell_type": "markdown",
   "metadata": {
    "slideshow": {
     "slide_type": "slide"
    }
   },
   "source": [
    "## Now it's your turn!\n",
    "\n",
    "- Navigate to Canvas, open `worksheet_intro`\n"
   ]
  },
  {
   "cell_type": "markdown",
   "metadata": {
    "slideshow": {
     "slide_type": "fragment"
    }
   },
   "source": [
    "**Note:** You will all be using a shiny brand new server that we host in the Statistics department. This course is \"bleeding edge\" -- we do a lot of things that no other course does behind the scenes. So:\n",
    "- cross your fingers that this works\n",
    "- be patient if it doesn't. I will do my best to debug things as quickly as possible\n",
    "- I will always be fair about deadlines/grading/etc when our hardware acts up."
   ]
  },
  {
   "cell_type": "markdown",
   "metadata": {
    "slideshow": {
     "slide_type": "slide"
    }
   },
   "source": [
    "## Group work\n",
    "\n",
    "- Discuss with your neighbours, the TAs & Instructors, and consult [the textbook reading](https://ubc-dsci.github.io/introduction-to-datascience/) to help you get unstuck when needed!\n",
    "- You can work with each other to code/ask each other questions and \"ask for help\" to ask me or the TAs questions\n",
    "\n",
    "### Group Roles\n",
    "\n",
    "**How long was your commute for class?**\n",
    "\n",
    "Assign the following roles based on who had the longest commute: \n",
    "1. **Facilitator** (longest commute): Keeps group on task and verifies that all contribute.\n",
    "1. **Recorder/Screen sharer**: Takes notes on important thoughts expressed in the group. Writes down any questions the group has for the TA or instructor. If TA/instructor joins your group, recorder asks the TA/instructor your question(s). Shares screen with group.\n",
    "1. **Time Keeper/Reporter**: Keeps track of time and reminds group how much time is left. Shares summary of group with large group. Speaks for the group, not just personal view.\n",
    "1. **Editor**  (shortest commute): Checks for accuracy and clarity of thinking during discussions. Checks written work and tracks points."
   ]
  },
  {
   "cell_type": "markdown",
   "metadata": {
    "slideshow": {
     "slide_type": "slide"
    }
   },
   "source": [
    "## Class activity:\n",
    "\n",
    "\n",
    "### Practice using LaTeX and code formatting in Piazza!\n",
    "\n",
    "Your task: Create a Piazza post in the `other` folder to say hello and introduce yourself to everyone. In that post include the following code formatted as code, and the following LaTeX formatted as Math:\n",
    "\n",
    "Code to include:\n",
    "```\n",
    "whyamihere <- \"to learn data science!\"\n",
    "```\n",
    "\n",
    "LaTeX to include:\n",
    "```\n",
    "data = (statistics + computer \\: science)^2\n",
    "```"
   ]
  },
  {
   "cell_type": "markdown",
   "metadata": {
    "slideshow": {
     "slide_type": "slide"
    }
   },
   "source": [
    "## What did we learn today?\n",
    "\n",
    "- \n",
    "\n",
    "- \n",
    "\n",
    "- "
   ]
  },
  {
   "cell_type": "markdown",
   "metadata": {
    "slideshow": {
     "slide_type": "skip"
    }
   },
   "source": [
    "# Active listening \n"
   ]
  },
  {
   "cell_type": "markdown",
   "metadata": {
    "slideshow": {
     "slide_type": "skip"
    }
   },
   "source": [
    "- Active listening behaviours are important to having a good conversation."
   ]
  },
  {
   "cell_type": "markdown",
   "metadata": {
    "slideshow": {
     "slide_type": "skip"
    }
   },
   "source": [
    "- Without active listening the speaker is left wondering if anyone is actually on the call (has everyone run off to get a coffee??) or whether their microphone has stopped working. "
   ]
  },
  {
   "cell_type": "markdown",
   "metadata": {
    "slideshow": {
     "slide_type": "skip"
    }
   },
   "source": [
    "\n",
    "## Video and audio\n",
    "If you have access to both video and audio on Zoom (either by technical availability, or choosing to turn on your camera), below are ways you can perform active listening on Zoom to cue to someone you are speaking with that they can hear you.\n",
    "\n",
    "- In large groups, where the gallery view may take > 1 page on Zoom, or when the speaker is screen sharing, nodding of your head and the thumbs up 👍 and 👏 reactions on Zoom are likely to be missed by the speaker.\n",
    "    - selecting the thumbs up 👍 or clapping 👏 icon from the **participant panel** is the preferred way of demonstrating that you are following along. *Be sure to clear them when you are done expressing your active listening because these emoji's these remain present until you (or the meeting host) clears them.*"
   ]
  },
  {
   "cell_type": "markdown",
   "metadata": {
    "slideshow": {
     "slide_type": "skip"
    }
   },
   "source": [
    "- In small groups, \n",
    "    - body language that is viewable via your camera is one way to signal to others that you are listening (similar to a face-to-face conversation) e.g. looking at the camera, nodding when you agree\n",
    "    - using the thumbs up 👍 or clapping 👏 reaction on Zoom is another way to signal that you are listening. You can use this in place of nodding if you prefer, or to provide emphasis on top of nodding."
   ]
  },
  {
   "cell_type": "markdown",
   "metadata": {
    "slideshow": {
     "slide_type": "skip"
    }
   },
   "source": [
    "## Audio only\n",
    "If you only have access to audio on Zoom (either by technical availability, or by choosing to not turn on your camera), below are ways you can perform active listening on Zoom to cue to someone you are speaking with that they can hear you.\n",
    "\n",
    "- In large groups,\n",
    "    - selecting the thumbs up 👍 or clapping 👏 icon from the participant panel is the preferred way of demonstrating that you are following along. *Be sure to clear them when you are done expressing your active listening because these emoji's these remain present until you (or the meeting host) clears them.*"
   ]
  },
  {
   "cell_type": "markdown",
   "metadata": {
    "slideshow": {
     "slide_type": "skip"
    }
   },
   "source": [
    "- In small groups, \n",
    "    - unmute yourself and treat the call like a phone call, inserting verbal nods (e.g., “Uh-huh”, \"I see\", \"Please go on\") where appropriate.\n",
    "    - using the thumbs up 👍 or clapping 👏 reaction on Zoom is one way to signal that you are listening. You can use this in place of nodding if you prefer, or to provide emphasis on top of nodding."
   ]
  },
  {
   "cell_type": "markdown",
   "metadata": {
    "slideshow": {
     "slide_type": "skip"
    }
   },
   "source": [
    "## Activity 1 (video & audio): Large group \n",
    "Cameras on if you can. As I tell this story, practice using the **participants panel** thumbs up 👍 or clapping 👏 icons to listen actively. I will be paying attention to that panel.\n"
   ]
  },
  {
   "cell_type": "markdown",
   "metadata": {
    "slideshow": {
     "slide_type": "skip"
    }
   },
   "source": [
    "## Activity 1 (video & audio): Small groups \n",
    "Cameras on if you can. \n",
    "In your small breakout rooms, when you enter the room, please go into gallery mode. \n",
    "\n",
    "Each of you can take turns speaking:\n",
    "- Speaker: Introduce yourself. Tell your story of why you decided to enrol in DSCI100 (~ 1 minute each). \n",
    "- Listeners: practice active listening using either body language that is viewable in the camera, or the thumbs up 👍 and 👏 reactions on Zoom."
   ]
  },
  {
   "cell_type": "markdown",
   "metadata": {
    "slideshow": {
     "slide_type": "skip"
    }
   },
   "source": [
    "## Activity 2 (audio only): Large group\n",
    "**Cameras off now!** In this large meeting, I am going to tell a little story about why I use version control and ask you a few questions as I do so. As I tell this talk, practice using the participants panel thumbs up 👍 or clapping 👏 icons to listen actively and/or answer questions. I will be paying attention to that panel."
   ]
  },
  {
   "cell_type": "markdown",
   "metadata": {
    "slideshow": {
     "slide_type": "skip"
    }
   },
   "source": [
    "## Activity 2 (audio only): Small groups \n",
    "**Cameras off now!** \n",
    "In your breakout rooms, each of can take turns speaking: \n",
    "- Speaker: tell your story of what you are most excited to learn in DSCI100 (~ 1 minute each).\n",
    "- Listeners: The others in the room should practice active listening using either by unmuting and providing verbal nods, or the thumbs up 👍 and 👏 reactions on Zoom. We encourage you to try both in this activity!"
   ]
  }
 ],
 "metadata": {
  "celltoolbar": "Slideshow",
  "kernelspec": {
   "display_name": "R",
   "language": "R",
   "name": "ir"
  },
  "language_info": {
   "codemirror_mode": "r",
   "file_extension": ".r",
   "mimetype": "text/x-r-source",
   "name": "R",
   "pygments_lexer": "r",
   "version": "4.0.0"
  },
  "rise": {
   "scroll": true,
   "transition": "fade"
  }
 },
 "nbformat": 4,
 "nbformat_minor": 2
}
