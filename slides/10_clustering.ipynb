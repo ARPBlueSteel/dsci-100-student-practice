{
 "cells": [
  {
   "cell_type": "markdown",
   "metadata": {
    "slideshow": {
     "slide_type": "slide"
    }
   },
   "source": [
    "## DSCI 100 - Introduction to Data Science\n",
    "\n",
    "\n",
    "### Lecture 10 - Clustering\n",
    "\n",
    "<img src=\"https://upload.wikimedia.org/wikipedia/commons/thumb/c/c8/Cluster-2.svg/1920px-Cluster-2.svg.png\" width = 700>\n",
    "\n",
    "Image: https://commons.wikimedia.org/w/index.php?curid=9442336"
   ]
  },
  {
   "cell_type": "markdown",
   "metadata": {
    "slideshow": {
     "slide_type": "slide"
    }
   },
   "source": [
    "## Housekeeping \n",
    "\n",
    "1. Quiz 2: Thursday June 16 @ 10:30 AM PDT\n",
    "   - Section 002: HENN 200 \n",
    "2. Quiz 2 covers: version control, classification I, classification II and regression I (not regression II) \n",
    "3. Quiz 1 grades are out (see announcement) \n",
    "4. Reminder: Project + team evals due -- see announcement"
   ]
  },
  {
   "cell_type": "markdown",
   "metadata": {
    "slideshow": {
     "slide_type": "slide"
    }
   },
   "source": [
    "## Supervised Learning vs Unsupervised Learning \n",
    "\n",
    "- **Supervised learning**: We are given data that are **labelled** with a predictive target (e.g. category or numerical value) and we will use this data to make predictions for future data.\n",
    "    - classification: given tumour image, predict *malignant* or *benign* (category)\n",
    "    - regression: given age, weight, and sex, predict *marathon race time* (numerical)\n",
    "\n",
    "- **Unsupervised learning**: We are given **unlabelled** data, and the task is to find structure or patterns in the data\n",
    "\n"
   ]
  },
  {
   "cell_type": "markdown",
   "metadata": {
    "slideshow": {
     "slide_type": "fragment"
    }
   },
   "source": [
    "## Clustering\n",
    "- **Clustering** is the unsupervised learning task of separating data into groups by similarity\n",
    "- Useful for exploratory analysis, developing new questions, and subgrouping to improve predictive models\n",
    "\n",
    "<img src=\"https://upload.wikimedia.org/wikipedia/commons/thumb/c/c8/Cluster-2.svg/1920px-Cluster-2.svg.png\" width = 500>"
   ]
  },
  {
   "cell_type": "markdown",
   "metadata": {
    "slideshow": {
     "slide_type": "slide"
    }
   },
   "source": [
    "### Examples  \n",
    "\n",
    "Clustering similar movies (to understand user preferences and make recommendations)\n",
    "<img src=\"img/netflix.png\" width=\"600\"/> "
   ]
  },
  {
   "cell_type": "markdown",
   "metadata": {
    "slideshow": {
     "slide_type": "fragment"
    }
   },
   "source": [
    "Clustering similar products (to avoid advertising for a product similar to one already purchased)   \n",
    "<img src=\"img/amazon.png\" width=\"600\"/> "
   ]
  },
  {
   "cell_type": "markdown",
   "metadata": {
    "slideshow": {
     "slide_type": "slide"
    }
   },
   "source": [
    "## Which ones are clustering problems?\n",
    "\n",
    "1. Predict the score a student will get on the MCAT exam based on their past grades, the school they attended, and study habits\n"
   ]
  },
  {
   "cell_type": "markdown",
   "metadata": {
    "slideshow": {
     "slide_type": "fragment"
    }
   },
   "source": [
    "\n",
    "2. Determine if there are patterns in the past grades, the school they attended, and self-reported study habits of students who take the MCAT, LSAT, and DAT exams.\n"
   ]
  },
  {
   "cell_type": "markdown",
   "metadata": {
    "slideshow": {
     "slide_type": "fragment"
    }
   },
   "source": [
    "3. Separate photos into groups based on the labeled location of where the photo was taken\n"
   ]
  },
  {
   "cell_type": "markdown",
   "metadata": {
    "slideshow": {
     "slide_type": "fragment"
    }
   },
   "source": [
    "4. Separate photos into 5 distinct piles based on the photo images"
   ]
  },
  {
   "cell_type": "markdown",
   "metadata": {
    "slideshow": {
     "slide_type": "slide"
    }
   },
   "source": [
    "## K-Means clustering algorithm\n",
    "\n",
    "K-Means is an algorithm for separating data into K clusters\n",
    "\n",
    "*Illustrations by Allison Horst @allison_horst*\n",
    "<img src=\"https://github.com/allisonhorst/stats-illustrations/blob/master/other-stats-artwork/kmeans_1.jpg?raw=true\" width = 700>"
   ]
  },
  {
   "cell_type": "markdown",
   "metadata": {
    "slideshow": {
     "slide_type": "slide"
    }
   },
   "source": [
    "<img src = https://raw.githubusercontent.com/allisonhorst/stats-illustrations/master/other-stats-artwork/kmeans_2.jpg width = 700>"
   ]
  },
  {
   "cell_type": "markdown",
   "metadata": {
    "slideshow": {
     "slide_type": "slide"
    }
   },
   "source": [
    "<img src=\"https://github.com/allisonhorst/stats-illustrations/raw/master/other-stats-artwork/kmeans_3.jpg\" width = 700>"
   ]
  },
  {
   "cell_type": "markdown",
   "metadata": {
    "slideshow": {
     "slide_type": "slide"
    }
   },
   "source": [
    "<img src=\"https://github.com/allisonhorst/stats-illustrations/blob/master/other-stats-artwork/kmeans_4.jpg?raw=true\" width=700 >"
   ]
  },
  {
   "cell_type": "markdown",
   "metadata": {
    "slideshow": {
     "slide_type": "slide"
    }
   },
   "source": [
    "<img src=\"https://github.com/allisonhorst/stats-illustrations/blob/master/other-stats-artwork/kmeans_5.jpg?raw=true\" width = 700>"
   ]
  },
  {
   "cell_type": "markdown",
   "metadata": {
    "slideshow": {
     "slide_type": "slide"
    }
   },
   "source": [
    "<img src=\"https://github.com/allisonhorst/stats-illustrations/blob/master/other-stats-artwork/kmeans_6.jpg?raw=true\" width = 700>\n"
   ]
  },
  {
   "cell_type": "markdown",
   "metadata": {
    "slideshow": {
     "slide_type": "slide"
    }
   },
   "source": [
    "<img src=\"https://github.com/allisonhorst/stats-illustrations/blob/master/other-stats-artwork/kmeans_7.jpg?raw=true\" width = 700> \n"
   ]
  },
  {
   "cell_type": "markdown",
   "metadata": {
    "slideshow": {
     "slide_type": "slide"
    }
   },
   "source": [
    "<img src=\"https://github.com/allisonhorst/stats-illustrations/blob/master/other-stats-artwork/kmeans_8.jpg?raw=true\" width = 700> "
   ]
  },
  {
   "cell_type": "markdown",
   "metadata": {
    "slideshow": {
     "slide_type": "slide"
    }
   },
   "source": [
    "<img src=\"https://github.com/allisonhorst/stats-illustrations/blob/master/other-stats-artwork/kmeans_9.jpg?raw=true\" width = 700>"
   ]
  },
  {
   "cell_type": "markdown",
   "metadata": {
    "slideshow": {
     "slide_type": "slide"
    }
   },
   "source": [
    "<img src=\"https://github.com/allisonhorst/stats-illustrations/blob/master/other-stats-artwork/kmeans_11.jpg?raw=true\" width = 700> "
   ]
  },
  {
   "cell_type": "markdown",
   "metadata": {
    "slideshow": {
     "slide_type": "slide"
    }
   },
   "source": [
    "<img src = \"https://github.com/allisonhorst/stats-illustrations/blob/master/other-stats-artwork/kmeans_12.jpg?raw=true\" width = 700>"
   ]
  },
  {
   "cell_type": "markdown",
   "metadata": {
    "slideshow": {
     "slide_type": "slide"
    }
   },
   "source": [
    "# K-Means Clustering Animation:\n",
    "\n",
    "http://shabal.in/visuals/kmeans/1.html"
   ]
  },
  {
   "cell_type": "markdown",
   "metadata": {
    "slideshow": {
     "slide_type": "slide"
    }
   },
   "source": [
    "## K-Means clustering summary\n",
    "\n",
    "1. **Pick K:** number of clusters to group the observations\n",
    "2. **Initialize:** assign data to K clusters randomly\n",
    "3. **Iterate:**\n",
    "    1. **Update Center:** calculate average coordinates of each cluster\n",
    "    2. **Update Label:** re-assign the data to the closest cluster center \n",
    "    3. **Check:** If no labels changed, terminate. "
   ]
  },
  {
   "cell_type": "markdown",
   "metadata": {
    "slideshow": {
     "slide_type": "slide"
    }
   },
   "source": [
    "# Choosing K\n",
    "\n",
    "The one remaining thing to do is specify K, the number of clusters.\n",
    "\n",
    "What value of K would *you* pick in this customer loyalty data example? Why?\n",
    "\n",
    "<img src=\"img/kmeans-data.png\" width=800> "
   ]
  },
  {
   "cell_type": "markdown",
   "metadata": {
    "slideshow": {
     "slide_type": "slide"
    }
   },
   "source": [
    "# Choosing K\n",
    "\n",
    "- K too small misses the clusters entirely\n",
    "- K too large \"subdivides\" the clusters\n",
    "- K = 3 looks just right; captures clusters, does not subdivide\n",
    "\n",
    "<img src=\"img/kmeans-vary-k.png\" width=1200>\n"
   ]
  },
  {
   "cell_type": "markdown",
   "metadata": {
    "slideshow": {
     "slide_type": "slide"
    }
   },
   "source": [
    "## What is a \"good\" cluster?\n",
    "\n",
    "A good cluster of data is \"tightly packed\" around its centroid, i.e., has a small **within-cluster sum-of-squared-distances (WSSD)**\n",
    "1. Compute the mean (*center*) of the data in the cluster (red point below)\n",
    "2. Add up the squared distance between each point and the center (lines)\n",
    "\n",
    "More than one cluster: add the WSSD for each cluster to get the **total WSSD!**\n",
    "\n",
    "<img src=\"img/kmeans-wssd-2.png\" width=800>"
   ]
  },
  {
   "cell_type": "markdown",
   "metadata": {
    "slideshow": {
     "slide_type": "slide"
    }
   },
   "source": [
    "## Choosing K\n",
    "\n",
    "Let's look at the total WSSD as we vary K. \n",
    "\n",
    "Can we just choose K to give us the smallest total WSSD?\n",
    "\n",
    "<img src=\"img/kmeans-elbow.png\" width=1200>"
   ]
  },
  {
   "cell_type": "markdown",
   "metadata": {
    "slideshow": {
     "slide_type": "fragment"
    }
   },
   "source": [
    "- If **K is too small**, the centers are bad representatives of the clusters, and **total WSSD is high**\n",
    "- If **K is too large**, the clusters get \"subdivided\", leading to a **slow decrease in total WSSD**\n",
    "\n",
    "**Pick K where the \"elbow\" occurs!** (if there is no obvious elbow, the data may not be very strongly clustered)"
   ]
  },
  {
   "cell_type": "markdown",
   "metadata": {
    "slideshow": {
     "slide_type": "slide"
    }
   },
   "source": [
    "## Random Initialization\n",
    "\n",
    "- K-means is an *iterative* algorithm, unlike our past K-NN and linear classification/regression models\n",
    "- It will find different final clusterings depending on initialization\n",
    "- Use `set.seed()` and the `nstart` argument in R's implementation of the algorithm.\n",
    "\n",
    "`kmeans(data, centers, **nstart**, ...)`\n",
    "\n",
    "\n",
    "Otherwise, you might end up with something like this:\n",
    "\n",
    "<img src=\"img/kmeans-animated-bad.gif\" width=800> \n"
   ]
  },
  {
   "cell_type": "markdown",
   "metadata": {
    "slideshow": {
     "slide_type": "slide"
    }
   },
   "source": [
    "### Advantages\n",
    "- Easy to implement and interpret\n",
    "- Computationally more efficient than other clustering algorithms\n"
   ]
  },
  {
   "cell_type": "markdown",
   "metadata": {
    "slideshow": {
     "slide_type": "fragment"
    }
   },
   "source": [
    "### Disadvantages\n",
    "- Need to specify K\n",
    "- Dependent on initialization\n",
    "- Sensitive to scale of features (need to normalize/standardize)"
   ]
  },
  {
   "cell_type": "markdown",
   "metadata": {
    "slideshow": {
     "slide_type": "slide"
    }
   },
   "source": [
    "## Time to see if there is a pattern in the data!\n",
    "\n",
    "<img src=\"https://blog.revolutionanalytics.com/downloads/DataSaurus%20Dozen.gif\" width=900>"
   ]
  }
 ],
 "metadata": {
  "celltoolbar": "Slideshow",
  "kernelspec": {
   "display_name": "R",
   "language": "R",
   "name": "ir"
  },
  "language_info": {
   "codemirror_mode": "r",
   "file_extension": ".r",
   "mimetype": "text/x-r-source",
   "name": "R",
   "pygments_lexer": "r",
   "version": "4.0.0"
  },
  "rise": {
   "transition": "fade"
  }
 },
 "nbformat": 4,
 "nbformat_minor": 2
}
