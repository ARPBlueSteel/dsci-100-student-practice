{
 "cells": [
  {
   "cell_type": "markdown",
   "metadata": {
    "slideshow": {
     "slide_type": "slide"
    }
   },
   "source": [
    "# Class challenge\n",
    "Suppose we have a new observation in the iris dataset, with\n",
    "\n",
    "- petal length = 5\n",
    "- petal width = 0.6\n",
    "\n",
    "Using R and the caret package, how would you classify this observation based on $k=3$ nearest neighbours?\n",
    "<br>Create a plot to visualize the relationship between the predictors/features.\n",
    "<br>Work with your group and post your answer on Piazza."
   ]
  },
  {
   "cell_type": "markdown",
   "metadata": {
    "slideshow": {
     "slide_type": "slide"
    }
   },
   "source": [
    "## Step 1\n",
    "- Load the necessary libraries"
   ]
  },
  {
   "cell_type": "code",
   "execution_count": 1,
   "metadata": {
    "slideshow": {
     "slide_type": "fragment"
    }
   },
   "outputs": [
    {
     "name": "stderr",
     "output_type": "stream",
     "text": [
      "── \u001b[1mAttaching packages\u001b[22m ─────────────────────────────────────── tidyverse 1.2.1 ──\n",
      "\u001b[32m✔\u001b[39m \u001b[34mggplot2\u001b[39m 3.2.0     \u001b[32m✔\u001b[39m \u001b[34mpurrr  \u001b[39m 0.3.2\n",
      "\u001b[32m✔\u001b[39m \u001b[34mtibble \u001b[39m 2.1.3     \u001b[32m✔\u001b[39m \u001b[34mdplyr  \u001b[39m 0.8.3\n",
      "\u001b[32m✔\u001b[39m \u001b[34mtidyr  \u001b[39m 0.8.3     \u001b[32m✔\u001b[39m \u001b[34mstringr\u001b[39m 1.4.0\n",
      "\u001b[32m✔\u001b[39m \u001b[34mreadr  \u001b[39m 1.3.1     \u001b[32m✔\u001b[39m \u001b[34mforcats\u001b[39m 0.4.0\n",
      "── \u001b[1mConflicts\u001b[22m ────────────────────────────────────────── tidyverse_conflicts() ──\n",
      "\u001b[31m✖\u001b[39m \u001b[34mdplyr\u001b[39m::\u001b[32mfilter()\u001b[39m masks \u001b[34mstats\u001b[39m::filter()\n",
      "\u001b[31m✖\u001b[39m \u001b[34mdplyr\u001b[39m::\u001b[32mlag()\u001b[39m    masks \u001b[34mstats\u001b[39m::lag()\n",
      "Loading required package: lattice\n",
      "\n",
      "Attaching package: ‘caret’\n",
      "\n",
      "The following object is masked from ‘package:purrr’:\n",
      "\n",
      "    lift\n",
      "\n"
     ]
    }
   ],
   "source": [
    "library(tidyverse)\n",
    "library(caret)"
   ]
  },
  {
   "cell_type": "markdown",
   "metadata": {
    "slideshow": {
     "slide_type": "slide"
    }
   },
   "source": [
    "## Step 2\n",
    "- Load the data\n",
    "- Preview it using `head()` or `glimpse()`"
   ]
  },
  {
   "cell_type": "code",
   "execution_count": 2,
   "metadata": {
    "slideshow": {
     "slide_type": "fragment"
    }
   },
   "outputs": [
    {
     "name": "stdout",
     "output_type": "stream",
     "text": [
      "Observations: 150\n",
      "Variables: 5\n",
      "$ Sepal.Length \u001b[3m\u001b[90m<dbl>\u001b[39m\u001b[23m 5.1, 4.9, 4.7, 4.6, 5.0, 5.4, 4.6, 5.0, 4.4, 4.9, 5.4, 4…\n",
      "$ Sepal.Width  \u001b[3m\u001b[90m<dbl>\u001b[39m\u001b[23m 3.5, 3.0, 3.2, 3.1, 3.6, 3.9, 3.4, 3.4, 2.9, 3.1, 3.7, 3…\n",
      "$ Petal.Length \u001b[3m\u001b[90m<dbl>\u001b[39m\u001b[23m 1.4, 1.4, 1.3, 1.5, 1.4, 1.7, 1.4, 1.5, 1.4, 1.5, 1.5, 1…\n",
      "$ Petal.Width  \u001b[3m\u001b[90m<dbl>\u001b[39m\u001b[23m 0.2, 0.2, 0.2, 0.2, 0.2, 0.4, 0.3, 0.2, 0.2, 0.1, 0.2, 0…\n",
      "$ Species      \u001b[3m\u001b[90m<fct>\u001b[39m\u001b[23m setosa, setosa, setosa, setosa, setosa, setosa, setosa, …\n"
     ]
    }
   ],
   "source": [
    "glimpse(iris)"
   ]
  },
  {
   "cell_type": "markdown",
   "metadata": {
    "slideshow": {
     "slide_type": "slide"
    }
   },
   "source": [
    "## Step 3\n",
    "- Explore the data"
   ]
  },
  {
   "cell_type": "code",
   "execution_count": 3,
   "metadata": {
    "slideshow": {
     "slide_type": "fragment"
    }
   },
   "outputs": [
    {
     "data": {
      "text/html": [
       "<table>\n",
       "<caption>A tibble: 3 × 3</caption>\n",
       "<thead>\n",
       "\t<tr><th scope=col>Species</th><th scope=col>n</th><th scope=col>percentage</th></tr>\n",
       "\t<tr><th scope=col>&lt;fct&gt;</th><th scope=col>&lt;int&gt;</th><th scope=col>&lt;dbl&gt;</th></tr>\n",
       "</thead>\n",
       "<tbody>\n",
       "\t<tr><td>setosa    </td><td>50</td><td>33.33333</td></tr>\n",
       "\t<tr><td>versicolor</td><td>50</td><td>33.33333</td></tr>\n",
       "\t<tr><td>virginica </td><td>50</td><td>33.33333</td></tr>\n",
       "</tbody>\n",
       "</table>\n"
      ],
      "text/latex": [
       "A tibble: 3 × 3\n",
       "\\begin{tabular}{r|lll}\n",
       " Species & n & percentage\\\\\n",
       " <fct> & <int> & <dbl>\\\\\n",
       "\\hline\n",
       "\t setosa     & 50 & 33.33333\\\\\n",
       "\t versicolor & 50 & 33.33333\\\\\n",
       "\t virginica  & 50 & 33.33333\\\\\n",
       "\\end{tabular}\n"
      ],
      "text/markdown": [
       "\n",
       "A tibble: 3 × 3\n",
       "\n",
       "| Species &lt;fct&gt; | n &lt;int&gt; | percentage &lt;dbl&gt; |\n",
       "|---|---|---|\n",
       "| setosa     | 50 | 33.33333 |\n",
       "| versicolor | 50 | 33.33333 |\n",
       "| virginica  | 50 | 33.33333 |\n",
       "\n"
      ],
      "text/plain": [
       "  Species    n  percentage\n",
       "1 setosa     50 33.33333  \n",
       "2 versicolor 50 33.33333  \n",
       "3 virginica  50 33.33333  "
      ]
     },
     "metadata": {},
     "output_type": "display_data"
    }
   ],
   "source": [
    "num_obs <- nrow(iris)\n",
    "iris %>% \n",
    "  group_by(Species) %>% \n",
    "  summarize(n = n(),\n",
    "            percentage = n() / num_obs * 100)"
   ]
  },
  {
   "cell_type": "markdown",
   "metadata": {
    "slideshow": {
     "slide_type": "slide"
    }
   },
   "source": [
    "## Step 4\n",
    "- Create a visualization to see the relationship between the explanatory variables/predictors"
   ]
  },
  {
   "cell_type": "code",
   "execution_count": 4,
   "metadata": {
    "slideshow": {
     "slide_type": "fragment"
    }
   },
   "outputs": [
    {
     "data": {
      "image/png": "iVBORw0KGgoAAAANSUhEUgAAAtAAAAFoCAIAAADxRFtOAAAACXBIWXMAABJ0AAASdAHeZh94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",
      "text/plain": [
       "plot without title"
      ]
     },
     "metadata": {},
     "output_type": "display_data"
    }
   ],
   "source": [
    "options(repr.plot.width = 6, repr.plot.height = 3)\n",
    "ggplot(iris, aes(x = Petal.Length, y = Petal.Width, color = Species)) +\n",
    "    geom_point()"
   ]
  },
  {
   "cell_type": "markdown",
   "metadata": {
    "slideshow": {
     "slide_type": "slide"
    }
   },
   "source": [
    "## Step 5\n",
    "- If the class we are predicting is *not* a factor, mutate it to one\n",
    "- Otherwise, \n",
    "    - store predictors as a new data.frame\n",
    "    - store class labels as a vector"
   ]
  },
  {
   "cell_type": "code",
   "execution_count": 5,
   "metadata": {
    "slideshow": {
     "slide_type": "fragment"
    }
   },
   "outputs": [],
   "source": [
    "X_train <- select(iris, Petal.Length, Petal.Width) %>% data.frame()\n",
    "Y_train <- select(iris, Species) %>% unlist()"
   ]
  },
  {
   "cell_type": "markdown",
   "metadata": {
    "slideshow": {
     "slide_type": "slide"
    }
   },
   "source": [
    "## Step 6\n",
    "- Store the k-value as a data.frame\n",
    "- Train your knn classification model using `train()`"
   ]
  },
  {
   "cell_type": "code",
   "execution_count": 6,
   "metadata": {
    "slideshow": {
     "slide_type": "fragment"
    }
   },
   "outputs": [],
   "source": [
    "k = data.frame(k = 3)\n",
    "model_knn <- train(x = X_train, y = Y_train, method='knn', tuneGrid = k)"
   ]
  },
  {
   "cell_type": "markdown",
   "metadata": {
    "slideshow": {
     "slide_type": "slide"
    }
   },
   "source": [
    "## Step 7\n",
    "- Create a data.frame containing the explanatory variables of the new observation\n",
    "- Predict its class using `predict()`"
   ]
  },
  {
   "cell_type": "code",
   "execution_count": 7,
   "metadata": {
    "slideshow": {
     "slide_type": "fragment"
    }
   },
   "outputs": [
    {
     "data": {
      "text/html": [
       "versicolor\n",
       "<details>\n",
       "\t<summary style=display:list-item;cursor:pointer>\n",
       "\t\t<strong>Levels</strong>:\n",
       "\t</summary>\n",
       "\t<ol class=list-inline>\n",
       "\t\t<li>'setosa'</li>\n",
       "\t\t<li>'versicolor'</li>\n",
       "\t\t<li>'virginica'</li>\n",
       "\t</ol>\n",
       "</details>"
      ],
      "text/latex": [
       "versicolor\n",
       "\\emph{Levels}: \\begin{enumerate*}\n",
       "\\item 'setosa'\n",
       "\\item 'versicolor'\n",
       "\\item 'virginica'\n",
       "\\end{enumerate*}\n"
      ],
      "text/markdown": [
       "versicolor\n",
       "**Levels**: 1. 'setosa'\n",
       "2. 'versicolor'\n",
       "3. 'virginica'\n",
       "\n",
       "\n"
      ],
      "text/plain": [
       "[1] versicolor\n",
       "Levels: setosa versicolor virginica"
      ]
     },
     "metadata": {},
     "output_type": "display_data"
    }
   ],
   "source": [
    "new_obs <- data.frame(Petal.Length = 5, Petal.Width =  0.5)\n",
    "predict(object=model_knn, new_obs)"
   ]
  }
 ],
 "metadata": {
  "celltoolbar": "Slideshow",
  "kernelspec": {
   "display_name": "R",
   "language": "R",
   "name": "ir"
  },
  "rise" : {
     "transition" : "fade"
  }
  "language_info": {
   "codemirror_mode": "r",
   "file_extension": ".r",
   "mimetype": "text/x-r-source",
   "name": "R",
   "pygments_lexer": "r",
   "version": "3.6.1"
  }
 },
 "nbformat": 4,
 "nbformat_minor": 2
}
