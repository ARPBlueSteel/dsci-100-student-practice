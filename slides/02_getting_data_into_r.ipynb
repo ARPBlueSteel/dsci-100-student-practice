{
 "cells": [
  {
   "cell_type": "markdown",
   "metadata": {
    "slideshow": {
     "slide_type": "slide"
    }
   },
   "source": [
    "# DSCI 100 - Introduction to Data Science\n",
    "\n",
    "\n",
    "## Lecture 2 - Getting data into R\n",
    "<img src=\"img/intentional_arrival.png\" width=500>\n",
    "\n",
    "\n",
    "Reminders while you wait...\n",
    "- If you ask a question in the chat: a TA will respond\n",
    "- Feel free to \"raise your hand\"\n",
    "- Please note a previous lecture was recorded and will be posted on Canvas"
   ]
  },
  {
   "cell_type": "markdown",
   "metadata": {
    "slideshow": {
     "slide_type": "slide"
    }
   },
   "source": [
    "## Housekeeping\n",
    "\n",
    "- If you registered late to the class:\n",
    "    - any assignment from a class that happened before you registered is due **5 days after you registered**\n",
    "    - any assignment from a class that happened after you registered is due **at the regular time**\n",
    "\n",
    "- Quizzes: All sections at 7:30pm \n",
    "   - Quiz 1: June 2 (In Person)\n",
    "   - Quiz 2: June 16 (In Person)\n",
    "   - Quiz 3: Will be scheduled by classroom services \n",
    "\n",
    "- Zoom recordings available on Canvas\n",
    "\n",
    "- Remember: when in doubt, \n",
    "    - **Kernel -> Restart Kernel** \n",
    "    - **Run -> Run All Cells**\n",
    "\n",
    "- When you are working on assignments there is a cell that says \n",
    "```\n",
    "DOUBLE CLICK TO EDIT THIS CELL AND REPLACE THIS TEXT WITH YOUR ANSWER\n",
    "``` \n",
    "  **make sure you double click and edit that cell directly.** Your question won't be graded otherwise.\n",
    "\n",
    "- Shut down server when you are done working"
   ]
  },
  {
   "cell_type": "markdown",
   "metadata": {
    "slideshow": {
     "slide_type": "slide"
    }
   },
   "source": [
    "## So far...\n",
    "\n",
    "- Introduction to \n",
    "  - R programming and Jupyter notebooks\n",
    "  - a sprinkle of data analysis\n",
    "  \n",
    "## Now...\n",
    "\n",
    "Taking our first step in data analysis: loading data into R!\n",
    "\n",
    "<center><img src=\"https://thumbs.gfycat.com/VeneratedTeemingHypsilophodon-size_restricted.gif\" alt=\"Where are we going?\" style=\"width: 450px;\"/></center>"
   ]
  },
  {
   "cell_type": "markdown",
   "metadata": {
    "slideshow": {
     "slide_type": "slide"
    }
   },
   "source": [
    "## Why are we using programming languages to do data analysis? \n",
    "### And why can't I just use Excel???\n",
    "\n",
    "<p float=\"left\">   \n",
    "    <img src=\"https://www.r-project.org/Rlogo.png\" width=\"150\" /> vs.\n",
    "    <img src=\"https://upload.wikimedia.org/wikipedia/commons/thumb/3/34/Microsoft_Office_Excel_%282019%E2%80%93present%29.svg/516px-Microsoft_Office_Excel_%282019%E2%80%93present%29.svg.png\" width=\"150\" />\n",
    "</p>\n",
    "  \n",
    "- There are many advantages to using R (or another language, like Python or Julia):\n",
    "    - statistical analysis functions that go beyond Excel\n",
    "    - free and open-source \n",
    "    - transparent & reproducible code \n",
    "    - can handle large amounts of data and complex analyses"
   ]
  },
  {
   "cell_type": "markdown",
   "metadata": {
    "slideshow": {
     "slide_type": "slide"
    }
   },
   "source": [
    "- Using a programming language is like baking with a recipe: \n",
    "    - Ingredients = data\n",
    "<img src =\"https://www.thespruceeats.com/thmb/FYR4bNLrj304CEaE2aSGPYzygzY=/4680x2632/smart/filters:no_upscale()/greek-butter-cookies-1705307-step-01-5bfef717c9e77c00510e3bf9.jpg\" style =\"width:500px;\"/>\n",
    "    - Recipe = code\n",
    "<img src =\"https://www.emblibrary.com/EL/Product_images/M16436.jpg\" style=\"width: 500px;\"/>"
   ]
  },
  {
   "cell_type": "markdown",
   "metadata": {
    "slideshow": {
     "slide_type": "slide"
    }
   },
   "source": [
    "- Someone else can use your recipe (code) to bake the same cake (produce the same data analyses)\n",
    "<center> <img src =\"https://i.insider.com/5aa6a52b4177f92f008b4616?width=1300&format=jpeg&auto=webp\" style =\"width:1000px;\"/> <center/>\n",
    "\n",
    "- Spreadsheets in Excel make it *very* difficult to understand where results came from"
   ]
  },
  {
   "cell_type": "markdown",
   "metadata": {
    "slideshow": {
     "slide_type": "slide"
    }
   },
   "source": [
    "**In the data science workflow** (source: Grolemund & Wickham, [R for Data Science](https://r4ds.had.co.nz/))\n",
    "\n",
    "<center><img src=\"https://d33wubrfki0l68.cloudfront.net/571b056757d68e6df81a3e3853f54d3c76ad6efc/32d37/diagrams/data-science.png\" style=\"width: 700px\"/></center>"
   ]
  },
  {
   "cell_type": "markdown",
   "metadata": {
    "slideshow": {
     "slide_type": "slide"
    }
   },
   "source": [
    "## Loading/importing data\n",
    "\n",
    "- 4 most common ways to do this in Data Science\n",
    "    1. **read in a text file with data in a spreadsheet format**\n",
    "    2. **read from a database (e.g., SQLite, PostgreSQL)**\n",
    "    3. scrape data from the web (optional bonus material)\n",
    "    4. use a web API (Application Programming Interface) to read data from a website (not covered in DSCI100)"
   ]
  },
  {
   "cell_type": "markdown",
   "metadata": {
    "slideshow": {
     "slide_type": "slide"
    }
   },
   "source": [
    "## Different ways to locate a file / dataset\n",
    "\n"
   ]
  },
  {
   "cell_type": "markdown",
   "metadata": {
    "slideshow": {
     "slide_type": "fragment"
    }
   },
   "source": [
    "**Local (on your computer)**\n",
    "- An *absolute* path locates a file with respect to the \"root\" folder on a computer \n",
    "  - starts with `/`  \n",
    "  \n",
    "  e.g. `/home/instructor/documents/timesheet.xlsx`\n",
    "  \n",
    "  \n",
    "- A *relative* path locates a file relative to your *working directory*\n",
    "  - doesn't start with `/`\n",
    "  \n",
    "  e.g. `documents/timesheet.xlsx` <br>(where working directory is `/home/instructor/`)"
   ]
  },
  {
   "cell_type": "markdown",
   "metadata": {
    "slideshow": {
     "slide_type": "fragment"
    }
   },
   "source": [
    "**Remote (on the web)**\n",
    "\n",
    "via \"URL\" that starts with `http://` or `https://`\n",
    "<br><br>\n",
    "`http://traffic.libsyn.com/mbmbam/MyBrotherMyBrotherandMe367.mp3`\n"
   ]
  },
  {
   "cell_type": "markdown",
   "metadata": {
    "slideshow": {
     "slide_type": "slide"
    }
   },
   "source": [
    "**Absolute vs relative paths: Which should you use?**\n",
    "- Generally to ensure your code can be run on a different computer, you should use relative paths \n",
    "\n",
    "e.g. \n",
    "\n",
    "`/home/alice/project/data/happiness_report.csv`\n",
    "\n",
    "\n",
    "`/home/bob/project/data/happiness_report.csv`\n"
   ]
  },
  {
   "cell_type": "markdown",
   "metadata": {
    "slideshow": {
     "slide_type": "notes"
    }
   },
   "source": [
    "- Even though stored their files in the same place on their computers (in their home folders), the absolute paths are different due to their different usernames. \n",
    "\n",
    "- If Bob has code that loads the happiness_report.csv data using an absolute path, the code won’t work on Alice’s computer. But the relative path from inside the project folder (data/happiness_report.csv) is the same on both computers; any code that uses relative paths will work on both"
   ]
  },
  {
   "cell_type": "markdown",
   "metadata": {
    "slideshow": {
     "slide_type": "slide"
    }
   },
   "source": [
    "## Demo: Loading data from your computer\n",
    "\n",
    "**Workflow:**\n",
    "1. make the dataset accessible to the computer\n",
    "  - might need to load a package, download a file, or connect to a database\n",
    "2. inspect the data using Jupyter to see what it looks like\n",
    "3. load the data into R\n",
    "  - using `read_csv`, `read_delim`, etc\n",
    "4. inspect the result to make sure it worked\n",
    "\n",
    "Let's load the Old Faithful geyser dataset from [Larry Wasserman's book All of Statistcs](https://www.stat.cmu.edu/~larry/all-of-statistics/)\n"
   ]
  },
  {
   "cell_type": "code",
   "execution_count": null,
   "metadata": {
    "scrolled": true,
    "slideshow": {
     "slide_type": "slide"
    }
   },
   "outputs": [],
   "source": [
    "#Step 0: load the tidyverse package -- allows us to use the read_* functions\n",
    "options(repr.matrix.max.rows = 6)\n",
    "library(tidyverse)"
   ]
  },
  {
   "cell_type": "code",
   "execution_count": null,
   "metadata": {
    "slideshow": {
     "slide_type": "slide"
    }
   },
   "outputs": [],
   "source": [
    "#Step 1: download the file to get the data from the URL onto our computer\n",
    "# my_url <- \"http://stat.cmu.edu/~larry/all-of-statistics/=data/faithful.dat\"\n",
    "my_url <- \"https://web.archive.org/web/20190328100248if_/http://www.stat.cmu.edu:80/~larry/all-of-statistics/=data/faithful.dat\""
   ]
  },
  {
   "cell_type": "markdown",
   "metadata": {
    "slideshow": {
     "slide_type": "notes"
    }
   },
   "source": [
    "```\n",
    "my_url <- \"stat.cmu.edu/~larry/all-of-statistics/=data/faithful.dat\"\n",
    "download.file(my_url, 'data/faithful.dat')\n",
    "```\n",
    "- download file to the data folder (notice this is a relative path)\n",
    "- can also read into R directly using URL without this step "
   ]
  },
  {
   "cell_type": "code",
   "execution_count": null,
   "metadata": {
    "slideshow": {
     "slide_type": "fragment"
    }
   },
   "outputs": [],
   "source": [
    "#Step 2: take a look at the data using Jupyter\n"
   ]
  },
  {
   "cell_type": "markdown",
   "metadata": {
    "slideshow": {
     "slide_type": "notes"
    }
   },
   "source": [
    "- note that Jupyterhub is remote, so files on your computer cannot be accessed\n",
    "- right click file to open in plain text editor"
   ]
  },
  {
   "cell_type": "code",
   "execution_count": null,
   "metadata": {
    "slideshow": {
     "slide_type": "slide"
    }
   },
   "outputs": [],
   "source": [
    "#Step 3: load the data into R"
   ]
  },
  {
   "cell_type": "markdown",
   "metadata": {
    "slideshow": {
     "slide_type": "notes"
    }
   },
   "source": [
    "Load the data without skipping lines, make delimiter entry = spaces\n",
    "notice it takes the first row as the headers\n",
    "```\n",
    "faithful_data <- read_delim('data/faithful.dat', delim = \" \")\n",
    "faithful_data\n",
    "```\n",
    "\n",
    "- Notice that we needed to:\n",
    "    - skip 26 lines of meta data\n",
    "    - manually add the column names index, eruption_time, wait_time \n",
    "    - set the entry delimiter to spaces\n",
    "\n",
    "**For instructors only:**\n",
    "\n",
    "**If you're on the v0.17.0 docker image: read_delim still works fine. You just need to skip, col_names, col_types.**\n",
    "\n",
    "**If you're on an upgrade version (current is v0.28.0): read_delim will not work. You need to use `read_table` instead (as in the example below).**\n",
    "\n",
    "```\n",
    "faithful_data <- read_delim('data/faithful.dat', \n",
    "                               delim = \" \", \n",
    "                               skip = 26,  \n",
    "                               col_names = c(\"index\", \"eruption_time\", \"wait_time\"))\n",
    "\n",
    "```\n",
    "- Show that `read_delim` can't handle multiple whitespace, and the file has it\n",
    "\n",
    "```\n",
    "faithful_data <- read_table('data/faithful.dat',\n",
    "                             skip = 26, \n",
    "                             col_names = c(\"index\", \"eruption_time\", \"wait_time\"))\n",
    "```\n",
    "                              \n",
    "- We can also change the data types when reading in the data\n",
    "\n",
    "```\n",
    "faithful_data <- read_table('data/faithful.dat', \n",
    "                               skip = 26,           # skip 26 lines of metadata \n",
    "                               col_names = c(\"index\", \"eruption_time\", \"wait_time\"), # specify column names\n",
    "                              col_types = c(\n",
    "                                  index = \"c\",         # index is character\n",
    "                                  eruption_time = \"n\", # make eruption_time and wait_time numeric\n",
    "                                  wait_time = \"n\"))\n",
    "```\n",
    "\n",
    "c() -- combines values into a vector or list"
   ]
  },
  {
   "cell_type": "code",
   "execution_count": null,
   "metadata": {
    "slideshow": {
     "slide_type": "fragment"
    }
   },
   "outputs": [],
   "source": [
    "#Step 4: check the result\n"
   ]
  },
  {
   "cell_type": "markdown",
   "metadata": {
    "slideshow": {
     "slide_type": "notes"
    }
   },
   "source": [
    "`faithful_data`"
   ]
  },
  {
   "cell_type": "markdown",
   "metadata": {
    "slideshow": {
     "slide_type": "slide"
    }
   },
   "source": [
    "## Note about loading data\n",
    "\n",
    "- It's important to do it carefully + check results after!\n",
    "  - will help reduce bugs and speed up your analyses down the road\n",
    "- Think of it as tying your shoes before you run; not exciting, but if done wrong it will trip you up later!\n",
    "\n",
    "<center><img src=\"https://media.giphy.com/media/Se449o7yNjziw/giphy.gif\"/></center>\n"
   ]
  },
  {
   "cell_type": "markdown",
   "metadata": {
    "slideshow": {
     "slide_type": "slide"
    }
   },
   "source": [
    "## Questions?"
   ]
  },
  {
   "cell_type": "markdown",
   "metadata": {
    "slideshow": {
     "slide_type": "fragment"
    }
   },
   "source": [
    "## Go for it! \n",
    "\n",
    "Work together on your worksheets and tutorials. **Collaborate, but do not copy! Learn from each other!** \n",
    "![](https://media.giphy.com/media/zaezT79s3Ng7C/giphy.gif)"
   ]
  },
  {
   "cell_type": "markdown",
   "metadata": {
    "slideshow": {
     "slide_type": "skip"
    }
   },
   "source": [
    "## Class activity:\n",
    "\n",
    "- In the group, try to read in this dataset from the web: <br> https://archive.ics.uci.edu/ml/machine-learning-databases/00236/seeds_dataset.txt"
   ]
  },
  {
   "cell_type": "markdown",
   "metadata": {
    "slideshow": {
     "slide_type": "slide"
    }
   },
   "source": [
    "## What did we learn?\n",
    "- \n",
    "- \n",
    "- "
   ]
  },
  {
   "cell_type": "markdown",
   "metadata": {
    "slideshow": {
     "slide_type": "slide"
    }
   },
   "source": [
    "## Note on web scraping\n",
    "\n",
    "- More and more websites don't want you scraping \n",
    "- They instead are providing \"easier\" ways for you to access the data as opposed to scraping it (which they can regulate and know who you are)\n",
    "- So, TL;DR read the Terms of Service for ANY webpage you are planning on scraping\n",
    "    - they're long to read, so search for \"scraping\", \"auto\", \"bot\", etc to find the relevant section"
   ]
  }
 ],
 "metadata": {
  "celltoolbar": "Slideshow",
  "kernelspec": {
   "display_name": "R",
   "language": "R",
   "name": "ir"
  },
  "language_info": {
   "codemirror_mode": "r",
   "file_extension": ".r",
   "mimetype": "text/x-r-source",
   "name": "R",
   "pygments_lexer": "r",
   "version": "4.0.0"
  },
  "rise": {
   "transition": "fade"
  }
 },
 "nbformat": 4,
 "nbformat_minor": 4
}
