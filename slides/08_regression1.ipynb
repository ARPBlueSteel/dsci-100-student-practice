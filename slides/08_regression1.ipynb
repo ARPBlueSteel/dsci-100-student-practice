{
 "cells": [
  {
   "cell_type": "markdown",
   "metadata": {
    "slideshow": {
     "slide_type": "slide"
    }
   },
   "source": [
    "## DSCI 100 - Introduction to Data Science\n",
    "\n",
    "\n",
    "### Lecture 8 - Regression with k-nearest neighbours\n",
    "\n",
    "\n",
    "<img src= \"https://github.com/allisonhorst/stats-illustrations/raw/master/rstats-artwork/monster_support.jpg\" width=600>\n",
    "Source: Artwork by @allison_horst"
   ]
  },
  {
   "cell_type": "markdown",
   "metadata": {
    "slideshow": {
     "slide_type": "skip"
    }
   },
   "source": [
    "## Housekeeping \n",
    "\n",
    "<li>Quiz 1 grades out this week. Proposal grades next week.</li>\n",
    "<li>Quiz 2 is in person! June 16 10:30-11:20AM (45 + 5 minutes). </li>\n",
    "    <li>Section 002 Quiz 2 is here HENN 200.</li>\n",
    "\n",
    "- Quiz 2: Book chapters: 12 (version control), 5 (classification 1), 6 (classification 2 - today), 7 (regression 1 - today)\n",
    "\n",
    "- the upcoming tutorial is a project work session\n",
    "- Reminder about projects: \n",
    "    - Part of the group project mark is \"teamwork\". All members will have the opportunity to evaluate your group members at the end of the year and the evaluations will affect your final project mark"
   ]
  },
  {
   "cell_type": "markdown",
   "metadata": {
    "slideshow": {
     "slide_type": "slide"
    }
   },
   "source": [
    "### Regression prediction problem\n",
    "\n",
    "What if we want to predict a quantitative value instead of a class label? \n",
    "\n",
    "<img align=\"left\" src=\"https://ubc-dsci.github.io/introduction-to-datascience/_main_files/figure-html/07-edaRegr-1.png\" width=\"600\"/>"
   ]
  },
  {
   "cell_type": "markdown",
   "metadata": {
    "slideshow": {
     "slide_type": "notes"
    }
   },
   "source": [
    "- Last week we learned about predicting a categorical response based on the nearest neighbours \n",
    "- suppose now we are no longer predicting a binary/categorical, but now a quantitative response"
   ]
  },
  {
   "cell_type": "markdown",
   "metadata": {
    "slideshow": {
     "slide_type": "slide"
    }
   },
   "source": [
    "E.g.: predict the price of a 2000 square foot home (from this reduced dataset)\n",
    "\n",
    "<img align=\"left\" src=\"https://ubc-dsci.github.io/introduction-to-datascience/_main_files/figure-html/07-small-eda-regr-1.png\" width=\"600\"/>"
   ]
  },
  {
   "cell_type": "markdown",
   "metadata": {
    "slideshow": {
     "slide_type": "notes"
    }
   },
   "source": [
    "- Suppose we want to predict the price of a home given a 2000 sq footage\n",
    "- What are some ways you might predict the price? "
   ]
  },
  {
   "cell_type": "markdown",
   "metadata": {
    "slideshow": {
     "slide_type": "slide"
    }
   },
   "source": [
    "### K nearest neighbours regression\n",
    "\n",
    "As in k-nn classification, we find the $k$-nearest neighbours (here $k=5$) in terms of the predictors\n",
    "\n",
    "<img align=\"left\" src=\"https://ubc-dsci.github.io/introduction-to-datascience/_main_files/figure-html/07-knn3-example-1.png\" width=\"600\"/>"
   ]
  },
  {
   "cell_type": "markdown",
   "metadata": {
    "slideshow": {
     "slide_type": "slide"
    }
   },
   "source": [
    "### K nearest neighbours regression\n",
    "\n",
    "Then we average the values for the $k$-nearest neighbours, and use that as the prediction:\n",
    "\n",
    "<img align=\"left\" src=\"https://ubc-dsci.github.io/introduction-to-datascience/_main_files/figure-html/07-predictedViz-knn-1.png\" width=\"600\"/>"
   ]
  },
  {
   "cell_type": "markdown",
   "metadata": {
    "slideshow": {
     "slide_type": "notes"
    }
   },
   "source": [
    "- It makes sense that the predicted value should be near these points, not much lower or higher. Perhaps a good prediction would be the average of these points"
   ]
  },
  {
   "cell_type": "markdown",
   "metadata": {
    "slideshow": {
     "slide_type": "slide"
    }
   },
   "source": [
    "### K nearest neighbours regression\n",
    "\n",
    "If we do that for a range of house sizes, we can draw the curve of predictions ($k = 37$):\n",
    "\n",
    "<img src=\"https://ubc-dsci.github.io/introduction-to-datascience/_main_files/figure-html/07-predict-all-1.png\" width=\"600\"/>"
   ]
  },
  {
   "cell_type": "markdown",
   "metadata": {
    "slideshow": {
     "slide_type": "notes"
    }
   },
   "source": [
    "- You can imagine doing this for all the possible input values and coming up with predictions everywhere\n",
    "- Connecting all these predictions with a line \n",
    "- one benefit is that it handles non-linearity well."
   ]
  },
  {
   "cell_type": "markdown",
   "metadata": {
    "slideshow": {
     "slide_type": "slide"
    }
   },
   "source": [
    "### Regression prediction problem\n",
    "\n",
    "We still have to answer these two questions:\n",
    "\n",
    "1. Is our model any good? \n",
    "\n",
    "2. How do we choose `k`? "
   ]
  },
  {
   "cell_type": "markdown",
   "metadata": {
    "slideshow": {
     "slide_type": "slide"
    }
   },
   "source": [
    "### 1. Is our model any good?\n",
    "\n",
    "The same general strategy as in classification works here!\n",
    "\n",
    "<img align=\"left\" src=\"https://ubc-dsci.github.io/introduction-to-datascience/img/train-test-overview.jpeg\" width=\"700\"/>"
   ]
  },
  {
   "cell_type": "markdown",
   "metadata": {
    "slideshow": {
     "slide_type": "slide"
    }
   },
   "source": [
    "### 1. Is our model any good?\n",
    "\n",
    "Suppose the blue line depicts our predictions from k-nn regression.\n",
    "\n",
    "The red lines depict the error in our predictions, i.e., the difference between the $i^\\text{th}$ test data response and our prediction $\\hat{y}_i$:\n",
    "\n",
    "<center>\n",
    "<table>\n",
    "<tr>\n",
    "    <td><img src=\"img/k-nn_regr.jpeg\" width=\"300\"/></td>\n",
    "    <td><img src=\"img/rmse.jpg\" width=\"300\"/></td>\n",
    "</tr>\n",
    "</table>\n",
    "</center>"
   ]
  },
  {
   "cell_type": "markdown",
   "metadata": {
    "slideshow": {
     "slide_type": "notes"
    }
   },
   "source": [
    "- small datasets: the nearest neighbours are the same and thus the mean in a certain area is the same therefore we have flat lines"
   ]
  },
  {
   "cell_type": "markdown",
   "metadata": {
    "slideshow": {
     "slide_type": "slide"
    }
   },
   "source": [
    "### 1. Is our model any good?\n",
    "\n",
    "\n",
    "We (roughly) add up these errors to evaluate our regression model\n",
    "- Not out of 1, but instead in units of the target variable (bit harder to interpret)\n",
    "\n",
    "\n",
    "<table>\n",
    "<tr>\n",
    "<td>\n",
    "    \n",
    "*Root Mean Squared Prediction Error* (RMSPE):\n",
    "    \n",
    "$$RMSPE = \\sqrt{\\frac{1}{n}\\sum\\limits_{i=1}^{n}(y_i - \\hat{y_i})^2}$$\n",
    "<p align=\\\"left\\\">- $n$ is the number of observations</p>\n",
    "<p align=\\\"left\\\">- $y_i$ is the observed value for the $i^\\text{th}$ test observation</p>\n",
    "<p align=\\\"left\\\">- $\\hat{y_i}$ is the forcasted/predicted value for the $i^\\text{th}$ test observation</p>\n",
    "\n",
    "</td>\n",
    "<td><img src=\"img/rmse.jpg\" width=\"250\"/></td>\n",
    "</tr>\n",
    "</table>\n"
   ]
  },
  {
   "cell_type": "markdown",
   "metadata": {
    "slideshow": {
     "slide_type": "slide"
    }
   },
   "source": [
    "### RMSE vs RMSPE\n",
    "\n",
    "- *Root Mean Squared Error (RMSE)*: The same formula except on *the data used to train the model*\n",
    "  - this indicates how well our model can fit our data\n",
    "- *Root Mean Squared Prediction Error (RMSPE)*: predicting on *unseen data.*\n",
    "  - this indicates how well our model *generalizes* to future data\n",
    "  \n",
    "  \n",
    "**This distinction is very important, but no standard terminology.**"
   ]
  },
  {
   "cell_type": "markdown",
   "metadata": {
    "slideshow": {
     "slide_type": "slide"
    }
   },
   "source": [
    "### Final model from k-nn regression\n",
    "\n",
    "For this model, RMSPE is 91620.4. How can we interpret this?\n",
    "\n",
    "\n",
    "\n",
    "<img src=\"https://ubc-dsci.github.io/introduction-to-datascience/_main_files/figure-html/07-predict-all-1.png\" width=\"700\"/>"
   ]
  },
  {
   "cell_type": "markdown",
   "metadata": {
    "slideshow": {
     "slide_type": "notes"
    }
   },
   "source": [
    "- Prices tend to be +/- 90000 off that line"
   ]
  },
  {
   "cell_type": "markdown",
   "metadata": {
    "slideshow": {
     "slide_type": "slide"
    }
   },
   "source": [
    "### 2. How do we choose k?"
   ]
  },
  {
   "cell_type": "markdown",
   "metadata": {
    "slideshow": {
     "slide_type": "fragment"
    }
   },
   "source": [
    "Roughly the same as before! "
   ]
  },
  {
   "cell_type": "markdown",
   "metadata": {
    "slideshow": {
     "slide_type": "fragment"
    }
   },
   "source": [
    "1. Cross validation:\n",
    "    - Split data into $C$ folds \n",
    "    - Train \n",
    "    - Evaluate model \n",
    "    - Pick k that gives the lowest RMSE on validataion set "
   ]
  },
  {
   "cell_type": "markdown",
   "metadata": {
    "slideshow": {
     "slide_type": "fragment"
    }
   },
   "source": [
    "2. Train model on whole dataset "
   ]
  },
  {
   "cell_type": "markdown",
   "metadata": {
    "slideshow": {
     "slide_type": "fragment"
    }
   },
   "source": [
    "3. Evaluate how good the predictions are using the test data \n",
    "    - however, this time we use RMSPE as our prediction metric"
   ]
  },
  {
   "cell_type": "markdown",
   "metadata": {
    "slideshow": {
     "slide_type": "slide"
    }
   },
   "source": [
    "### How does $k$ affect k-nn regression?"
   ]
  },
  {
   "cell_type": "markdown",
   "metadata": {
    "slideshow": {
     "slide_type": "slide"
    }
   },
   "source": [
    "<img src=\"https://ubc-dsci.github.io/introduction-to-datascience/_main_files/figure-html/07-howK-1.png\" width=\"600\"/>"
   ]
  },
  {
   "cell_type": "markdown",
   "metadata": {
    "slideshow": {
     "slide_type": "slide"
    }
   },
   "source": [
    "## Worksheet time - go for it!"
   ]
  },
  {
   "cell_type": "markdown",
   "metadata": {
    "slideshow": {
     "slide_type": "slide"
    }
   },
   "source": [
    "# What did you learn? \n",
    "- \n",
    "- \n",
    "- "
   ]
  }
 ],
 "metadata": {
  "celltoolbar": "Slideshow",
  "kernelspec": {
   "display_name": "R",
   "language": "R",
   "name": "ir"
  },
  "language_info": {
   "codemirror_mode": "r",
   "file_extension": ".r",
   "mimetype": "text/x-r-source",
   "name": "R",
   "pygments_lexer": "r",
   "version": "4.0.0"
  },
  "rise": {
   "transition": "fade"
  }
 },
 "nbformat": 4,
 "nbformat_minor": 2
}
