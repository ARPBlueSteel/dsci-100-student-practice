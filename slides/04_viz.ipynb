{
 "cells": [
  {
   "cell_type": "code",
   "execution_count": null,
   "metadata": {
    "slideshow": {
     "slide_type": "slide"
    }
   },
   "outputs": [],
   "source": [
    "# Run before lecture to load datasets and do simple prep\n",
    "library(tidyverse) #all our data wrangling/plotting\n",
    "library(repr) #for changing the dimensions of plots\n",
    "options(repr.matrix.max.rows = 6)\n",
    "\n",
    "#Mauna Loa\n",
    "co2_df <- data.frame(concentration = as.matrix(co2), date = time(co2))\n",
    "\n",
    "#Top 12 Island landmasses\n",
    "islands_df <- enframe(islands)\n",
    "colnames(islands_df) <- c('landmass', 'size')\n",
    "islands_df = top_n(islands_df, 12, size)\n",
    "\n",
    "continents <- c('Africa', 'Antarctica', 'Asia', 'Australia', 'Europe', 'North America', 'South America')\n",
    "islands_df <- mutate(islands_df, is_continent = ifelse(landmass %in% continents, 'Continent', 'Other'))\n",
    "\n",
    "install.packages(\"dslabs\")\n",
    "library(dslabs) # gapminder data\n",
    "data(gapminder)\n",
    "gapminder <- gapminder  %>% select(country, year, population, continent, life_expectancy)\n",
    "#old faithful, mtcars -- nothing to do\n"
   ]
  },
  {
   "cell_type": "markdown",
   "metadata": {
    "slideshow": {
     "slide_type": "slide"
    }
   },
   "source": [
    "# DSCI 100 - Introduction to Data Science\n",
    "\n",
    "\n",
    "## Lecture 4 - Data visualization in R\n",
    "\n",
    "\n",
    "**Attribution:** images in these slides that are not accompanied by code mostly come from <br>[The Fundamentals of Data Visualization by Claus O. Wilke](https://clauswilke.com/dataviz/)\n",
    "\n",
    "<img src=\"https://github.com/allisonhorst/stats-illustrations/blob/master/rstats-artwork/ggplot2_exploratory.png?raw=true\" width=500>\n",
    "\n",
    "*Illustration by Allison Horst*"
   ]
  },
  {
   "cell_type": "markdown",
   "metadata": {
    "slideshow": {
     "slide_type": "slide"
    }
   },
   "source": [
    "# Housekeeping\n",
    "\n",
    "- Quiz next week! \n",
    "    - June 2, 10:30 - 11:15 pm\n",
    "    - open book (but not collaborative)\n",
    "    - will be served on Canvas\n",
    "    - practice questions will be posted on Canvas \n",
    "    - covers all the material from weeks 1 - 4 (but none of the optional web scraping is included)\n",
    "    - make sure you have either Chrome, Firefox, or some other browser compatible with all of Canvas' functionality. Sometimes Safari has trouble loading images and math.\n",
    "    - Download your worksheets/tutorials onto your local computer just in case!\n",
    "        - File > Download as > HTML"
   ]
  },
  {
   "cell_type": "markdown",
   "metadata": {
    "slideshow": {
     "slide_type": "slide"
    }
   },
   "source": [
    "### Today: Visualization  \n",
    "\n",
    "\n",
    "<center>\n",
    "<img src=\"https://d33wubrfki0l68.cloudfront.net/571b056757d68e6df81a3e3853f54d3c76ad6efc/32d37/diagrams/data-science.png\" width=\"1200\"/>\n",
    "</center>\n",
    "\n",
    "*image source: [R for Data Science](https://r4ds.had.co.nz/) by Grolemund & Wickham*"
   ]
  },
  {
   "cell_type": "markdown",
   "metadata": {
    "slideshow": {
     "slide_type": "slide"
    }
   },
   "source": [
    "### Designing a visualization: ask a question, then answer it\n",
    "\n",
    "The purpose of a visualization is to *answer a question* about a dataset of interest.\n",
    "\n",
    "A good visualization answers the question clearly. A *great* visualization also hints at the question itself.\n",
    "\n",
    "Visualizations alone help us answer two types of questions:\n",
    "\n",
    "- **descriptive:** What are the largest 7 landmasses on Earth?\n",
    "- **exploratory:** Is there a relationship between penguin body mass and bill length?\n",
    "- ~~inferential~~\n",
    "- ~~predictive~~\n",
    "- ~~causal~~\n",
    "- ~~mechanistic~~\n",
    "\n",
    "(we need more tools + visualizations to answer the others)\n",
    "\n",
    "\n"
   ]
  },
  {
   "cell_type": "markdown",
   "metadata": {
    "slideshow": {
     "slide_type": "notes"
    }
   },
   "source": [
    "- Descriptive: A question which asks about summarized characteristics of a data set without interpretation (i.e., report a fact).\t(describe characteristics)\n",
    "\n",
    "- Exploratory: A question asks if there are patterns, trends, or relationships within a single data set. Often used to propose hypotheses for future study. (discovery of ideas and thoughts)\n",
    "\n",
    "- inferential: determine if association observed in your exploratory analysis hold in a different sample that is rep of pop (infer what is true)\n",
    "\n",
    "- predictive: what predicts whether someone will eat a certain diet \n",
    "\n",
    "- causal: whether changing one factor will change another factor \n",
    "\n",
    "- mechanistic: how e.g. how diet leads to a reduction in the number of viral illnesses"
   ]
  },
  {
   "cell_type": "markdown",
   "metadata": {
    "slideshow": {
     "slide_type": "slide"
    }
   },
   "source": [
    "### Creating visualizations in R\n",
    "\n",
    "- It's an iterative procedure. Try things, make mistakes, and refine! \n",
    "- We will use `ggplot2`. There are three key aspects of plots in `ggplot2`:\n",
    "    1. **aesthetic mappings:** map dataframe columns to visual properties\n",
    "    2. **geometric objects:** encode how to display those visual properties\n",
    "    3. **scales:** transform variables, set limits\n",
    "    \n",
    "- Add these one by one using `+`"
   ]
  },
  {
   "cell_type": "markdown",
   "metadata": {
    "slideshow": {
     "slide_type": "slide"
    }
   },
   "source": [
    "### Types of variables \n",
    "A **variable** refers to a characteristic of interest and can be: \n",
    "\n",
    "1. categorical: can be divided into groups (categories) e.g. marital status \n",
    "2. quantitative: measured on a numeric scale (usually units are attached) e.g. height"
   ]
  },
  {
   "cell_type": "code",
   "execution_count": null,
   "metadata": {
    "slideshow": {
     "slide_type": "slide"
    }
   },
   "outputs": [],
   "source": [
    "#load libraries\n",
    "\n",
    "library(tidyverse) # all our data wrangling/plotting\n",
    "library(repr) # for changing the dimensions of plots\n"
   ]
  },
  {
   "cell_type": "markdown",
   "metadata": {
    "slideshow": {
     "slide_type": "slide"
    }
   },
   "source": [
    "### Scatter Plots\n",
    "\n",
    "To visualize the relationship between two quantitative variables\n",
    "\n",
    "e.g. Is there a relationship between horsepower and fuel economy of an engine? Does the number of cylinders affect that relationship?\n",
    "\n",
    "<br>\n",
    "\n",
    "<center>\n",
    "<img src=\"https://i.imgur.com/J7o9uj0.gif?noredirect\" width=\"550\"/>\n",
    "</center>"
   ]
  },
  {
   "cell_type": "code",
   "execution_count": null,
   "metadata": {
    "slideshow": {
     "slide_type": "slide"
    }
   },
   "outputs": [],
   "source": [
    "# inspect the data\n",
    "mtcars"
   ]
  },
  {
   "cell_type": "code",
   "execution_count": null,
   "metadata": {
    "slideshow": {
     "slide_type": "slide"
    }
   },
   "outputs": [],
   "source": [
    "#Is there a relationship between fuel economy and horsepower? Does # cylinders affect it?\n",
    "\n",
    "options(repr.plot.width = 7, repr.plot.height = 5) \n",
    "\n",
    "ggplot(\n",
    "    mtcars,  \n",
    ")\n"
   ]
  },
  {
   "cell_type": "markdown",
   "metadata": {
    "slideshow": {
     "slide_type": "notes"
    }
   },
   "source": [
    "Build up one-by-one:\n",
    "Do geom_point without colouring by cyl then colour by factor \n",
    "```\n",
    "options(repr.plot.width = 5, repr.plot.height = 5)                   # change size of output plot\n",
    "    ggplot(mtcars, aes(x = hp, y = mpg, color = factor(cyl)))+ # treat cyl as a factor (often referred to as cat var) \n",
    "    geom_point() +                                                   # make it a scatterplot \n",
    "    labs(x='Horsepower', y='Miles per Gallon', color='# Cylinders')+ # labels on the x-axis, y-axis and legend title\n",
    "    theme(text=element_text(size=18))                                # make the text size bigger \n",
    "```\n",
    "\n",
    "- As horsepower increases miles per gallon (fuel efficiency) tends to decrease (negative relationship)\n",
    "- Cars with more cylinders tend to have higher horsepower and lower fuel efficiency "
   ]
  },
  {
   "cell_type": "markdown",
   "metadata": {
    "slideshow": {
     "slide_type": "slide"
    }
   },
   "source": [
    "### Line Plots\n",
    "\n",
    "To visualize trends with respect to an independent quantity \n",
    "\n",
    "e.g. How has atmospheric carbon dioxide changed over the last 40 years?\n",
    "\n",
    "<center><img src=\"https://media.sciencephoto.com/e1/80/03/84/e1800384-800px-wm.jpg\" width=\"600\"/> Mauna Loa Research Station</center>"
   ]
  },
  {
   "cell_type": "code",
   "execution_count": null,
   "metadata": {
    "slideshow": {
     "slide_type": "slide"
    }
   },
   "outputs": [],
   "source": [
    "#inspect the data\n",
    "co2_df\n"
   ]
  },
  {
   "cell_type": "code",
   "execution_count": null,
   "metadata": {
    "scrolled": true,
    "slideshow": {
     "slide_type": "slide"
    }
   },
   "outputs": [],
   "source": [
    "#How does atmospheric CO2 concentration change over time?\n",
    "options(repr.plot.width = 7, repr.plot.height = 5) \n",
    "co2_plot <- ggplot(co2_df, ...) \n",
    "co2_plot"
   ]
  },
  {
   "cell_type": "markdown",
   "metadata": {
    "slideshow": {
     "slide_type": "notes"
    }
   },
   "source": [
    "start with `geom_point`, then show students and ask \"what's wrong here?\" then do line\n",
    "```\n",
    "ggplot(co2_df, aes(x=date, y=concentration))+ \n",
    "    geom_line()+\n",
    "    labs(x = 'Date', y = 'CO2 Concentration')+\n",
    "                theme(text=element_text(size=18)) \n",
    "```\n",
    "- visualization shows a clear upward trend in the atmospheric concentration of CO2 over time. \n",
    "- in addition to increasing over time, the concentration seems to oscillate as well.\n",
    "\n",
    "- error message: \"ts\" = time series object \n",
    "- Time series is a series of data points in which each data point is associated with a timestamp"
   ]
  },
  {
   "cell_type": "markdown",
   "metadata": {
    "slideshow": {
     "slide_type": "slide"
    }
   },
   "source": [
    "### Bar Plots\n",
    "\n",
    "To visualize the comparison of amounts\n",
    "\n",
    "e.g. Are Earth's biggest landmasses continents? If so, what are the next largest few landmasses?\n",
    "\n",
    "<center>\n",
    "<img src=\"https://upload.wikimedia.org/wikipedia/commons/thumb/c/cf/Worldmap_LandAndPolitical.jpg/1200px-Worldmap_LandAndPolitical.jpg\" width=\"800\"/>\n",
    "    Source: Wiktionary\n",
    "</center>"
   ]
  },
  {
   "cell_type": "code",
   "execution_count": null,
   "metadata": {
    "slideshow": {
     "slide_type": "slide"
    }
   },
   "outputs": [],
   "source": [
    "#What are the largest 12 landmasses on Earth?\n",
    "islands_df\n",
    "options(repr.plot.width = 7, repr.plot.height = 5) # change plot size "
   ]
  },
  {
   "cell_type": "markdown",
   "metadata": {
    "slideshow": {
     "slide_type": "notes"
    }
   },
   "source": [
    "Start with simple geom_bar, then clip, then reorder, then theme/legend\n",
    "\n",
    "- By default, geom_bar uses stat=\"count\" . This makes the height of each bar equal to the number of cases in each group, and it is incompatible with mapping values to the y aesthetic. \n",
    "- If you want the heights of the bars to represent values in the data, use stat=\"identity\" and map a value to the y aesthetic.\n",
    "- notice without stat = identity and y = size R will count the number of different landmasses in the landmass column, which is just 1 each \n",
    "\n",
    "```\n",
    "ggplot(islands_df, aes(x = landmass, y = size)) +        # add y = size \n",
    "    geom_bar(stat = \"identity\") +                        # make height equal to the y\n",
    "    labs(x = 'Landmass', y = 'Size (1000 square mi)') +  # change labels\n",
    "    theme(text = element_text(size = 18))                # make labels bigger\n",
    "```\n",
    "\n",
    "coord_flip() then reorder\n",
    "\n",
    "```\n",
    "ggplot(islands_df, aes(x = reorder(landmass,size), y = size)) +        # reorder landmass according to size  \n",
    "                   geom_bar(stat = \"identity\") +\n",
    "                   labs(x = 'Landmass', y = 'Size (1000 square mi)') +\n",
    "                   coord_flip() +                                      # flip so the bars are horizontal\n",
    "                   theme(text = element_text(size = 18))\n",
    "```\n",
    "\n",
    "\n",
    "colour by whether it is a continent or not \n",
    "```\n",
    "ggplot(islands_df, aes(x = reorder(landmass, size), y = size, fill = is_continent)) + \n",
    "                   geom_bar(stat=\"identity\") +\n",
    "                   labs(x = 'Landmass', y = 'Size (1000 square mi)', fill = 'Type') +\n",
    "                   coord_flip() +\n",
    "                   theme(text = element_text(size = 18), legend.position = c(0.75, 0.45)) \n",
    "                   # legend position is the x and y axis position in the chart area, where (0,0) is the bottom left and (1,1) is the top right \n",
    "```                 "
   ]
  },
  {
   "cell_type": "markdown",
   "metadata": {
    "slideshow": {
     "slide_type": "slide"
    }
   },
   "source": [
    "### Histograms\n",
    "\n",
    "To visualize the distribution of a single quantitative variable\n",
    "\n",
    "e.g. Was there a difference in life expectancy across different continents in 2016?"
   ]
  },
  {
   "cell_type": "code",
   "execution_count": null,
   "metadata": {
    "slideshow": {
     "slide_type": "fragment"
    }
   },
   "outputs": [],
   "source": [
    "gapminder\n",
    "\n",
    "gap_2016 <- gapminder %>% \n",
    "    filter(year == 2016)\n",
    "\n",
    "gap_hist <- ggplot(gap_2016, aes(x = life_expectancy,  fill=continent)) +\n",
    "    geom_histogram() + \n",
    "    labs(x = \"Life Expectancy (years)\") + \n",
    "    theme(text = element_text(size = 18)) +\n",
    "\n",
    "gap_hist\n"
   ]
  },
  {
   "cell_type": "markdown",
   "metadata": {
    "slideshow": {
     "slide_type": "notes"
    }
   },
   "source": [
    "- position defaults to \"stack\" so bars are stacked on top of each other - not very easy to read misleading \n",
    "    - (dodge: bars are beside each other) \n",
    "    - (identity: bars are on overlaid on top of one another) \n",
    "```\n",
    "ggplot(gap_2016, aes(x = life_expectancy, fill = continent)) +   # colour the plot according to continent, fill by continent\n",
    "  geom_histogram() + \n",
    "  labs(x = \"Life Expectancy (years)\", fill = \"Continent\") +      # change the label for the legend and x-axis\n",
    "  theme(text = element_text(size = 18))                    \n",
    "```\n",
    "\n",
    "- try overlaying the histograms on top of each other\n",
    "- change the transparency of the hists \n",
    "```\n",
    "ggplot(gap_2016, aes(x = life_expectancy, fill = continent)) +\n",
    "  geom_histogram(position = \"identity\", alpha = 0.6) +       # overlay the histograms and change the transparency\n",
    "  labs(x = \"Life Expectancy (years)\", fill = \"Continent\") + \n",
    "  theme(text = element_text(size = 18)) \n",
    "```\n",
    "\n",
    "-  it isn’t the clearest way to convey the information\n",
    "-  Let’s try a different strategy of creating multiple separate histograms on top of one another.\n",
    "- In our case we only want to split vertically along the continent variable, so we use continent ~ . as the argument to facet_grid\n",
    "```\n",
    "ggplot(gap_2016, aes(x = life_expectancy, fill = continent)) +\n",
    "  geom_histogram(position = \"identity\") + \n",
    "  labs(x = \"Life Expectancy (years)\", fill = \"Continent\") + \n",
    "  theme(text = element_text(size = 18)) + \n",
    "  facet_grid(continent ~.) # can show facet_grid both ways and ask which is better to answer our question?\n",
    "```"
   ]
  },
  {
   "cell_type": "markdown",
   "metadata": {
    "slideshow": {
     "slide_type": "skip"
    }
   },
   "source": [
    "### Rule of Thumb: No tables / pie charts / 3D\n",
    "\n",
    "<img src=\"img/pie.png\" width=\"1200\" />"
   ]
  },
  {
   "cell_type": "markdown",
   "metadata": {
    "slideshow": {
     "slide_type": "skip"
    }
   },
   "source": [
    "Which one is easier to interpret? \n",
    "Pie graph - colours don't mean anything (unneccessary) \n",
    "- hard to see size of slices relative to the other slices "
   ]
  },
  {
   "cell_type": "markdown",
   "metadata": {
    "slideshow": {
     "slide_type": "skip"
    }
   },
   "source": [
    "### Rule of Thumb: No tables / pie charts / 3D\n",
    "\n",
    "<img align=\"left\" src=\"https://clauswilke.com/dataviz/no_3d_files/figure-html/VA-death-rates-3d-1.png\" width=\"600\" />\n",
    "<img align=\"right\" src=\"https://clauswilke.com/dataviz/no_3d_files/figure-html/VA-death-rates-Trellis-1.png\" width=\"800\" />"
   ]
  },
  {
   "cell_type": "markdown",
   "metadata": {
    "slideshow": {
     "slide_type": "skip"
    }
   },
   "source": [
    "- the third dimension does not improve the reading of the data\n",
    "- these plots are difficult to interpret because of the distorted effect of perspective associated with the third dimension. \n",
    "- 3D is discouraged for charts in general\n",
    "- the bars or slices in a pie graph that are closer to the reader appear to be larger than those in the back due to the angle at which they're presented"
   ]
  },
  {
   "cell_type": "markdown",
   "metadata": {
    "slideshow": {
     "slide_type": "slide"
    }
   },
   "source": [
    "### Rule of Thumb: Use simple, colourblind-friendly colour palettes\n",
    "<img align=\"left\" src=\"https://clauswilke.com/dataviz/pitfalls_of_color_use_files/figure-html/popgrowth-vs-popsize-colored-1.png\" width=\"500\" />\n",
    "<img align=\"right\" src=\"https://clauswilke.com/dataviz/pitfalls_of_color_use_files/figure-html/popgrowth-vs-popsize-bw-1.png\" width=\"800\" />"
   ]
  },
  {
   "cell_type": "markdown",
   "metadata": {
    "slideshow": {
     "slide_type": "fragment"
    }
   },
   "source": [
    "- https://www.color-blindness.com/coblis-color-blindness-simulator/"
   ]
  },
  {
   "cell_type": "markdown",
   "metadata": {
    "slideshow": {
     "slide_type": "skip"
    }
   },
   "source": [
    "\n",
    "### Rule of Thumb: Include labels and legends, make them legible\n",
    "\n",
    "Remember: a great visualization tells its own story without needing you to be there explaining things<img align=\"left\" src=\"https://clauswilke.com/dataviz/small_axis_labels_files/figure-html/Aus-athletes-small-1.png\" width=\"700\" />\n",
    "<img align=\"right\" src=\"https://clauswilke.com/dataviz/small_axis_labels_files/figure-html/Aus-athletes-good-1.png\" width=\"700\" />"
   ]
  },
  {
   "cell_type": "markdown",
   "metadata": {
    "slideshow": {
     "slide_type": "skip"
    }
   },
   "source": [
    "<img align=\"left\" src=\"https://clauswilke.com/dataviz/figure_titles_captions_files/figure-html/tech-stocks-minimal-labeling-bad-1.png\" width=\"700\" />\n",
    "<img align=\"right\" src=\"https://clauswilke.com/dataviz/figure_titles_captions_files/figure-html/tech-stocks-minimal-labeling-1.png\" width=\"700\" />"
   ]
  },
  {
   "cell_type": "markdown",
   "metadata": {
    "slideshow": {
     "slide_type": "skip"
    }
   },
   "source": [
    "### Rule of Thumb: avoid overplotting\n",
    "\n",
    "Generally, need to use an alternative geometric object"
   ]
  },
  {
   "cell_type": "code",
   "execution_count": null,
   "metadata": {
    "slideshow": {
     "slide_type": "skip"
    }
   },
   "outputs": [],
   "source": [
    "options(repr.plot.width = 4, repr.plot.height = 4)\n",
    "diamond_plot <- ggplot(diamonds, aes(x = carat, y = price)) +\n",
    "    geom_point() +\n",
    "    xlab(\"Size (carat)\") +\n",
    "    ylab(\"Price (US dollars)\")\n",
    "diamond_plot"
   ]
  },
  {
   "cell_type": "markdown",
   "metadata": {
    "slideshow": {
     "slide_type": "skip"
    }
   },
   "source": [
    "Add `alpha = 0.2` to geom_point\n",
    "- transparency setting between [0,1]"
   ]
  },
  {
   "cell_type": "markdown",
   "metadata": {
    "slideshow": {
     "slide_type": "notes"
    }
   },
   "source": [
    "- too many colours (overwhelming)\n",
    "- less is more\n",
    "\n",
    "\n",
    "- Make sure to use colourschemes that are understandable by those with colourblindness. For example, the RColorBrewer R library provide the ability to pick such colourschemes, and you can check your visualizations after you have created them by uploading to online tools such as the colour blindness simulator.\n",
    "- Redundancy can be helpful; sometimes conveying the same message in multiple ways reinforces it for the audience. For instance you can also consider using shapes to represent different groups"
   ]
  },
  {
   "cell_type": "markdown",
   "metadata": {
    "slideshow": {
     "slide_type": "slide"
    }
   },
   "source": [
    "## Go and create!\n",
    "\n",
    "1. Go to your project groups\n",
    "2. Work on worksheet 4 \n",
    "3. Remember you can ask your group for help and share screen if needed! \n",
    "\n",
    "\n",
    "![](https://media.giphy.com/media/d31vTpVi1LAcDvdm/giphy.gif)"
   ]
  },
  {
   "cell_type": "markdown",
   "metadata": {
    "slideshow": {
     "slide_type": "slide"
    }
   },
   "source": [
    "## What did we learn today?\n",
    "\n",
    "-\n",
    "- \n",
    "- "
   ]
  },
  {
   "cell_type": "markdown",
   "metadata": {
    "slideshow": {
     "slide_type": "slide"
    }
   },
   "source": [
    "### Saving the visualization\n",
    "\n",
    "There are two major types of image format for storing your visualization:\n",
    "\n",
    "- **raster graphics**\n",
    "    - stored as a grid of *pixels* each with their own colour\n",
    "    - storage size / display time is (roughly) independent of how complicated the image is\n",
    "    - zooming in / resizing causes loss of quality\n",
    "    - JPEG (`.jpg`) for natural images, PNG (`.png`) for line drawings/plots\n",
    "- **vector graphics**\n",
    "    - stored as a collection of mathematical objects (lines, geometric shapes, curves)\n",
    "    - storage size / display time depends on how complicated the image is (how many objects)\n",
    "    - can zoom in / resize arbitrarily and it still looks good\n",
    "    - SVG (`.svg`) for general usage"
   ]
  },
  {
   "cell_type": "markdown",
   "metadata": {
    "slideshow": {
     "slide_type": "slide"
    }
   },
   "source": [
    "    \n",
    "<center><img src=\"img/faithful.png\" width=\"700\"/></center>\n",
    "<center><img src=\"img/raster.png\" width=\"700\"/></center>\n",
    "<center>Zoomed in raster (left) and vector (right)</center>"
   ]
  }
 ],
 "metadata": {
  "celltoolbar": "Slideshow",
  "kernelspec": {
   "display_name": "R",
   "language": "R",
   "name": "ir"
  },
  "language_info": {
   "codemirror_mode": "r",
   "file_extension": ".r",
   "mimetype": "text/x-r-source",
   "name": "R",
   "pygments_lexer": "r",
   "version": "4.0.0"
  },
  "rise": {
   "transition": "fade"
  }
 },
 "nbformat": 4,
 "nbformat_minor": 4
}
