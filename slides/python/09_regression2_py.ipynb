{
 "cells": [
  {
   "cell_type": "code",
   "execution_count": 1,
   "metadata": {
    "slideshow": {
     "slide_type": "skip"
    }
   },
   "outputs": [
    {
     "name": "stderr",
     "output_type": "stream",
     "text": [
      "<jemalloc>: MADV_DONTNEED does not work (memset will be used instead)\n",
      "<jemalloc>: (This is the expected behaviour if you are running under QEMU)\n"
     ]
    },
    {
     "data": {
      "text/html": [
       "<div>\n",
       "<style scoped>\n",
       "    .dataframe tbody tr th:only-of-type {\n",
       "        vertical-align: middle;\n",
       "    }\n",
       "\n",
       "    .dataframe tbody tr th {\n",
       "        vertical-align: top;\n",
       "    }\n",
       "\n",
       "    .dataframe thead th {\n",
       "        text-align: right;\n",
       "    }\n",
       "</style>\n",
       "<table border=\"1\" class=\"dataframe\">\n",
       "  <thead>\n",
       "    <tr style=\"text-align: right;\">\n",
       "      <th></th>\n",
       "      <th>city</th>\n",
       "      <th>beds</th>\n",
       "      <th>baths</th>\n",
       "      <th>sqft</th>\n",
       "      <th>price</th>\n",
       "    </tr>\n",
       "  </thead>\n",
       "  <tbody>\n",
       "    <tr>\n",
       "      <th>0</th>\n",
       "      <td>SACRAMENTO</td>\n",
       "      <td>2</td>\n",
       "      <td>1.0</td>\n",
       "      <td>836</td>\n",
       "      <td>59222</td>\n",
       "    </tr>\n",
       "    <tr>\n",
       "      <th>1</th>\n",
       "      <td>SACRAMENTO</td>\n",
       "      <td>3</td>\n",
       "      <td>1.0</td>\n",
       "      <td>1167</td>\n",
       "      <td>68212</td>\n",
       "    </tr>\n",
       "    <tr>\n",
       "      <th>2</th>\n",
       "      <td>SACRAMENTO</td>\n",
       "      <td>2</td>\n",
       "      <td>1.0</td>\n",
       "      <td>796</td>\n",
       "      <td>68880</td>\n",
       "    </tr>\n",
       "    <tr>\n",
       "      <th>3</th>\n",
       "      <td>SACRAMENTO</td>\n",
       "      <td>2</td>\n",
       "      <td>1.0</td>\n",
       "      <td>852</td>\n",
       "      <td>69307</td>\n",
       "    </tr>\n",
       "    <tr>\n",
       "      <th>4</th>\n",
       "      <td>SACRAMENTO</td>\n",
       "      <td>2</td>\n",
       "      <td>1.0</td>\n",
       "      <td>797</td>\n",
       "      <td>81900</td>\n",
       "    </tr>\n",
       "    <tr>\n",
       "      <th>...</th>\n",
       "      <td>...</td>\n",
       "      <td>...</td>\n",
       "      <td>...</td>\n",
       "      <td>...</td>\n",
       "      <td>...</td>\n",
       "    </tr>\n",
       "    <tr>\n",
       "      <th>927</th>\n",
       "      <td>SACRAMENTO</td>\n",
       "      <td>4</td>\n",
       "      <td>3.0</td>\n",
       "      <td>2280</td>\n",
       "      <td>232425</td>\n",
       "    </tr>\n",
       "    <tr>\n",
       "      <th>928</th>\n",
       "      <td>SACRAMENTO</td>\n",
       "      <td>3</td>\n",
       "      <td>2.0</td>\n",
       "      <td>1477</td>\n",
       "      <td>234000</td>\n",
       "    </tr>\n",
       "    <tr>\n",
       "      <th>929</th>\n",
       "      <td>CITRUS_HEIGHTS</td>\n",
       "      <td>3</td>\n",
       "      <td>2.0</td>\n",
       "      <td>1216</td>\n",
       "      <td>235000</td>\n",
       "    </tr>\n",
       "    <tr>\n",
       "      <th>930</th>\n",
       "      <td>ELK_GROVE</td>\n",
       "      <td>4</td>\n",
       "      <td>2.0</td>\n",
       "      <td>1685</td>\n",
       "      <td>235301</td>\n",
       "    </tr>\n",
       "    <tr>\n",
       "      <th>931</th>\n",
       "      <td>EL_DORADO_HILLS</td>\n",
       "      <td>3</td>\n",
       "      <td>2.0</td>\n",
       "      <td>1362</td>\n",
       "      <td>235738</td>\n",
       "    </tr>\n",
       "  </tbody>\n",
       "</table>\n",
       "<p>932 rows × 5 columns</p>\n",
       "</div>"
      ],
      "text/plain": [
       "                city  beds  baths  sqft   price\n",
       "0         SACRAMENTO     2    1.0   836   59222\n",
       "1         SACRAMENTO     3    1.0  1167   68212\n",
       "2         SACRAMENTO     2    1.0   796   68880\n",
       "3         SACRAMENTO     2    1.0   852   69307\n",
       "4         SACRAMENTO     2    1.0   797   81900\n",
       "..               ...   ...    ...   ...     ...\n",
       "927       SACRAMENTO     4    3.0  2280  232425\n",
       "928       SACRAMENTO     3    2.0  1477  234000\n",
       "929   CITRUS_HEIGHTS     3    2.0  1216  235000\n",
       "930        ELK_GROVE     4    2.0  1685  235301\n",
       "931  EL_DORADO_HILLS     3    2.0  1362  235738\n",
       "\n",
       "[932 rows x 5 columns]"
      ]
     },
     "execution_count": 1,
     "metadata": {},
     "output_type": "execute_result"
    }
   ],
   "source": [
    "#run this before class\n",
    "import numpy as np\n",
    "import pandas as pd\n",
    "import altair as alt\n",
    "theta  = np.linspace(0, 2*np.pi, num=300)\n",
    "circle = pd.DataFrame({'X' : np.sin(theta) + 0.75 * np.random.uniform(low = 1, high = 2,size=300),\n",
    "                 'Y': np.cos(theta) + 0.75 * np.random.uniform(low = 1, high = 2,size=300)})\n",
    "circle\n",
    "circle_plot = alt.Chart(circle).mark_point(opacity=0.5,size=2).encode(\n",
    "    x=alt.X('X'),\n",
    "    y=alt.Y('Y'),\n",
    "    \n",
    ") \n",
    "circle_plot=circle_plot + circle_plot.transform_regression('X', 'Y').mark_line()   \n",
    "circle_plot\n",
    "X=np.linspace(0, 3*np.pi, num=200)\n",
    "zigzag = pd.DataFrame({'X' : X,\n",
    "                 'Y': np.cos(X) + 0.75 * np.random.uniform(low = 1, high = 2,size=200)})\n",
    "zigzag_plot =  alt.Chart(zigzag).mark_point().mark_point(opacity=0.5,size=2).encode(\n",
    "    x=alt.X('X'),\n",
    "    y=alt.Y('Y'),\n",
    "    \n",
    ") \n",
    "zigzag_plot =zigzag_plot+zigzag_plot.transform_regression('X', 'Y').mark_line()   \n",
    "zigzag_plot\n",
    "\n",
    "house_data = pd.read_csv('data/sacramento.csv',usecols=[\"city\", \"sqft\", \"price\", \"beds\", \"baths\"])\n",
    "house_data"
   ]
  },
  {
   "cell_type": "markdown",
   "metadata": {
    "slideshow": {
     "slide_type": "slide"
    }
   },
   "source": [
    "## DSCI 100 - Introduction to Data Science\n",
    "\n",
    "\n",
    "### Lecture 9 - Linear Regression\n",
    "\n",
    "<img src=\"img/presenting_monster.png\" width=500>\n",
    "\n",
    "*Artist: Allison Horst*"
   ]
  },
  {
   "cell_type": "markdown",
   "metadata": {
    "slideshow": {
     "slide_type": "skip"
    }
   },
   "source": [
    "# Housekeeping\n"
   ]
  },
  {
   "cell_type": "markdown",
   "metadata": {
    "slideshow": {
     "slide_type": "slide"
    }
   },
   "source": [
    "### Review: Classification\n",
    "\n",
    "In classification, we want to predict a *categorical* variable\n",
    "\n",
    "- What political party will someone vote for in the next US election?\n",
    "\n",
    "- Is a new patient diseased or healthy?\n",
    "\n",
    "- Is a new email spam or not?\n",
    "\n",
    "- Will a new, potential customer buy your product?"
   ]
  },
  {
   "cell_type": "markdown",
   "metadata": {
    "slideshow": {
     "slide_type": "slide"
    }
   },
   "source": [
    "### Review: Regression\n",
    "\n",
    "In regression, we want to predict a *quantitative* variable\n",
    "\n",
    "E.g. predict the price of a 2000 square foot home:\n",
    "\n",
    "<img align=\"left\" src=\"https://ubc-dsci.github.io/introduction-to-datascience/_main_files/figure-html/07-small-eda-regr-1.png\" width=\"600\"/>"
   ]
  },
  {
   "cell_type": "markdown",
   "metadata": {
    "slideshow": {
     "slide_type": "slide"
    }
   },
   "source": [
    "### Linear Regression\n",
    "\n",
    "Last time we used a nearest neighbours approach. Today we will find the line of \"best-fit\" through the data points:\n",
    "\n",
    "\n",
    "<img align=\"left\" src=\"https://ubc-dsci.github.io/introduction-to-datascience/_main_files/figure-html/08-lin-reg1-1.png\" width=\"600\"/>"
   ]
  },
  {
   "cell_type": "markdown",
   "metadata": {
    "slideshow": {
     "slide_type": "slide"
    }
   },
   "source": [
    "### Linear Regression\n",
    "\n",
    "And then we \"look up\" the value we want to predict of off of the line. \n",
    "\n",
    "\n",
    "<img align=\"left\" src=\"https://ubc-dsci.github.io/introduction-to-datascience/_main_files/figure-html/08-lin-reg2-1.png\" width=\"600\"/>"
   ]
  },
  {
   "cell_type": "markdown",
   "metadata": {
    "slideshow": {
     "slide_type": "slide"
    }
   },
   "source": [
    "### Linear Regression\n",
    "\n",
    "How do we choose the line of \"best fit\"? We can draw many lines through the data:\n",
    "\n",
    "<img align=\"left\" src=\"https://ubc-dsci.github.io/introduction-to-datascience/_main_files/figure-html/08-several-lines-1.png\" width=\"600\"/>"
   ]
  },
  {
   "cell_type": "markdown",
   "metadata": {
    "slideshow": {
     "slide_type": "slide"
    }
   },
   "source": [
    "### Linear Regression\n",
    "\n",
    "Just like last time, we will evaluate our model using the error in our predictions. \n",
    "\n",
    "We choose the line that minimzes the RMSE (square root of average squared vertical distance between prediction and training data response value).\n",
    "\n",
    "<img src=\"https://ubc-dsci.github.io/introduction-to-datascience/_main_files/figure-html/08-verticalDistToMin-1.png\" width=\"600\"/>\n",
    "\n",
    "*Why did I say \"RMSE\" and not \"RMSPE\" above?*"
   ]
  },
  {
   "cell_type": "markdown",
   "metadata": {
    "slideshow": {
     "slide_type": "slide"
    }
   },
   "source": [
    "### Linear Regression\n",
    "\n",
    "The equation for a straight line is: $Y = \\beta_0 + \\beta_1X$\n",
    "- $\\beta_0$ is the y-intercept of the line (the value where the line cuts the y-axis)\n",
    "- $\\beta_1$ is the slope of the line\n",
    "\n",
    "Finding the \"line of best fit\" = finding the values of $\\beta_0, \\beta_1$ that result in the lowest RMSE!\n",
    "\n",
    "<img align=\"left\" src=\"img/straigh-line-equation.png\" width=\"700\"/>"
   ]
  },
  {
   "cell_type": "markdown",
   "metadata": {
    "slideshow": {
     "slide_type": "slide"
    }
   },
   "source": [
    "### Demo\n",
    "\n",
    "Let's find the line of best fit (i.e., find $\\beta_0, \\beta_1$) for the housing data!"
   ]
  },
  {
   "cell_type": "code",
   "execution_count": 2,
   "metadata": {},
   "outputs": [],
   "source": [
    "import pandas as pd\n",
    "from sklearn.model_selection import train_test_split\n",
    "from sklearn.linear_model  import LinearRegression"
   ]
  },
  {
   "cell_type": "markdown",
   "metadata": {
    "slideshow": {
     "slide_type": "slide"
    }
   },
   "source": [
    "### Demo\n",
    "\n",
    "Let's find the line of best fit (i.e., find $\\beta_0, \\beta_1$) for the housing data!"
   ]
  },
  {
   "cell_type": "code",
   "execution_count": 3,
   "metadata": {},
   "outputs": [
    {
     "data": {
      "text/html": [
       "<div>\n",
       "<style scoped>\n",
       "    .dataframe tbody tr th:only-of-type {\n",
       "        vertical-align: middle;\n",
       "    }\n",
       "\n",
       "    .dataframe tbody tr th {\n",
       "        vertical-align: top;\n",
       "    }\n",
       "\n",
       "    .dataframe thead th {\n",
       "        text-align: right;\n",
       "    }\n",
       "</style>\n",
       "<table border=\"1\" class=\"dataframe\">\n",
       "  <thead>\n",
       "    <tr style=\"text-align: right;\">\n",
       "      <th></th>\n",
       "      <th>city</th>\n",
       "      <th>beds</th>\n",
       "      <th>baths</th>\n",
       "      <th>sqft</th>\n",
       "      <th>price</th>\n",
       "    </tr>\n",
       "  </thead>\n",
       "  <tbody>\n",
       "    <tr>\n",
       "      <th>0</th>\n",
       "      <td>SACRAMENTO</td>\n",
       "      <td>2</td>\n",
       "      <td>1.0</td>\n",
       "      <td>836</td>\n",
       "      <td>59222</td>\n",
       "    </tr>\n",
       "    <tr>\n",
       "      <th>1</th>\n",
       "      <td>SACRAMENTO</td>\n",
       "      <td>3</td>\n",
       "      <td>1.0</td>\n",
       "      <td>1167</td>\n",
       "      <td>68212</td>\n",
       "    </tr>\n",
       "    <tr>\n",
       "      <th>2</th>\n",
       "      <td>SACRAMENTO</td>\n",
       "      <td>2</td>\n",
       "      <td>1.0</td>\n",
       "      <td>796</td>\n",
       "      <td>68880</td>\n",
       "    </tr>\n",
       "    <tr>\n",
       "      <th>3</th>\n",
       "      <td>SACRAMENTO</td>\n",
       "      <td>2</td>\n",
       "      <td>1.0</td>\n",
       "      <td>852</td>\n",
       "      <td>69307</td>\n",
       "    </tr>\n",
       "    <tr>\n",
       "      <th>4</th>\n",
       "      <td>SACRAMENTO</td>\n",
       "      <td>2</td>\n",
       "      <td>1.0</td>\n",
       "      <td>797</td>\n",
       "      <td>81900</td>\n",
       "    </tr>\n",
       "  </tbody>\n",
       "</table>\n",
       "</div>"
      ],
      "text/plain": [
       "         city  beds  baths  sqft  price\n",
       "0  SACRAMENTO     2    1.0   836  59222\n",
       "1  SACRAMENTO     3    1.0  1167  68212\n",
       "2  SACRAMENTO     2    1.0   796  68880\n",
       "3  SACRAMENTO     2    1.0   852  69307\n",
       "4  SACRAMENTO     2    1.0   797  81900"
      ]
     },
     "execution_count": 3,
     "metadata": {},
     "output_type": "execute_result"
    }
   ],
   "source": [
    "house_data.head()"
   ]
  },
  {
   "cell_type": "markdown",
   "metadata": {
    "slideshow": {
     "slide_type": "slide"
    }
   },
   "source": [
    "### Demo\n",
    "\n",
    "Let's find the line of best fit (i.e., find $\\beta_0, \\beta_1$) for the housing data!"
   ]
  },
  {
   "cell_type": "code",
   "execution_count": null,
   "metadata": {},
   "outputs": [],
   "source": [
    "# # 1. create training data\n",
    "\n",
    "# sacramento_train, sacramento_test = #...\n",
    "# X_train = #...\n",
    "# y_train = #...\n",
    "\n",
    "# # 2. create the model specification and recipe\n",
    "\n",
    "# lm = #...\n",
    "                   \n",
    "# # 3. put it together in a workflow and fit\n",
    "\n",
    "# lm.fit('___', '____')\n",
    "\n",
    "# # 4. view 𝛽0 (intercept), and 𝛽1(slope)\n",
    "\n",
    "# pd.DataFrame({\"____\": \"____\", \"____\": \"____\"})"
   ]
  },
  {
   "cell_type": "markdown",
   "metadata": {
    "slideshow": {
     "slide_type": "notes"
    }
   },
   "source": [
    " 1. create training data\n",
    "```\n",
    "sacramento_train, sacramento_test = train_test_split(\n",
    "    house_data, train_size=0.6, random_state=1234)\n",
    "X_train = sacramento_train[[\"sqft\"]]\n",
    "y_train = sacramento_train[[\"price\"]]\n",
    "```\n",
    "\n",
    " 2. create the model specification and recipe\n",
    " \n",
    "```\n",
    "lm = LinearRegression()\n",
    "```\n",
    "\n",
    " 3. put it together in a workflow and fit\n",
    " \n",
    "```\n",
    "lm.fit(X_train, y_train)\n",
    "```\n",
    "\n",
    " 4. view 𝛽0 (intercept), and 𝛽1(slope)\n",
    "\n",
    "```\n",
    "pd.DataFrame({\"slope\": lm.coef_[0], \"intercept\": lm.intercept_})\n",
    "```\n"
   ]
  },
  {
   "cell_type": "markdown",
   "metadata": {
    "slideshow": {
     "slide_type": "slide"
    }
   },
   "source": [
    "We can then write: \n",
    "\n",
    "$(\\text{house price}) = \\beta_0 + \\beta_1\\times(\\text{house size})$\n",
    "\n",
    "And finally, fill in the values for $\\beta_0$ and $\\beta_1$:\n",
    "\n",
    "$(\\text{house price}) = 22096.546 + 133.46\\times(\\text{house size})$\n",
    "\n",
    "<img align=\"left\" src=\"https://ubc-dsci.github.io/introduction-to-datascience/_main_files/figure-html/08-lm-predict-all-1.png\" width=\"600\"/>"
   ]
  },
  {
   "cell_type": "markdown",
   "metadata": {
    "slideshow": {
     "slide_type": "slide"
    }
   },
   "source": [
    "### Linear Regression vs Nearest Neighbours\n",
    "\n",
    "- Advantages of straight line: \n",
    "    - **interpretable:** coefficients are slopes, intercepts; K-NN not easy to interpret\n",
    "    - **computation-efficient:** can fit the model much faster than K-NN\n",
    "    - **data-efficient:** needs far fewer data to find a reasonable fit\n",
    "\n",
    "- Major disadvantage of straight line: cannot capture nonlinear patterns \n",
    "\n",
    "<img align=\"left\" src=\"https://ubc-dsci.github.io/introduction-to-datascience/_main_files/figure-html/08-compareRegression-1.png\" width=\"1200\"/>"
   ]
  },
  {
   "cell_type": "markdown",
   "metadata": {
    "slideshow": {
     "slide_type": "slide"
    }
   },
   "source": [
    "### Multiple Linear Regression\n",
    "\n",
    "We can do regression with > 1 predictor. But how do we fit a line with many predictors? \n",
    "\n"
   ]
  },
  {
   "cell_type": "markdown",
   "metadata": {
    "slideshow": {
     "slide_type": "fragment"
    }
   },
   "source": [
    "We don't fit a line - we fit a *hyperplane*! e.g. for $m$ predictors:\n",
    " $$Y = \\beta_0 + \\beta_1 X_1 + \\beta_2 X_2 + \\dots + \\beta_m X_m$$ \n",
    "- $\\beta_0$: intercept\n",
    "- $\\beta_i$: slope for variable $i=1, \\dots, m$\n",
    "\n",
    "<img src=\"https://miro.medium.com/max/2874/1*d0icRnPHWjHSNXxuoYT5Vg.png\" width=\"800\"/>\n",
    "\n",
    "https://ubc-dsci.github.io/introduction-to-datascience/regression2.html#multivariate-linear-regression\n",
    "\n"
   ]
  },
  {
   "cell_type": "markdown",
   "metadata": {
    "slideshow": {
     "slide_type": "slide"
    }
   },
   "source": [
    "### Why/why not linear/k-nn regression?\n",
    "\n",
    "Models are not \"one-size fits all.\" "
   ]
  },
  {
   "cell_type": "code",
   "execution_count": null,
   "metadata": {
    "slideshow": {
     "slide_type": "-"
    }
   },
   "outputs": [],
   "source": [
    "# zigzag_plot"
   ]
  },
  {
   "cell_type": "markdown",
   "metadata": {
    "slideshow": {
     "slide_type": "slide"
    }
   },
   "source": [
    "### Why/why not linear/k-nn regression?\n",
    "\n",
    "Models are not \"one-size fits all.\" "
   ]
  },
  {
   "cell_type": "code",
   "execution_count": null,
   "metadata": {
    "slideshow": {
     "slide_type": "-"
    }
   },
   "outputs": [],
   "source": [
    "# circle_plot"
   ]
  },
  {
   "cell_type": "markdown",
   "metadata": {
    "slideshow": {
     "slide_type": "slide"
    }
   },
   "source": [
    "## Worksheet time - go for it!\n",
    "\n",
    "<img src = \"https://media.giphy.com/media/BpGWitbFZflfSUYuZ9/giphy.gif\">"
   ]
  },
  {
   "cell_type": "markdown",
   "metadata": {
    "slideshow": {
     "slide_type": "skip"
    }
   },
   "source": [
    "## Break time! \n",
    "- Take a break! Lecture will resume at 2:30 PM (PT)"
   ]
  },
  {
   "cell_type": "markdown",
   "metadata": {
    "slideshow": {
     "slide_type": "skip"
    }
   },
   "source": [
    "### View examples from the textbook:\n",
    "\n",
    "- https://ubc-dsci.github.io/introduction-to-datascience-python/regression2.html#multivariable-linear-regression\n",
    "- https://ubc-dsci.github.io/introduction-to-datascience-python/regression1.html#multivariable-knn-regression\n",
    "\n",
    "\n"
   ]
  }
 ],
 "metadata": {
  "celltoolbar": "Slideshow",
  "kernelspec": {
   "display_name": "Python 3 (ipykernel)",
   "language": "python",
   "name": "python3"
  },
  "language_info": {
   "codemirror_mode": {
    "name": "ipython",
    "version": 3
   },
   "file_extension": ".py",
   "mimetype": "text/x-python",
   "name": "python",
   "nbconvert_exporter": "python",
   "pygments_lexer": "ipython3",
   "version": "3.11.6"
  },
  "rise": {
   "transition": "fade"
  }
 },
 "nbformat": 4,
 "nbformat_minor": 4
}
