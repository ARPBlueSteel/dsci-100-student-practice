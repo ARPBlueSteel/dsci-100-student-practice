{
 "cells": [
  {
   "cell_type": "code",
   "execution_count": null,
   "metadata": {
    "editable": true,
    "slideshow": {
     "slide_type": "notes"
    },
    "tags": []
   },
   "outputs": [],
   "source": [
    "# Run before lecture to load datasets and do simple prep\n",
    "import altair as alt #plotting\n",
    "import pandas as pd #data wrangling/plotting\n",
    "import numpy as np \n",
    "alt.data_transformers.disable_max_rows()\n",
    "\n",
    "\n",
    "#Mauna Loa\n",
    "co2_df = pd.read_csv(\"data/co2_df.csv\",index_col=[0])\n",
    "co2_df['date'] = pd.to_datetime(co2_df['date']).dt.floor('d')\n",
    "\n",
    "\n",
    "#Top 12 Island landmasses\n",
    "\n",
    "islands_df = pd.read_csv(\n",
    "    \"data/islands.csv\",\n",
    "    names = ['landmass', 'size'],\n",
    "    skiprows=1\n",
    ")\n",
    "\n",
    "continents = ['Africa', 'Antarctica', 'Asia', 'Australia', 'Europe', 'North America', 'South America']\n",
    "\n",
    "islands_df['landmass_type'] = np.where(islands_df['landmass'].isin(continents),'continent','other')\n",
    "\n",
    "\n",
    "#gapminder\n",
    "\n",
    "gapminder = pd.read_csv(\"data/gapminder.csv\")\n",
    "gapminder_filter = gapminder.loc[:,[\"country\", \"year\", \"continent\", \"life_expectancy\"]]\n",
    "gapminder_2016=gapminder_filter[gapminder_filter[\"year\"]==2016].reset_index()\n",
    "\n",
    "#mtcars\n",
    "\n",
    "mtcars= pd.read_csv(\"data/mtcars.csv\",index_col=0)\n",
    "\n",
    "\n",
    "#diamonds\n",
    "diamonds = pd.read_csv(\"data/diamonds.csv\",index_col=0)"
   ]
  },
  {
   "cell_type": "markdown",
   "metadata": {
    "editable": true,
    "slideshow": {
     "slide_type": "slide"
    },
    "tags": []
   },
   "source": [
    "# DSCI 100 - Introduction to Data Science\n",
    "\n",
    "\n",
    "## Lecture 4 - Data visualization in Python\n",
    "\n",
    "\n",
    "**Attribution:** images in these slides that are not accompanied by code mostly come from <br>[The Fundamentals of Data Visualization by Claus O. Wilke](https://clauswilke.com/dataviz/)\n",
    "\n",
    "<img src=\"img/visual-data-exploration_modified.png\" width=\"500\"/>\n",
    "\n",
    "*Artwork modified from original by @allison_horst*"
   ]
  },
  {
   "cell_type": "markdown",
   "metadata": {
    "editable": true,
    "slideshow": {
     "slide_type": "slide"
    },
    "tags": []
   },
   "source": [
    "# Housekeeping\n"
   ]
  },
  {
   "cell_type": "markdown",
   "metadata": {
    "editable": true,
    "slideshow": {
     "slide_type": "slide"
    },
    "tags": []
   },
   "source": [
    "### Today: Visualization  \n",
    "\n",
    "\n",
    "<center>\n",
    "<img src=\"https://d33wubrfki0l68.cloudfront.net/571b056757d68e6df81a3e3853f54d3c76ad6efc/32d37/diagrams/data-science.png\" width=\"1200\"/>\n",
    "</center>\n",
    "\n",
    "*image source: [R for Data Science](https://r4ds.had.co.nz/) by Grolemund & Wickham*"
   ]
  },
  {
   "cell_type": "markdown",
   "metadata": {
    "editable": true,
    "slideshow": {
     "slide_type": "slide"
    },
    "tags": []
   },
   "source": [
    "### Designing a visualization: ask a question, then answer it\n",
    "\n",
    "The purpose of a visualization is to *answer a question* about a dataset of interest.\n",
    "\n",
    "A good visualization answers the question clearly. A *great* visualization also hints at the question itself."
   ]
  },
  {
   "cell_type": "markdown",
   "metadata": {
    "editable": true,
    "slideshow": {
     "slide_type": "fragment"
    },
    "tags": []
   },
   "source": [
    "Visualizations alone help us answer two types of questions:\n",
    "\n",
    "- **descriptive:** What are the largest 7 landmasses on Earth?\n",
    "- **exploratory:** Is there a relationship between penguin body mass and bill length?\n",
    "- ~~inferential~~\n",
    "- ~~predictive~~\n",
    "- ~~causal~~\n",
    "- ~~mechanistic~~\n",
    "\n",
    "(we need more tools + visualizations to answer the others)"
   ]
  },
  {
   "cell_type": "markdown",
   "metadata": {
    "editable": true,
    "slideshow": {
     "slide_type": "notes"
    },
    "tags": []
   },
   "source": [
    "- Descriptive: A question which asks about summarized characteristics of a data set without interpretation (i.e., report a fact).\t(describe characteristics)\n",
    "\n",
    "- Exploratory: A question asks if there are patterns, trends, or relationships within a single data set. Often used to propose hypotheses for future study. (discovery of ideas and thoughts)\n",
    "\n",
    "- inferential: determine if association observed in your exploratory analysis hold in a different sample that is rep of pop (infew what is true)\n",
    "\n",
    "- predictive: what predicts whether someone will eat a certain diet \n",
    "\n",
    "- causal: whether changing one factor will change another factor \n",
    "\n",
    "- mechanistic: how e.g. how diet leads to a reduction in the number of viral illnesses"
   ]
  },
  {
   "cell_type": "markdown",
   "metadata": {
    "editable": true,
    "slideshow": {
     "slide_type": "slide"
    },
    "tags": []
   },
   "source": [
    "### Creating visualizations in Python\n",
    "\n",
    "- It's an iterative procedure. Try things, make mistakes, and refine! \n",
    "- We will use the `altair` package. There are three key aspects of plots in `altair`:\n",
    "    1. `alt.Chart` creates a base chart and specifies which data to use.\n",
    "    2. `mark_*` specifies which graphical marks to use when displaying the data.\n",
    "    3. `encode` indicates how data frame columns should be encoded to visual channels (x, y, colors, etc)."
   ]
  },
  {
   "cell_type": "markdown",
   "metadata": {
    "editable": true,
    "slideshow": {
     "slide_type": "fragment"
    },
    "tags": []
   },
   "source": [
    "- All aspects of our chart will be chained using the dot notation i.e.\n",
    "\n",
    "```python\n",
    "alt.Chart(df).mark_circle().encode(\n",
    "    x='column1',\n",
    "    y='column2',\n",
    ")\n",
    "```"
   ]
  },
  {
   "cell_type": "markdown",
   "metadata": {
    "editable": true,
    "slideshow": {
     "slide_type": "slide"
    },
    "tags": []
   },
   "source": [
    "### Scatter Plots\n",
    "\n",
    "To visualize the relationship between two quantitative variables\n",
    "\n",
    "e.g. Is there a relationship between horsepower and fuel economy of an engine? Does the number of cylinders affect that relationship?"
   ]
  },
  {
   "cell_type": "markdown",
   "metadata": {
    "slideshow": {
     "slide_type": "fragment"
    },
    "tags": []
   },
   "source": [
    "#### Types of variables \n",
    "A **variable** refers to a characteristic of interest and can be: \n",
    "\n",
    "1. categorical: can be divided into groups (categories) e.g. marital status \n",
    "2. quantitative: measured on a numeric scale (usually units are attached) e.g. height"
   ]
  },
  {
   "cell_type": "code",
   "execution_count": null,
   "metadata": {
    "slideshow": {
     "slide_type": "slide"
    },
    "tags": []
   },
   "outputs": [],
   "source": [
    "# Load pandas for reading in data\n",
    "import pandas as pd\n",
    "\n",
    "\n",
    "mtcars = pd.read_csv(\"data/mtcars.csv\").rename(columns={'Unnamed: 0': 'model'})\n",
    "mtcars"
   ]
  },
  {
   "cell_type": "code",
   "execution_count": null,
   "metadata": {
    "editable": true,
    "slideshow": {
     "slide_type": "slide"
    },
    "tags": []
   },
   "outputs": [],
   "source": [
    "# Is there a relationship between fuel economy (mpg) and horsepower?\n"
   ]
  },
  {
   "cell_type": "markdown",
   "metadata": {
    "editable": true,
    "slideshow": {
     "slide_type": "notes"
    },
    "tags": []
   },
   "source": [
    "Build up one-by-one:\n",
    "\n",
    "```python\n",
    "alt.Chart(mtcars).mark_circle()\n",
    "```\n",
    "\n",
    "then add:\n",
    "\n",
    "```python\n",
    ".encode(\n",
    "    x=\"hp\"\n",
    ")\n",
    "```\n",
    "\n",
    "then also add:\n",
    "\n",
    "```python\n",
    "    y=\"mpg\"\n",
    "```\n",
    "\n",
    "Ask students: does there seem to be a relationship between the fuel efficiency and horsepower?\n",
    "\n",
    "As horsepower increases miles per gallon (fuel efficiency) tends to decrease (negative relationship). But is this true for all cars? Can we group the data in some way to find out more? What about per the number of cylinders (the size) of the engine?\n",
    "\n",
    "```python\n",
    "# Color per cylinder\n",
    "alt.Chart(mtcars).mark_circle().encode(\n",
    "    x=\"hp\",\n",
    "    y=\"mpg\", \n",
    "    color=\"cyl\"\n",
    ")\n",
    "```\n",
    "\n",
    "to change to the cylinder to use a categorical color map, we need to use the `:N` suffix to tell altair this is a \"nominal\" (categorical) column.\n",
    "\n",
    "Ask students, does there seem to be a relationship between these two variables within cars with the same engine size?\n",
    "\n",
    "Cars with more cylinders tend to have higher horsepower and lower fuel efficiency. We can make this plot easier to understand by adding axis labels. When doing this we need to use the helper functions `alt.X` and `alt.Y`.\n",
    "\n",
    "```python\n",
    "# Add labels\n",
    "alt.Chart(mtcars).mark_circle().encode(\n",
    "    x=alt.X(\"hp\").title(\"Horsepower\"),\n",
    "    y=alt.Y(\"mpg\").title(\"Miles per Gallon\"), \n",
    "    color=alt.Color(\"cyl:N\").title(\"Cylinders\")\n",
    ")\n",
    "```"
   ]
  },
  {
   "cell_type": "markdown",
   "metadata": {
    "slideshow": {
     "slide_type": "slide"
    }
   },
   "source": [
    "### Line Plots\n",
    "\n",
    "To visualize trends with respect to an independent quantity \n",
    "\n",
    "e.g. How has atmospheric carbon dioxide changed over the last 40 years?\n",
    "\n",
    "<center><img src=\"https://media.sciencephoto.com/e1/80/03/84/e1800384-800px-wm.jpg\" width=\"600\"/> \n",
    "\n",
    "Mauna Loa Research Station</center>"
   ]
  },
  {
   "cell_type": "code",
   "execution_count": null,
   "metadata": {
    "slideshow": {
     "slide_type": "slide"
    }
   },
   "outputs": [],
   "source": [
    "# Inspect the data\n",
    "co2_df"
   ]
  },
  {
   "cell_type": "code",
   "execution_count": null,
   "metadata": {
    "editable": true,
    "slideshow": {
     "slide_type": "slide"
    },
    "tags": []
   },
   "outputs": [],
   "source": [
    "# How does atmospheric CO2 concentration change over time?\n"
   ]
  },
  {
   "cell_type": "markdown",
   "metadata": {
    "slideshow": {
     "slide_type": "notes"
    }
   },
   "source": [
    "Start with `mark_circle` as we just learned:\n",
    "\n",
    "```\n",
    "alt.Chart(co2_df).mark_circle().encode(\n",
    "    x=\"date\", \n",
    "    y=\"concentration\"\n",
    ")\n",
    "```\n",
    "\n",
    "*note the scale attribute for the y-axis\n",
    "```\n",
    "alt.Chart(co2_df).mark_circle().encode(\n",
    "    x=\"date\", \n",
    "    y=alt.Y(\"concentration\").scale(zero=False)\n",
    ")\n",
    "```\n",
    "\n",
    "The visualization shows a clear upward trend in the atmospheric concentration of CO2 over time.\n",
    "However, something is not quite right here; ask students what wrong with this plot (overplotting).\n",
    "\n",
    "Switch to `mark_line`:\n",
    "\n",
    "```\n",
    "alt.Chart(co2_df).mark_line().encode(\n",
    "    x=\"date\", \n",
    "    y=alt.Y(\"concentration\").scale(zero=False)\n",
    ")\n",
    "```\n",
    "\n",
    "Share additional conclusion: The concentration seems to oscillate as well.\n",
    "\n",
    "Optionally add labels or just mention it.\n",
    "Can show that when chaining two methods its nice to have them on separate rows.\n",
    "\n",
    "```\n",
    "alt.Chart(co2_df).mark_line().encode(\n",
    "    x=alt.X(\"date\").title('Year'), \n",
    "    y=alt.Y(\"concentration\")\n",
    "        .scale(zero=False)\n",
    "        .title('Concentration (ppm)')\n",
    ")\n",
    "```"
   ]
  },
  {
   "cell_type": "markdown",
   "metadata": {
    "slideshow": {
     "slide_type": "slide"
    }
   },
   "source": [
    "### Bar Plots\n",
    "\n",
    "To visualize the comparison of amounts\n",
    "\n",
    "e.g. Which are the largest 12 island landmasses on Earth? Are they all continents or are there some other islands with large landmasses as well?\n",
    "\n",
    "<center>\n",
    "<img src=\"https://upload.wikimedia.org/wikipedia/commons/thumb/c/cf/Worldmap_LandAndPolitical.jpg/1200px-Worldmap_LandAndPolitical.jpg\" width=\"800\"/>\n",
    "    Source: Wiktionary\n",
    "</center>"
   ]
  },
  {
   "cell_type": "code",
   "execution_count": null,
   "metadata": {
    "slideshow": {
     "slide_type": "slide"
    }
   },
   "outputs": [],
   "source": [
    "# Inspect the data\n",
    "islands_df"
   ]
  },
  {
   "cell_type": "code",
   "execution_count": null,
   "metadata": {
    "slideshow": {
     "slide_type": "slide"
    }
   },
   "outputs": [],
   "source": [
    "# What are the largest 12 island landmasses on Earth?\n"
   ]
  },
  {
   "cell_type": "markdown",
   "metadata": {
    "editable": true,
    "slideshow": {
     "slide_type": "notes"
    },
    "tags": []
   },
   "source": [
    "Simplest approach first:\n",
    "\n",
    "```\n",
    "alt.Chart(islands_df).mark_bar().encode(\n",
    "    x=\"landmass\",\n",
    "    y=\"size\"\n",
    ")\n",
    "```\n",
    "\n",
    "The major issues are that the smaller landmasses’ sizes are hard to distinguish,\n",
    "and the names of the landmasses are tilted by default to fit in the labels. \n",
    "Let's switch X and Y and also look at only the largest landmasses;\n",
    "\n",
    "```\n",
    "islands_top12 = islands_df.nlargest(12, \"size\")  \n",
    "\n",
    "alt.Chart(islands_top12).mark_bar().encode(\n",
    "    x=\"size\",\n",
    "    y=\"landmass\"\n",
    ")\n",
    "```\n",
    "\n",
    "\n",
    "To make the plot easier to read, we can reorder the bars by size. Generally we put the largest bar closest to the axis, but this is not a hard rule.\n",
    "This will also allow us to make the answer to our question clearer.\n",
    "```\n",
    "alt.Chart(islands_top12).mark_bar().encode(\n",
    "    x=\"size\",\n",
    "    y=alt.Y(\"landmass\").sort('x')\n",
    ")\n",
    "```\n",
    "\n",
    "Furthermore, we migh want to color the bars based on whether they are a continent or not\n",
    "```\n",
    "alt.Chart(islands_top12).mark_bar().encode(\n",
    "    x=\"size\",\n",
    "    y=alt.Y(\"landmass\").sort('x'),\n",
    "    color='landmass_type'\n",
    ")\n",
    "```\n",
    "\n",
    "we should also change the labels to meaningful names\n",
    "```\n",
    "alt.Chart(islands_top12).mark_bar().encode(\n",
    "    x=alt.X(\"size\").title('Size (1000 square mi)'),\n",
    "    y=alt.Y(\"landmass\").sort('x').title('Landmass'),\n",
    "    color=alt.Color('landmass_type').title('Type')\n",
    ")\n",
    "```"
   ]
  },
  {
   "cell_type": "markdown",
   "metadata": {
    "slideshow": {
     "slide_type": "slide"
    }
   },
   "source": [
    "### Histograms\n",
    "\n",
    "To visualize the distribution of a single quantitative variable\n",
    "\n",
    "e.g. Was there a difference in life expectancy across different continents in 2016?"
   ]
  },
  {
   "cell_type": "code",
   "execution_count": null,
   "metadata": {
    "slideshow": {
     "slide_type": "fragment"
    }
   },
   "outputs": [],
   "source": [
    "# Inspect the data\n",
    "gapminder_2016"
   ]
  },
  {
   "cell_type": "code",
   "execution_count": null,
   "metadata": {
    "editable": true,
    "slideshow": {
     "slide_type": "slide"
    },
    "tags": []
   },
   "outputs": [],
   "source": [
    "# Was there a difference in life expectancy across different continents in 2016?\n"
   ]
  },
  {
   "cell_type": "markdown",
   "metadata": {
    "slideshow": {
     "slide_type": "notes"
    }
   },
   "source": [
    "First let's create a histogram of all countries' life expectancies.\n",
    "\n",
    "```\n",
    "alt.Chart(gapminder_2016).mark_bar().encode(\n",
    "    x='life_expectancy',\n",
    "    y='count()'\n",
    ")\n",
    "```\n",
    "\n",
    "Hmmm, that looks kind of correct and kind of not correct.\n",
    "Ask student: why does this plot look so spikey and what could we do to fix it?\n",
    "\n",
    "We need to bin/group the x-variable:\n",
    "\n",
    "```\n",
    "alt.Chart(gapminder_2016).mark_bar().encode(\n",
    "    x =alt.X(\"life_expectancy\").bin(),\n",
    "    y='count()',\n",
    "\n",
    ")\n",
    "```\n",
    "\n",
    "Then color by continent.\n",
    "\n",
    "```\n",
    "alt.Chart(gapminder_2016).mark_bar().encode(\n",
    "    x =alt.X(\"life_expectancy\").bin(),\n",
    "    y='count()',\n",
    "    color=\"continent\",\n",
    ")\n",
    "```\n",
    "\n",
    "The position of the bars defaults to \"stack\" that they are stacked on top of each other - not very easy to read.\n",
    "This is not an effective way to convey this information, so let’s try a different strategy of creating multiple separate histograms instead using facetting.\n",
    "\n",
    "```\n",
    "alt.Chart(gapminder_2016).mark_bar().encode(\n",
    "    x =alt.X(\"life_expectancy\").bin(),\n",
    "    y='count()',\n",
    "    color=\"continent\",\n",
    ").facet(\n",
    "    'continent'\n",
    ")\n",
    "```\n",
    "When we want to compare the x-axes between the facets as in this case,\n",
    "it is more effective to stack in a column instead of in a row\n",
    "since we can easier compare the position of the different histograms along the x-axis.\n",
    "\n",
    "```\n",
    "alt.Chart(gapminder_2016).mark_bar().encode(\n",
    "    x =alt.X(\"life_expectancy\").bin(),\n",
    "    y='count()',\n",
    "    color=\"continent\",\n",
    ").facet(\n",
    "    'continent',\n",
    "    columns=1\n",
    ")\n",
    "```\n",
    "\n",
    "Changing the height of the charts so that we can see everything at once simplifies things further:\n",
    "\n",
    "```\n",
    "alt.Chart(gapminder_2016).mark_bar().encode(\n",
    "    x =alt.X(\"life_expectancy\").bin(),\n",
    "    y='count()',\n",
    "    color=\"continent\",\n",
    ").properties(\n",
    "    height=100\n",
    ").facet(\n",
    "    'continent',\n",
    "    columns=1\n",
    ")\n",
    "\n",
    "```\n",
    "That looks much better and is easy to compare! (Mention that axis labels should be changed to be human readable and optionally show it as well as how to make the plot taller)"
   ]
  },
  {
   "cell_type": "markdown",
   "metadata": {
    "editable": true,
    "slideshow": {
     "slide_type": "skip"
    },
    "tags": []
   },
   "source": [
    "## A few rules of thumb for creating effective visualizations"
   ]
  },
  {
   "cell_type": "markdown",
   "metadata": {
    "editable": true,
    "slideshow": {
     "slide_type": "skip"
    },
    "tags": []
   },
   "source": [
    "### Rule of Thumb: No tables / pie charts / 3D\n",
    "\n",
    "<img src=\"img/pie.png\" width=\"1200\" />"
   ]
  },
  {
   "cell_type": "markdown",
   "metadata": {
    "editable": true,
    "slideshow": {
     "slide_type": "skip"
    },
    "tags": []
   },
   "source": [
    "Which one is easier to interpret? \n",
    "Pie graph - colours don't mean anything (unneccessary) \n",
    "- hard to see size of slices relative to the other slices "
   ]
  },
  {
   "cell_type": "markdown",
   "metadata": {
    "editable": true,
    "slideshow": {
     "slide_type": "skip"
    },
    "tags": []
   },
   "source": [
    "### Rule of Thumb: No tables / pie charts / 3D\n",
    "\n",
    "<img align=\"left\" src=\"https://clauswilke.com/dataviz/no_3d_files/figure-html/VA-death-rates-3d-1.png\" width=\"600\" />\n",
    "<img align=\"right\" src=\"https://clauswilke.com/dataviz/no_3d_files/figure-html/VA-death-rates-Trellis-1.png\" width=\"800\" />"
   ]
  },
  {
   "cell_type": "markdown",
   "metadata": {
    "editable": true,
    "slideshow": {
     "slide_type": "skip"
    },
    "tags": []
   },
   "source": [
    "- the third dimension does not improve the reading of the data\n",
    "- these plots are difficult to interpret because of the distorted effect of perspective associated with the third dimension. \n",
    "- 3D is discouraged for charts in general, and should only be used for very specific applications\n",
    "- the bars or slices in a pie graph that are closer to the reader appear to be larger than those in the back due to the angle at which they're presented"
   ]
  },
  {
   "cell_type": "markdown",
   "metadata": {
    "editable": true,
    "slideshow": {
     "slide_type": "skip"
    },
    "tags": []
   },
   "source": [
    "### Rule of Thumb: Use simple, colourblind-friendly colour palettes\n",
    "<img align=\"left\" src=\"https://clauswilke.com/dataviz/pitfalls_of_color_use_files/figure-html/popgrowth-vs-popsize-colored-1.png\" width=\"500\" />\n",
    "<img align=\"right\" src=\"https://clauswilke.com/dataviz/pitfalls_of_color_use_files/figure-html/popgrowth-vs-popsize-bw-1.png\" width=\"800\" />"
   ]
  },
  {
   "cell_type": "markdown",
   "metadata": {
    "editable": true,
    "slideshow": {
     "slide_type": "skip"
    },
    "tags": []
   },
   "source": [
    "- https://www.color-blindness.com/coblis-color-blindness-simulator/"
   ]
  },
  {
   "cell_type": "markdown",
   "metadata": {
    "editable": true,
    "slideshow": {
     "slide_type": "skip"
    },
    "tags": []
   },
   "source": [
    "\n",
    "### Rule of Thumb: Include labels and legends, make them legible\n",
    "\n",
    "Remember: a great visualization tells its own story without needing you to be there explaining things<img align=\"left\" src=\"https://clauswilke.com/dataviz/small_axis_labels_files/figure-html/Aus-athletes-small-1.png\" width=\"700\" />\n",
    "<img align=\"right\" src=\"https://clauswilke.com/dataviz/small_axis_labels_files/figure-html/Aus-athletes-good-1.png\" width=\"700\" />"
   ]
  },
  {
   "cell_type": "markdown",
   "metadata": {
    "editable": true,
    "slideshow": {
     "slide_type": "skip"
    },
    "tags": []
   },
   "source": [
    "<img align=\"left\" src=\"https://clauswilke.com/dataviz/figure_titles_captions_files/figure-html/tech-stocks-minimal-labeling-bad-1.png\" width=\"700\" />\n",
    "<img align=\"right\" src=\"https://clauswilke.com/dataviz/figure_titles_captions_files/figure-html/tech-stocks-minimal-labeling-1.png\" width=\"700\" />"
   ]
  },
  {
   "cell_type": "markdown",
   "metadata": {
    "editable": true,
    "slideshow": {
     "slide_type": "skip"
    },
    "tags": []
   },
   "source": [
    "### Rule of Thumb: avoid overplotting\n",
    "\n",
    "Generally, need to use an alternative geometric object"
   ]
  },
  {
   "cell_type": "code",
   "execution_count": null,
   "metadata": {
    "editable": true,
    "slideshow": {
     "slide_type": "skip"
    },
    "tags": []
   },
   "outputs": [],
   "source": [
    "\n",
    "diamond_plot =  alt.Chart(diamonds).mark_circle().encode(\n",
    "    x=alt.X(\"carat\",title=\"Size (carat)\"),\n",
    "    y=alt.Y(\"price\",title=\"Price (US dollars)\")\n",
    ")\n",
    "diamond_plot"
   ]
  },
  {
   "cell_type": "markdown",
   "metadata": {
    "editable": true,
    "slideshow": {
     "slide_type": "skip"
    },
    "tags": []
   },
   "source": [
    "Add `opacity=0.5` to `mark_*`\n",
    "- transparency setting between [0,1]"
   ]
  },
  {
   "cell_type": "markdown",
   "metadata": {
    "editable": true,
    "slideshow": {
     "slide_type": "notes"
    },
    "tags": []
   },
   "source": [
    "- too many colours (overwhelming)\n",
    "- less is more\n",
    "\n",
    "\n",
    "- Make sure to use colourschemes that are understandable by those with colourblindness. For example, the RColorBrewer R library provide the ability to pick such colourschemes, and you can check your visualizations after you have created them by uploading to online tools such as the colour blindness simulator.\n",
    "- Redundancy can be helpful; sometimes conveying the same message in multiple ways reinforces it for the audience. For instance you can also consider using shapes to represent different groups"
   ]
  },
  {
   "cell_type": "markdown",
   "metadata": {
    "editable": true,
    "slideshow": {
     "slide_type": "slide"
    },
    "tags": []
   },
   "source": [
    "## Go and create!\n",
    "\n",
    "\n",
    "![](https://media.giphy.com/media/d31vTpVi1LAcDvdm/giphy.gif)"
   ]
  },
  {
   "cell_type": "markdown",
   "metadata": {
    "editable": true,
    "slideshow": {
     "slide_type": "slide"
    },
    "tags": []
   },
   "source": [
    "## What did we learn today?\n",
    "\n",
    "-\n",
    "- \n",
    "- "
   ]
  },
  {
   "cell_type": "markdown",
   "metadata": {
    "editable": true,
    "slideshow": {
     "slide_type": "skip"
    },
    "tags": []
   },
   "source": [
    "### Saving the visualization\n",
    "\n",
    "There are two major types of image format for storing your visualization:\n",
    "\n",
    "- **raster graphics**\n",
    "    - stored as a grid of *pixels* each with their own colour\n",
    "    - storage size / display time is (roughly) independent of how complicated the image is\n",
    "    - zooming in / resizing causes loss of quality\n",
    "    - JPEG (`.jpg`) for natural images, PNG (`.png`) for line drawings/plots\n",
    "- **vector graphics**\n",
    "    - stored as a collection of mathematical objects (lines, geometric shapes, curves)\n",
    "    - storage size / display time depends on how complicated the image is (how many objects)\n",
    "    - can zoom in / resize arbitrarily and it still looks good\n",
    "    - SVG (`.svg`) for general usage"
   ]
  },
  {
   "cell_type": "markdown",
   "metadata": {
    "editable": true,
    "slideshow": {
     "slide_type": "skip"
    },
    "tags": []
   },
   "source": [
    "    \n",
    "<center><img src=\"img/faithful.png\" width=\"700\"/></center>\n",
    "<center><img src=\"img/raster.png\" width=\"700\"/></center>\n",
    "<center>Zoomed in raster (left) and vector (right)</center>"
   ]
  }
 ],
 "metadata": {
  "celltoolbar": "Slideshow",
  "kernelspec": {
   "display_name": "Python 3 (ipykernel)",
   "language": "python",
   "name": "python3"
  },
  "language_info": {
   "codemirror_mode": {
    "name": "ipython",
    "version": 3
   },
   "file_extension": ".py",
   "mimetype": "text/x-python",
   "name": "python",
   "nbconvert_exporter": "python",
   "pygments_lexer": "ipython3",
   "version": "3.11.6"
  },
  "rise": {
   "transition": "fade"
  }
 },
 "nbformat": 4,
 "nbformat_minor": 4
}
