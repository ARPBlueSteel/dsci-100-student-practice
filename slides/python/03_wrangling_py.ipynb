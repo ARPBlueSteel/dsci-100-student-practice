{
 "cells": [
  {
   "cell_type": "code",
   "execution_count": null,
   "metadata": {},
   "outputs": [],
   "source": [
    "import warnings"
   ]
  },
  {
   "cell_type": "markdown",
   "metadata": {
    "editable": true,
    "slideshow": {
     "slide_type": "slide"
    },
    "tags": []
   },
   "source": [
    "# DSCI 100 - Introduction to Data Science\n",
    "\n",
    "\n",
    "## Lecture 3 - Wrangling to get tidy data\n",
    "\n",
    "*Credit to [Jenny Brian's slides](https://www.slideshare.net/Plotly/plotcon-nyc-behind-every-great-plot-theres-a-great-deal-of-wrangling) and Garrett Grolemund's [tidying example](https://garrettgman.github.io/tidying/)*\n",
    "\n",
    "\n",
    "<img src=\"img/intentional_arrival.png\" width=800>"
   ]
  },
  {
   "cell_type": "markdown",
   "metadata": {
    "editable": true,
    "slideshow": {
     "slide_type": "slide"
    },
    "tags": []
   },
   "source": [
    "### Housekeeping\n",
    "- Reminder about worksheets/tutorials: \n",
    " - **do not ever rename, move, or delete your worksheet**\n",
    "         - **do not use \"Save As...\" when you're saving your work**\n",
    "         - use \"Save Notebook\" or Ctrl-S instead!\n",
    "     - at a minimum, if you move/delete/rename worksheets, our autograder won't be able to find them and will give you 0\n",
    "- You can download your worksheets and tutorials to your computer if you think something has gone terribly wrong."
   ]
  },
  {
   "cell_type": "markdown",
   "metadata": {
    "slideshow": {
     "slide_type": "slide"
    }
   },
   "source": [
    "## Reminder  \n",
    "\n",
    "Where are we? Where are we going?\n",
    "\n",
    "<center><img src=\"https://d33wubrfki0l68.cloudfront.net/571b056757d68e6df81a3e3853f54d3c76ad6efc/32d37/diagrams/data-science.png\" width=\"800px\"/></center>\n",
    "\n",
    "*image source: [R for Data Science](https://r4ds.had.co.nz/) by Grolemund & Wickham*"
   ]
  },
  {
   "cell_type": "markdown",
   "metadata": {
    "editable": true,
    "slideshow": {
     "slide_type": "slide"
    },
    "tags": []
   },
   "source": [
    "## Data Wrangling!\n",
    "<img src=\"https://raw.githubusercontent.com/allisonhorst/stats-illustrations/main/rstats-artwork/data_cowboy.png\" width=\"700\"/>\n",
    "\n",
    "[The cartoon illustrations in this slide deck are all created by Allison Horst](https://github.com/allisonhorst/stats-illustrations/tree/main/rstats-artwork)\n",
    "\n",
    "- In the real world, when you get data, it's usually *very messy*\n",
    "  - inconsistent format (commas, tabs, semicolons, missing data, extra empty lines)\n",
    "  - split into multiple files (e.g. yearly recorded data over many years)\n",
    "  - corrupted files, custom formats\n",
    "- when you read it successfully into Python, it will often still be *very messy*"
   ]
  },
  {
   "cell_type": "markdown",
   "metadata": {
    "editable": true,
    "slideshow": {
     "slide_type": "fragment"
    },
    "tags": []
   },
   "source": [
    "- you need to make your data **\"tidy\"**"
   ]
  },
  {
   "cell_type": "markdown",
   "metadata": {
    "slideshow": {
     "slide_type": "slide"
    }
   },
   "source": [
    "## What is Tidy Data?\n",
    "\n",
    "<img src=\"https://github.com/allisonhorst/stats-illustrations/raw/main/rstats-artwork/tidydata_1.jpg\" width=800>"
   ]
  },
  {
   "cell_type": "markdown",
   "metadata": {
    "slideshow": {
     "slide_type": "fragment"
    }
   },
   "source": [
    "*Illustrations from the [Openscapes](https://www.openscapes.org/) blog [Tidy Data for reproducibility, efficiency, and collaboration](https://www.openscapes.org/blog/2020/10/12/tidy-data/) by Julia Lowndes and Allison Horst\"*\n"
   ]
  },
  {
   "cell_type": "markdown",
   "metadata": {
    "editable": true,
    "slideshow": {
     "slide_type": "slide"
    },
    "tags": []
   },
   "source": [
    "\n",
    "<img src=\"https://github.com/allisonhorst/stats-illustrations/raw/main/rstats-artwork/tidydata_2.jpg\" width=800>"
   ]
  },
  {
   "cell_type": "markdown",
   "metadata": {
    "editable": true,
    "slideshow": {
     "slide_type": "slide"
    },
    "tags": []
   },
   "source": [
    "\n",
    "\n",
    "<img src=\"https://github.com/allisonhorst/stats-illustrations/raw/main/rstats-artwork/tidydata_3.jpg\" width=800>"
   ]
  },
  {
   "cell_type": "markdown",
   "metadata": {
    "editable": true,
    "slideshow": {
     "slide_type": "slide"
    },
    "tags": []
   },
   "source": [
    "## Examples of Tidy(?) Data\n",
    "\n",
    "...here is the same data represented in a few different ways. Let's vote on which are tidy!"
   ]
  },
  {
   "cell_type": "markdown",
   "metadata": {
    "editable": true,
    "slideshow": {
     "slide_type": "slide"
    },
    "tags": []
   },
   "source": [
    "### Tuberculosis data\n",
    "\n",
    "This data is tidy. True or false?\n",
    "\n",
    "| country     | year | rate              |\n",
    "|-------------|------|-------------------|\n",
    "| Afghanistan | 1999 | 745/19987071      |\n",
    "| Afghanistan | 2000 | 2666/20595360     |\n",
    "| Brazil      | 1999 | 37737/172006362   |\n",
    "| Brazil      | 2000 | 80488/174504898   |\n",
    "| China       | 1999 | 212258/1272915272 |\n",
    "| China       | 2000 | 213766/1280428583 |"
   ]
  },
  {
   "cell_type": "markdown",
   "metadata": {
    "editable": true,
    "slideshow": {
     "slide_type": "notes"
    },
    "tags": []
   },
   "source": [
    "False. "
   ]
  },
  {
   "cell_type": "markdown",
   "metadata": {
    "editable": true,
    "slideshow": {
     "slide_type": "slide"
    },
    "tags": []
   },
   "source": [
    "### Tuberculosis data\n",
    "\n",
    "This data is tidy. True or false?\n",
    "\n",
    "| country     | cases (year=1999) | cases (year=2000) | population (year=1999) | population (year=2000) |\n",
    "|-------------|-------------------|-------------------| -----------------------|------------------------|\n",
    "| Afghanistan | 745               | 2666              | 19987071               | 20595360               |\n",
    "| Brazil      | 37737             | 80488             | 172006362              | 174504898              |\n",
    "| China       | 212258            | 213766            | 1272915272             | 1280428583             |"
   ]
  },
  {
   "cell_type": "markdown",
   "metadata": {
    "editable": true,
    "slideshow": {
     "slide_type": "notes"
    },
    "tags": []
   },
   "source": [
    "False. Here we have separate columns for the same variable measured at different years. All `population` measurements should be contained in a single column, as should all the measurements for `cases`."
   ]
  },
  {
   "cell_type": "markdown",
   "metadata": {
    "editable": true,
    "slideshow": {
     "slide_type": "slide"
    },
    "tags": []
   },
   "source": [
    "### Tuberculosis data\n",
    "\n",
    "This data is tidy. True or false?\n",
    "\n",
    "| country     | 1999   | 2000   |\n",
    "|-------------|--------|--------|\n",
    "| Afghanistan | 745    | 2666   |\n",
    "| Brazil      | 37737  | 80488  |\n",
    "| China       | 212258 | 213766 |\n"
   ]
  },
  {
   "cell_type": "markdown",
   "metadata": {
    "editable": true,
    "slideshow": {
     "slide_type": "notes"
    },
    "tags": []
   },
   "source": [
    "False. Again we have separate columns for the years, and we don't know if the measurement are of `population` or `cases`."
   ]
  },
  {
   "cell_type": "markdown",
   "metadata": {
    "editable": true,
    "slideshow": {
     "slide_type": "slide"
    },
    "tags": []
   },
   "source": [
    "### Tuberculosis data\n",
    "\n",
    "This data is tidy. True or false?\n",
    "\n",
    "| country     | year | key        | value      |\n",
    "|-------------|------|------------|------------|\n",
    "| Afghanistan | 1999 | cases      | 745        |\n",
    "| Afghanistan | 1999 | population | 19987071   |\n",
    "| Afghanistan | 2000 | cases      | 2666       |\n",
    "| Afghanistan | 2000 | population | 20595360   |\n",
    "| Brazil      | 1999 | cases      | 37737      |\n",
    "| Brazil      | 1999 | population | 172006362  |\n",
    "| Brazil      | 2000 | cases      | 80488      |\n",
    "| Brazil      | 2000 | population | 174504898  |\n",
    "| China       | 1999 | cases      | 212258     |\n",
    "| China       | 1999 | population | 1272915272 |\n",
    "| China       | 2000 | cases      | 213766     |\n",
    "| China       | 2000 | population | 1280428583 |"
   ]
  },
  {
   "cell_type": "markdown",
   "metadata": {
    "editable": true,
    "slideshow": {
     "slide_type": "notes"
    },
    "tags": []
   },
   "source": [
    "False. The `value` column contains measurements of two diffrent variables."
   ]
  },
  {
   "cell_type": "markdown",
   "metadata": {
    "editable": true,
    "slideshow": {
     "slide_type": "slide"
    },
    "tags": []
   },
   "source": [
    "### Tuberculosis data\n",
    "\n",
    "This data is tidy. True or false?\n",
    "\n",
    "| country     | year | cases  | population |\n",
    "|-------------|------|--------|------------|\n",
    "| Afghanistan | 1999 | 745    | 19987071   |\n",
    "| Afghanistan | 2000 | 2666   | 20595360   |\n",
    "| Brazil      | 1999 | 37737  | 172006362  |\n",
    "| Brazil      | 2000 | 80488  | 174504898  |\n",
    "| China       | 1999 | 212258 | 1272915272 |\n",
    "| China       | 2000 | 213766 | 1280428583 |"
   ]
  },
  {
   "cell_type": "markdown",
   "metadata": {
    "editable": true,
    "slideshow": {
     "slide_type": "notes"
    },
    "tags": []
   },
   "source": [
    "**True!**\n",
    "\n",
    "- each row corresponds to a single observation,\n",
    "- each column corresponds to a single variable, and\n",
    "- each cell (row, column pair) correspond to a single value"
   ]
  },
  {
   "cell_type": "markdown",
   "metadata": {
    "editable": true,
    "slideshow": {
     "slide_type": "slide"
    },
    "tags": []
   },
   "source": [
    "## Tools for tidying and wrangling data\n",
    "\n",
    "- `Pandas` library functions\n",
    "    - `[]` & `loc[]`\n",
    "    - `assign`\n",
    "    - `groupby` & `agg`\n",
    "    - `melt` & `pivot`\n",
    "    - `apply`"
   ]
  },
  {
   "cell_type": "markdown",
   "metadata": {
    "editable": true,
    "slideshow": {
     "slide_type": "slide"
    },
    "tags": []
   },
   "source": [
    "## Demo Time! \n",
    "<img src=\"https://allisonhorst.github.io/palmerpenguins/reference/figures/lter_penguins.png\" width=\"800\"/>\n"
   ]
  },
  {
   "cell_type": "code",
   "execution_count": 1,
   "metadata": {
    "editable": true,
    "slideshow": {
     "slide_type": "slide"
    },
    "tags": []
   },
   "outputs": [
    {
     "name": "stderr",
     "output_type": "stream",
     "text": [
      "<jemalloc>: MADV_DONTNEED does not work (memset will be used instead)\n",
      "<jemalloc>: (This is the expected behaviour if you are running under QEMU)\n"
     ]
    }
   ],
   "source": [
    "import pandas as pd"
   ]
  },
  {
   "cell_type": "code",
   "execution_count": 2,
   "metadata": {
    "editable": true,
    "slideshow": {
     "slide_type": "slide"
    },
    "tags": []
   },
   "outputs": [
    {
     "data": {
      "text/html": [
       "<div>\n",
       "<style scoped>\n",
       "    .dataframe tbody tr th:only-of-type {\n",
       "        vertical-align: middle;\n",
       "    }\n",
       "\n",
       "    .dataframe tbody tr th {\n",
       "        vertical-align: top;\n",
       "    }\n",
       "\n",
       "    .dataframe thead th {\n",
       "        text-align: right;\n",
       "    }\n",
       "</style>\n",
       "<table border=\"1\" class=\"dataframe\">\n",
       "  <thead>\n",
       "    <tr style=\"text-align: right;\">\n",
       "      <th></th>\n",
       "      <th>species</th>\n",
       "      <th>island</th>\n",
       "      <th>bill_length_mm</th>\n",
       "      <th>bill_depth_mm</th>\n",
       "      <th>flipper_length_mm</th>\n",
       "      <th>body_mass_g</th>\n",
       "      <th>sex</th>\n",
       "      <th>year</th>\n",
       "    </tr>\n",
       "  </thead>\n",
       "  <tbody>\n",
       "    <tr>\n",
       "      <th>0</th>\n",
       "      <td>Adelie</td>\n",
       "      <td>Torgersen</td>\n",
       "      <td>39.1</td>\n",
       "      <td>18.7</td>\n",
       "      <td>181.0</td>\n",
       "      <td>3750.0</td>\n",
       "      <td>male</td>\n",
       "      <td>2007</td>\n",
       "    </tr>\n",
       "    <tr>\n",
       "      <th>1</th>\n",
       "      <td>Adelie</td>\n",
       "      <td>Torgersen</td>\n",
       "      <td>39.5</td>\n",
       "      <td>17.4</td>\n",
       "      <td>186.0</td>\n",
       "      <td>3800.0</td>\n",
       "      <td>female</td>\n",
       "      <td>2007</td>\n",
       "    </tr>\n",
       "    <tr>\n",
       "      <th>2</th>\n",
       "      <td>Adelie</td>\n",
       "      <td>Torgersen</td>\n",
       "      <td>40.3</td>\n",
       "      <td>18.0</td>\n",
       "      <td>195.0</td>\n",
       "      <td>3250.0</td>\n",
       "      <td>female</td>\n",
       "      <td>2007</td>\n",
       "    </tr>\n",
       "    <tr>\n",
       "      <th>3</th>\n",
       "      <td>Adelie</td>\n",
       "      <td>Torgersen</td>\n",
       "      <td>NaN</td>\n",
       "      <td>NaN</td>\n",
       "      <td>NaN</td>\n",
       "      <td>NaN</td>\n",
       "      <td>NaN</td>\n",
       "      <td>2007</td>\n",
       "    </tr>\n",
       "    <tr>\n",
       "      <th>4</th>\n",
       "      <td>Adelie</td>\n",
       "      <td>Torgersen</td>\n",
       "      <td>36.7</td>\n",
       "      <td>19.3</td>\n",
       "      <td>193.0</td>\n",
       "      <td>3450.0</td>\n",
       "      <td>female</td>\n",
       "      <td>2007</td>\n",
       "    </tr>\n",
       "    <tr>\n",
       "      <th>...</th>\n",
       "      <td>...</td>\n",
       "      <td>...</td>\n",
       "      <td>...</td>\n",
       "      <td>...</td>\n",
       "      <td>...</td>\n",
       "      <td>...</td>\n",
       "      <td>...</td>\n",
       "      <td>...</td>\n",
       "    </tr>\n",
       "    <tr>\n",
       "      <th>339</th>\n",
       "      <td>Chinstrap</td>\n",
       "      <td>Dream</td>\n",
       "      <td>55.8</td>\n",
       "      <td>19.8</td>\n",
       "      <td>207.0</td>\n",
       "      <td>4000.0</td>\n",
       "      <td>male</td>\n",
       "      <td>2009</td>\n",
       "    </tr>\n",
       "    <tr>\n",
       "      <th>340</th>\n",
       "      <td>Chinstrap</td>\n",
       "      <td>Dream</td>\n",
       "      <td>43.5</td>\n",
       "      <td>18.1</td>\n",
       "      <td>202.0</td>\n",
       "      <td>3400.0</td>\n",
       "      <td>female</td>\n",
       "      <td>2009</td>\n",
       "    </tr>\n",
       "    <tr>\n",
       "      <th>341</th>\n",
       "      <td>Chinstrap</td>\n",
       "      <td>Dream</td>\n",
       "      <td>49.6</td>\n",
       "      <td>18.2</td>\n",
       "      <td>193.0</td>\n",
       "      <td>3775.0</td>\n",
       "      <td>male</td>\n",
       "      <td>2009</td>\n",
       "    </tr>\n",
       "    <tr>\n",
       "      <th>342</th>\n",
       "      <td>Chinstrap</td>\n",
       "      <td>Dream</td>\n",
       "      <td>50.8</td>\n",
       "      <td>19.0</td>\n",
       "      <td>210.0</td>\n",
       "      <td>4100.0</td>\n",
       "      <td>male</td>\n",
       "      <td>2009</td>\n",
       "    </tr>\n",
       "    <tr>\n",
       "      <th>343</th>\n",
       "      <td>Chinstrap</td>\n",
       "      <td>Dream</td>\n",
       "      <td>50.2</td>\n",
       "      <td>18.7</td>\n",
       "      <td>198.0</td>\n",
       "      <td>3775.0</td>\n",
       "      <td>female</td>\n",
       "      <td>2009</td>\n",
       "    </tr>\n",
       "  </tbody>\n",
       "</table>\n",
       "<p>344 rows × 8 columns</p>\n",
       "</div>"
      ],
      "text/plain": [
       "       species     island  bill_length_mm  bill_depth_mm  flipper_length_mm  \\\n",
       "0       Adelie  Torgersen            39.1           18.7              181.0   \n",
       "1       Adelie  Torgersen            39.5           17.4              186.0   \n",
       "2       Adelie  Torgersen            40.3           18.0              195.0   \n",
       "3       Adelie  Torgersen             NaN            NaN                NaN   \n",
       "4       Adelie  Torgersen            36.7           19.3              193.0   \n",
       "..         ...        ...             ...            ...                ...   \n",
       "339  Chinstrap      Dream            55.8           19.8              207.0   \n",
       "340  Chinstrap      Dream            43.5           18.1              202.0   \n",
       "341  Chinstrap      Dream            49.6           18.2              193.0   \n",
       "342  Chinstrap      Dream            50.8           19.0              210.0   \n",
       "343  Chinstrap      Dream            50.2           18.7              198.0   \n",
       "\n",
       "     body_mass_g     sex  year  \n",
       "0         3750.0    male  2007  \n",
       "1         3800.0  female  2007  \n",
       "2         3250.0  female  2007  \n",
       "3            NaN     NaN  2007  \n",
       "4         3450.0  female  2007  \n",
       "..           ...     ...   ...  \n",
       "339       4000.0    male  2009  \n",
       "340       3400.0  female  2009  \n",
       "341       3775.0    male  2009  \n",
       "342       4100.0    male  2009  \n",
       "343       3775.0  female  2009  \n",
       "\n",
       "[344 rows x 8 columns]"
      ]
     },
     "execution_count": 2,
     "metadata": {},
     "output_type": "execute_result"
    }
   ],
   "source": [
    "penguins = pd.read_csv(\"https://raw.githubusercontent.com/mcnakhaee/palmerpenguins/master/palmerpenguins/data/penguins.csv\")\n",
    "penguins"
   ]
  },
  {
   "cell_type": "markdown",
   "metadata": {
    "editable": true,
    "slideshow": {
     "slide_type": "notes"
    },
    "tags": []
   },
   "source": [
    "Data for 344 penguins. There are 3 different species of penguins in this dataset, collected from 3 islands in the Antarctica.\n"
   ]
  },
  {
   "cell_type": "markdown",
   "metadata": {
    "editable": true,
    "slideshow": {
     "slide_type": "slide"
    },
    "tags": []
   },
   "source": [
    "## Selecting columns with []\n",
    "\n",
    "The `[]` notation can be used to select a subset of columns (variables) from a dataframe.\n",
    "\n",
    "For example if we wanted to see the `bill_length_mm` or the `bill_length_mm` and `bill_depth_mm`. "
   ]
  },
  {
   "cell_type": "code",
   "execution_count": 3,
   "metadata": {
    "editable": true,
    "slideshow": {
     "slide_type": ""
    },
    "tags": []
   },
   "outputs": [
    {
     "data": {
      "text/html": [
       "<div>\n",
       "<style scoped>\n",
       "    .dataframe tbody tr th:only-of-type {\n",
       "        vertical-align: middle;\n",
       "    }\n",
       "\n",
       "    .dataframe tbody tr th {\n",
       "        vertical-align: top;\n",
       "    }\n",
       "\n",
       "    .dataframe thead th {\n",
       "        text-align: right;\n",
       "    }\n",
       "</style>\n",
       "<table border=\"1\" class=\"dataframe\">\n",
       "  <thead>\n",
       "    <tr style=\"text-align: right;\">\n",
       "      <th></th>\n",
       "      <th>species</th>\n",
       "      <th>island</th>\n",
       "      <th>bill_length_mm</th>\n",
       "      <th>bill_depth_mm</th>\n",
       "      <th>flipper_length_mm</th>\n",
       "      <th>body_mass_g</th>\n",
       "      <th>sex</th>\n",
       "      <th>year</th>\n",
       "    </tr>\n",
       "  </thead>\n",
       "  <tbody>\n",
       "    <tr>\n",
       "      <th>0</th>\n",
       "      <td>Adelie</td>\n",
       "      <td>Torgersen</td>\n",
       "      <td>39.1</td>\n",
       "      <td>18.7</td>\n",
       "      <td>181.0</td>\n",
       "      <td>3750.0</td>\n",
       "      <td>male</td>\n",
       "      <td>2007</td>\n",
       "    </tr>\n",
       "    <tr>\n",
       "      <th>1</th>\n",
       "      <td>Adelie</td>\n",
       "      <td>Torgersen</td>\n",
       "      <td>39.5</td>\n",
       "      <td>17.4</td>\n",
       "      <td>186.0</td>\n",
       "      <td>3800.0</td>\n",
       "      <td>female</td>\n",
       "      <td>2007</td>\n",
       "    </tr>\n",
       "    <tr>\n",
       "      <th>2</th>\n",
       "      <td>Adelie</td>\n",
       "      <td>Torgersen</td>\n",
       "      <td>40.3</td>\n",
       "      <td>18.0</td>\n",
       "      <td>195.0</td>\n",
       "      <td>3250.0</td>\n",
       "      <td>female</td>\n",
       "      <td>2007</td>\n",
       "    </tr>\n",
       "    <tr>\n",
       "      <th>3</th>\n",
       "      <td>Adelie</td>\n",
       "      <td>Torgersen</td>\n",
       "      <td>NaN</td>\n",
       "      <td>NaN</td>\n",
       "      <td>NaN</td>\n",
       "      <td>NaN</td>\n",
       "      <td>NaN</td>\n",
       "      <td>2007</td>\n",
       "    </tr>\n",
       "    <tr>\n",
       "      <th>4</th>\n",
       "      <td>Adelie</td>\n",
       "      <td>Torgersen</td>\n",
       "      <td>36.7</td>\n",
       "      <td>19.3</td>\n",
       "      <td>193.0</td>\n",
       "      <td>3450.0</td>\n",
       "      <td>female</td>\n",
       "      <td>2007</td>\n",
       "    </tr>\n",
       "    <tr>\n",
       "      <th>...</th>\n",
       "      <td>...</td>\n",
       "      <td>...</td>\n",
       "      <td>...</td>\n",
       "      <td>...</td>\n",
       "      <td>...</td>\n",
       "      <td>...</td>\n",
       "      <td>...</td>\n",
       "      <td>...</td>\n",
       "    </tr>\n",
       "    <tr>\n",
       "      <th>339</th>\n",
       "      <td>Chinstrap</td>\n",
       "      <td>Dream</td>\n",
       "      <td>55.8</td>\n",
       "      <td>19.8</td>\n",
       "      <td>207.0</td>\n",
       "      <td>4000.0</td>\n",
       "      <td>male</td>\n",
       "      <td>2009</td>\n",
       "    </tr>\n",
       "    <tr>\n",
       "      <th>340</th>\n",
       "      <td>Chinstrap</td>\n",
       "      <td>Dream</td>\n",
       "      <td>43.5</td>\n",
       "      <td>18.1</td>\n",
       "      <td>202.0</td>\n",
       "      <td>3400.0</td>\n",
       "      <td>female</td>\n",
       "      <td>2009</td>\n",
       "    </tr>\n",
       "    <tr>\n",
       "      <th>341</th>\n",
       "      <td>Chinstrap</td>\n",
       "      <td>Dream</td>\n",
       "      <td>49.6</td>\n",
       "      <td>18.2</td>\n",
       "      <td>193.0</td>\n",
       "      <td>3775.0</td>\n",
       "      <td>male</td>\n",
       "      <td>2009</td>\n",
       "    </tr>\n",
       "    <tr>\n",
       "      <th>342</th>\n",
       "      <td>Chinstrap</td>\n",
       "      <td>Dream</td>\n",
       "      <td>50.8</td>\n",
       "      <td>19.0</td>\n",
       "      <td>210.0</td>\n",
       "      <td>4100.0</td>\n",
       "      <td>male</td>\n",
       "      <td>2009</td>\n",
       "    </tr>\n",
       "    <tr>\n",
       "      <th>343</th>\n",
       "      <td>Chinstrap</td>\n",
       "      <td>Dream</td>\n",
       "      <td>50.2</td>\n",
       "      <td>18.7</td>\n",
       "      <td>198.0</td>\n",
       "      <td>3775.0</td>\n",
       "      <td>female</td>\n",
       "      <td>2009</td>\n",
       "    </tr>\n",
       "  </tbody>\n",
       "</table>\n",
       "<p>344 rows × 8 columns</p>\n",
       "</div>"
      ],
      "text/plain": [
       "       species     island  bill_length_mm  bill_depth_mm  flipper_length_mm  \\\n",
       "0       Adelie  Torgersen            39.1           18.7              181.0   \n",
       "1       Adelie  Torgersen            39.5           17.4              186.0   \n",
       "2       Adelie  Torgersen            40.3           18.0              195.0   \n",
       "3       Adelie  Torgersen             NaN            NaN                NaN   \n",
       "4       Adelie  Torgersen            36.7           19.3              193.0   \n",
       "..         ...        ...             ...            ...                ...   \n",
       "339  Chinstrap      Dream            55.8           19.8              207.0   \n",
       "340  Chinstrap      Dream            43.5           18.1              202.0   \n",
       "341  Chinstrap      Dream            49.6           18.2              193.0   \n",
       "342  Chinstrap      Dream            50.8           19.0              210.0   \n",
       "343  Chinstrap      Dream            50.2           18.7              198.0   \n",
       "\n",
       "     body_mass_g     sex  year  \n",
       "0         3750.0    male  2007  \n",
       "1         3800.0  female  2007  \n",
       "2         3250.0  female  2007  \n",
       "3            NaN     NaN  2007  \n",
       "4         3450.0  female  2007  \n",
       "..           ...     ...   ...  \n",
       "339       4000.0    male  2009  \n",
       "340       3400.0  female  2009  \n",
       "341       3775.0    male  2009  \n",
       "342       4100.0    male  2009  \n",
       "343       3775.0  female  2009  \n",
       "\n",
       "[344 rows x 8 columns]"
      ]
     },
     "execution_count": 3,
     "metadata": {},
     "output_type": "execute_result"
    }
   ],
   "source": [
    "penguins"
   ]
  },
  {
   "cell_type": "markdown",
   "metadata": {
    "editable": true,
    "slideshow": {
     "slide_type": "notes"
    },
    "tags": []
   },
   "source": [
    "```\n",
    "# Start with selecting one column\n",
    "penguins['bill_length_mm']\n",
    "\n",
    "# Select many columns by passing them as a list\n",
    "penguins[['bill_length_mm', 'bill_depth_mm']]\n",
    "\n",
    "# We could also select a single column as a list\n",
    "# This will return a dataframe instead of a series\n",
    "penguins[['bill_length_mm']]\n",
    "\n",
    "# Could also have assigned this to another variable name\n",
    "penguins_bill_length = penguins[['bill_length_mm']]\n",
    "penguins_bill_length\n",
    "```"
   ]
  },
  {
   "cell_type": "markdown",
   "metadata": {
    "editable": true,
    "slideshow": {
     "slide_type": "slide"
    },
    "tags": []
   },
   "source": [
    "## Filtering rows with []\n",
    "\n",
    "The `[]` notation an also be used to choose a subset of rows (observations) in a dataframe, based on a condition.\n",
    "\n",
    "e.g. filter for only penguins with flippers longer than 190 mm"
   ]
  },
  {
   "cell_type": "code",
   "execution_count": null,
   "metadata": {
    "editable": true,
    "slideshow": {
     "slide_type": ""
    },
    "tags": []
   },
   "outputs": [],
   "source": [
    "penguins"
   ]
  },
  {
   "cell_type": "markdown",
   "metadata": {
    "editable": true,
    "slideshow": {
     "slide_type": "notes"
    },
    "tags": []
   },
   "source": [
    "```\n",
    "penguins\n",
    "\n",
    "# One condition\n",
    "penguins[penguins['flipper_length_mm'] > 190]\n",
    "\n",
    "# Two conditions\n",
    "penguins[\n",
    "    (penguins['flipper_length_mm'] > 190)\n",
    "    & (penguins['species'] == 'Chinstrap')\n",
    "]\n",
    "```"
   ]
  },
  {
   "cell_type": "markdown",
   "metadata": {
    "editable": true,
    "slideshow": {
     "slide_type": "slide"
    },
    "tags": []
   },
   "source": [
    "## loc[]\n",
    "\n",
    "The `[]` operation is only used when you want to **either** filter rows **or** select columns. If you want to do **both at the same time**, you can use the `loc[]` notation instead.\n"
   ]
  },
  {
   "cell_type": "code",
   "execution_count": null,
   "metadata": {
    "editable": true,
    "slideshow": {
     "slide_type": ""
    },
    "tags": []
   },
   "outputs": [],
   "source": [
    "penguins"
   ]
  },
  {
   "cell_type": "markdown",
   "metadata": {
    "editable": true,
    "slideshow": {
     "slide_type": "notes"
    },
    "tags": []
   },
   "source": [
    "```\n",
    "# Filter rows and select columns\n",
    "penguins.loc[\n",
    "    penguins['flipper_length_mm'] > 190,\n",
    "    ['flipper_length_mm', 'body_mass_g']\n",
    "]\n",
    "\n",
    "# `loc` can also be used to select a range of columns, which `[]` can't\n",
    "# : is a range, without an end or start, it's the full range (all rows or columns)\n",
    "penguins.loc[:, 'island':'body_mass_g']\n",
    "\n",
    "# From island to end\n",
    "penguins.loc[:, 'island':]\n",
    "\n",
    "# Select columns by index\n",
    "penguins.iloc[:, :4]\n",
    "```\n",
    "\n",
    "(Optional) In case students asks about selecting columns more efficiently, e.g. everything that starts with \"bill_\":\n",
    "\n",
    "```\n",
    "penguins.loc[:, penguins.columns.str.startswith('bill_')]\n",
    "```\n",
    "\n",
    "> - str.startswith(): Starts with a prefix.\n",
    "> - str.endswith(): Ends with a suffix.\n",
    "> - str.contains(): Contains a regular expression string."
   ]
  },
  {
   "cell_type": "markdown",
   "metadata": {
    "editable": true,
    "slideshow": {
     "slide_type": "slide"
    },
    "tags": []
   },
   "source": [
    "## Assign\n",
    "\n",
    "The `assign` function can create new columns from old ones.\n",
    "\n",
    "e.g. convert body mass from grams to pounds "
   ]
  },
  {
   "cell_type": "code",
   "execution_count": null,
   "metadata": {
    "editable": true,
    "slideshow": {
     "slide_type": "-"
    },
    "tags": []
   },
   "outputs": [],
   "source": [
    "penguins"
   ]
  },
  {
   "cell_type": "markdown",
   "metadata": {
    "editable": true,
    "slideshow": {
     "slide_type": "notes"
    },
    "tags": []
   },
   "source": [
    "```\n",
    "# Recall that 454 g is 1 lbs\n",
    "penguins.assign(body_mass_lbs = penguins['body_mass_g'] / 454 )\n",
    "\n",
    "# The above creates a new dataframe, it does not save it to the original `penguins` df\n",
    "penguins\n",
    "\n",
    "# We need to assign it to a new variable if we want to save it\n",
    "penguins_lbs = penguins.assign(body_mass_lbs = penguins['body_mass_g'] / 454 )\n",
    "```"
   ]
  },
  {
   "cell_type": "markdown",
   "metadata": {
    "editable": true,
    "slideshow": {
     "slide_type": "slide"
    },
    "tags": []
   },
   "source": [
    "## Many operations in the same sequence\n",
    "\n",
    "When you need type out a long sequence of operations on data, you could either:\n",
    "\n",
    "1. Save intermediate objects\n",
    "2. Add methods together in the same chain\n",
    "\n",
    "Let's look closer at each one of these"
   ]
  },
  {
   "cell_type": "markdown",
   "metadata": {
    "editable": true,
    "slideshow": {
     "slide_type": "slide"
    },
    "tags": []
   },
   "source": [
    "### 1. Save intermediate objects\n",
    "\n",
    "```python\n",
    "penguins_1 = penguins.assign(body_mass_lbs = penguins['body_mass_g'] / 454 )\n",
    "penguins_2 = penguins_1[penguins_1['flipper_length_mm'] > 190]\n",
    "penguins_3 = penguins_2[['flipper_length_mm', 'body_mass_lbs']]\n",
    "penguins_3\n",
    "```\n",
    "\n",
    "#### Disadvantages:\n",
    "\n",
    "- The reader may be tricked into thinking the named `penguins_1` and `penguins_2` objects are important for some reason, while they are just temporary intermediate computations. \n",
    "- Further, the reader has to look through and find where `penguins_1` and `penguins_2` are used in each subsequent line.\n",
    "- Creating variables that we don't need, could lead to memory issues if they are big and take up a lot of space."
   ]
  },
  {
   "cell_type": "markdown",
   "metadata": {
    "editable": true,
    "slideshow": {
     "slide_type": "slide"
    },
    "tags": []
   },
   "source": [
    "### 2. Method chaining\n",
    "\n",
    "```python\n",
    "(\n",
    "    penguins\n",
    "    .assign(body_mass_lbs = penguins['body_mass_g'] / 454 )\n",
    "    [penguins['flipper_length_mm'] > 190]\n",
    "    [['flipper_length_mm', 'body_mass_lbs']]\n",
    ")\n",
    "```"
   ]
  },
  {
   "cell_type": "markdown",
   "metadata": {
    "editable": true,
    "slideshow": {
     "slide_type": "fragment"
    },
    "tags": []
   },
   "source": [
    "#### Advantage: \n",
    "\n",
    "- Code becomes more readable, particularly when you need to do a long sequence of operations on data.\n",
    "- No intermediatery variables created"
   ]
  },
  {
   "cell_type": "markdown",
   "metadata": {
    "editable": true,
    "slideshow": {
     "slide_type": "notes"
    },
    "tags": []
   },
   "source": [
    "Emphasize/repeat what a method is.\n",
    "\n",
    "We want to put each method/operation on its own row. We could write it in one big line, but it would be very hard to read.\n",
    "\n",
    "In order to do this, we must use the parentheses to indicate to Python that all this code belongs together and should be executed as one."
   ]
  },
  {
   "cell_type": "markdown",
   "metadata": {
    "editable": true,
    "slideshow": {
     "slide_type": "slide"
    },
    "tags": []
   },
   "source": [
    "### 2. Method chaining\n",
    "\n",
    "```python\n",
    "(\n",
    "    penguins\n",
    "    .assign(body_mass_lbs = penguins['body_mass_g'] / 454 )\n",
    "    .loc[\n",
    "        penguins['flipper_length_mm'] > 190, \n",
    "        ['bill_length_mm', 'flipper_length_mm']\n",
    "    ]\n",
    ")\n",
    "```"
   ]
  },
  {
   "cell_type": "markdown",
   "metadata": {
    "editable": true,
    "slideshow": {
     "slide_type": "notes"
    },
    "tags": []
   },
   "source": [
    "Remember that we should use `loc` when doing a row filter and column selection,\n",
    "rather than doing the two operations after each other."
   ]
  },
  {
   "cell_type": "markdown",
   "metadata": {
    "editable": true,
    "slideshow": {
     "slide_type": "slide"
    },
    "tags": []
   },
   "source": [
    "### Nursery rhyme example\n",
    "\n",
    "> Jack and Jill went up the hill  \n",
    "> To fetch a pail of water  \n",
    "> Jack fell down and broke his crown  \n",
    "> And Jill came tumbling after"
   ]
  },
  {
   "cell_type": "markdown",
   "metadata": {
    "slideshow": {
     "slide_type": "fragment"
    }
   },
   "source": [
    "#### Intermediate objects\n",
    "\n",
    "```r\n",
    "on_hill = jack_jill.went_up('hill')\n",
    "with_water = on_hill.fetch('water')\n",
    "fallen = with_water.fell_down('jack')\n",
    "broken = fallen.broke('jack')\n",
    "after = broken.tumble_after('jill')\n",
    "\n",
    "```"
   ]
  },
  {
   "cell_type": "markdown",
   "metadata": {
    "editable": true,
    "slideshow": {
     "slide_type": "slide"
    },
    "tags": []
   },
   "source": [
    "### Nursery rhyme example\n",
    "\n",
    "> Jack and Jill went up the hill  \n",
    "> To fetch a pail of water  \n",
    "> Jack fell down and broke his crown  \n",
    "> And Jill came tumbling after\n",
    "\n",
    "#### Method chaining\n",
    "\n",
    "```python\n",
    "(\n",
    "    jack_jill\n",
    "    .went_up('hill')\n",
    "    .fetch('water')\n",
    "    .fell_down('jack')\n",
    "    .broke('jack')\n",
    "    .tumble_after('jill')\n",
    ")\n",
    "```"
   ]
  },
  {
   "cell_type": "markdown",
   "metadata": {
    "editable": true,
    "slideshow": {
     "slide_type": "slide"
    },
    "tags": []
   },
   "source": [
    "## Grouping and summarizing via `groupby`\n",
    "\n",
    "- Grouping is when you split data into groups based on the value of a column.\n",
    "- Sumarizing is when you combine data into fewer summary values."
   ]
  },
  {
   "cell_type": "markdown",
   "metadata": {
    "slideshow": {
     "slide_type": "fragment"
    }
   },
   "source": [
    "For example computing the average particle pollution per city (source https://info201.github.io/dplyr.html):\n",
    "\n",
    "![](https://info201.github.io/img/dplyr/group_by.png)"
   ]
  },
  {
   "cell_type": "markdown",
   "metadata": {
    "slideshow": {
     "slide_type": "slide"
    }
   },
   "source": [
    "- Another example, splitting the `penguins` data into one group per `species`, and then summarizing the values within each group e.g. reporting the average `body_mass` per species. \n",
    "    - To do this we use `group_by` to iterate over species, calculating average body mass."
   ]
  },
  {
   "cell_type": "code",
   "execution_count": null,
   "metadata": {
    "editable": true,
    "slideshow": {
     "slide_type": "fragment"
    },
    "tags": []
   },
   "outputs": [],
   "source": [
    "# Recall the data structure\n",
    "penguins"
   ]
  },
  {
   "cell_type": "markdown",
   "metadata": {
    "editable": true,
    "slideshow": {
     "slide_type": "notes"
    },
    "tags": []
   },
   "source": [
    "Count how many penguins there are for each species:\n",
    "\n",
    "```\n",
    "penguins.value_counts(\"species\")\n",
    "```\n",
    "\n",
    "Calculate average body mass for each species:\n",
    "\n",
    "```\n",
    "penguins.groupby(\"species\")[\"body_mass_g\"].mean()\n",
    "```\n",
    "\n",
    "The standard deviation\n",
    "\n",
    "\n",
    "```\n",
    "penguins.groupby(\"species\")[\"body_mass_g\"].std()\n",
    "```\n",
    "\n",
    "For any of these, we can use `.reset_index` to get a dataframe.\n",
    "\n",
    "\n",
    "Note pandas will ignore missing values when computing aggregations such as the mean, std, etc."
   ]
  },
  {
   "cell_type": "markdown",
   "metadata": {
    "editable": true,
    "slideshow": {
     "slide_type": "slide"
    },
    "tags": []
   },
   "source": [
    "## Another big concept this week: iteration\n",
    "\n",
    "- Iteration is when you need to do something repeatedly (e.g., ringing in and bagging groceries at the till)\n",
    "\n",
    "![](https://www.ecomcrew.com/wp-content/uploads/2015/07/bar-code-scanning-grocery-store.jpg)"
   ]
  },
  {
   "cell_type": "markdown",
   "metadata": {
    "slideshow": {
     "slide_type": "notes"
    }
   },
   "source": [
    "- important to reduce duplication of code  \n",
    "- easier to see the intent of your code \n",
    "- likely have fewer bugs"
   ]
  },
  {
   "cell_type": "markdown",
   "metadata": {
    "slideshow": {
     "slide_type": "slide"
    }
   },
   "source": [
    "## `apply` \n",
    "\n",
    "`apply` allows you to apply function(s) to multiple columns/rows,\n",
    "e.g. to calculate the average for each numeric column in the `penguins` data\n",
    "\n"
   ]
  },
  {
   "cell_type": "markdown",
   "metadata": {
    "editable": true,
    "slideshow": {
     "slide_type": "notes"
    },
    "tags": []
   },
   "source": [
    "- `apply()` executes any function on each element of a DataFrame.\n",
    "- we will pass the function we want to apply as a parameter, for example: `apply(max)`\n",
    "- the `axis` paramter defines if you iterate over columns or rows. \n",
    "    - `axis=0` is the default if no input is passed. It indicates we want to apply our function to each column \n",
    "    - `axis=1` indicates we want to apply our cuntion to each row\n"
   ]
  },
  {
   "cell_type": "code",
   "execution_count": null,
   "metadata": {
    "editable": true,
    "slideshow": {
     "slide_type": "slide"
    },
    "tags": []
   },
   "outputs": [],
   "source": [
    "penguins"
   ]
  },
  {
   "cell_type": "markdown",
   "metadata": {
    "editable": true,
    "slideshow": {
     "slide_type": "notes"
    },
    "tags": []
   },
   "source": [
    "using `.max()` to cacluate max across different columns data\n",
    "\n",
    "```\n",
    "penguins.loc[:, \"bill_length_mm\":\"body_mass_g\"].max()\n",
    "```\n",
    "\n",
    "we can do the same thing with `apply`\n",
    "```\n",
    "penguins.loc[:, \"bill_length_mm\":\"body_mass_g\"].apply(max)\n",
    "```\n",
    "\n",
    "why is apply useful? can be used with a wide range of operations,\n",
    "such as our own custom function that don't exist in pandas.\n",
    "In general the rule is that if it already exists in pandas,\n",
    "then it is better to **not** use apply."
   ]
  },
  {
   "cell_type": "markdown",
   "metadata": {
    "editable": true,
    "slideshow": {
     "slide_type": "slide"
    },
    "tags": []
   },
   "source": [
    "\n",
    "## Go forth and wrangle! \n",
    "\n",
    "<img align=\"left\" src=\"https://media.giphy.com/media/Qgm6tIYrSQqC4/giphy.gif\" width=\"300\">"
   ]
  },
  {
   "cell_type": "markdown",
   "metadata": {
    "slideshow": {
     "slide_type": "-"
    }
   },
   "source": [
    "*image source: https://media.giphy.com/media/Qgm6tIYrSQqC4/giphy-downsized-large.gif*"
   ]
  },
  {
   "cell_type": "markdown",
   "metadata": {
    "slideshow": {
     "slide_type": "slide"
    }
   },
   "source": [
    "## What did we learn?\n",
    "\n",
    "- \n",
    "- \n",
    "- \n",
    "\n",
    "\n",
    "\n"
   ]
  },
  {
   "cell_type": "markdown",
   "metadata": {
    "slideshow": {
     "slide_type": "slide"
    }
   },
   "source": [
    "Friends with similar tools:\n",
    "\n",
    "<img src=\"https://github.com/allisonhorst/stats-illustrations/raw/main/rstats-artwork/tidydata_4.jpg\" width=800>"
   ]
  },
  {
   "cell_type": "markdown",
   "metadata": {
    "slideshow": {
     "slide_type": "slide"
    }
   },
   "source": [
    "Easier for automation & iteration!\n",
    "\n",
    "<img src=\"https://github.com/allisonhorst/stats-illustrations/raw/main/rstats-artwork/tidydata_5.jpg\" width=800>"
   ]
  },
  {
   "cell_type": "markdown",
   "metadata": {
    "slideshow": {
     "slide_type": "slide"
    }
   },
   "source": [
    "And it makes all other tidy datasets seem more welcoming!\n",
    "\n",
    "<img src=\"https://github.com/allisonhorst/stats-illustrations/raw/main/rstats-artwork/tidydata_6.jpg\" width=800>"
   ]
  },
  {
   "cell_type": "markdown",
   "metadata": {
    "editable": true,
    "slideshow": {
     "slide_type": "slide"
    },
    "tags": []
   },
   "source": [
    "So make friends with tidy data!\n",
    "\n",
    "<img src=\"https://github.com/allisonhorst/stats-illustrations/raw/main/rstats-artwork/tidydata_7.jpg\" width=800>"
   ]
  }
 ],
 "metadata": {
  "celltoolbar": "Slideshow",
  "kernelspec": {
   "display_name": "Python 3 (ipykernel)",
   "language": "python",
   "name": "python3"
  },
  "language_info": {
   "codemirror_mode": {
    "name": "ipython",
    "version": 3
   },
   "file_extension": ".py",
   "mimetype": "text/x-python",
   "name": "python",
   "nbconvert_exporter": "python",
   "pygments_lexer": "ipython3",
   "version": "3.11.6"
  },
  "rise": {
   "transition": "fade"
  }
 },
 "nbformat": 4,
 "nbformat_minor": 4
}
