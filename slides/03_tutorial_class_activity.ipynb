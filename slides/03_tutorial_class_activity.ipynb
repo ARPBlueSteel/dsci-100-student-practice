{
 "cells": [
  {
   "cell_type": "code",
   "execution_count": null,
   "metadata": {
    "scrolled": true,
    "slideshow": {
     "slide_type": "slide"
    }
   },
   "outputs": [],
   "source": [
    "library(tidyverse)\n",
    "passengers <- read_csv(\"data/AirPassengers.csv\")"
   ]
  },
  {
   "cell_type": "markdown",
   "metadata": {
    "slideshow": {
     "slide_type": "slide"
    }
   },
   "source": [
    "## Class activity 1:\n",
    "\n",
    "The airpassenger data set contains the monthly totals of international airline passengers from 1949 to 1960. If we are interested in asking whether year or month has a relationship with the number of monthly international airline passengers would we consider the data below tidy? **True or false?**"
   ]
  },
  {
   "cell_type": "code",
   "execution_count": null,
   "metadata": {
    "slideshow": {
     "slide_type": "fragment"
    }
   },
   "outputs": [],
   "source": [
    "head(passengers)"
   ]
  },
  {
   "cell_type": "markdown",
   "metadata": {
    "slideshow": {
     "slide_type": "slide"
    }
   },
   "source": [
    "### BEGIN SOLUTION\n",
    "False, because the variable month is contained within column names. And multiple observations are on the same row.\n",
    "### END SOLUTION"
   ]
  },
  {
   "cell_type": "markdown",
   "metadata": {
    "slideshow": {
     "slide_type": "slide"
    }
   },
   "source": [
    "## Class activity 2:\n",
    "\n",
    "Use the tidyverse functions to make this data set ___ tidy  ____."
   ]
  },
  {
   "cell_type": "code",
   "execution_count": null,
   "metadata": {
    "slideshow": {
     "slide_type": "fragment"
    }
   },
   "outputs": [],
   "source": [
    "### BEGIN SOLUTION\n",
    "tidy_passengers <- gather(passengers, 'Month', 'Passengers', -Year)\n",
    "head(tidy_passengers)\n",
    "### END SOLUTION"
   ]
  },
  {
   "cell_type": "markdown",
   "metadata": {
    "slideshow": {
     "slide_type": "slide"
    }
   },
   "source": [
    "## Class activity 3:\n",
    "\n",
    "Use the tidyverse function `spread` to transform the data set to its original state:"
   ]
  },
  {
   "cell_type": "code",
   "execution_count": null,
   "metadata": {
    "slideshow": {
     "slide_type": "fragment"
    }
   },
   "outputs": [],
   "source": [
    "spread(tidy_passengers, Month, Passengers)"
   ]
  },
  {
   "cell_type": "markdown",
   "metadata": {
    "slideshow": {
     "slide_type": "slide"
    }
   },
   "source": [
    "## Class Activity 4\n",
    "\n",
    "Use the tidyverse functions `group_by` and `summarize` to find the mean monthly passengers by year"
   ]
  },
  {
   "cell_type": "code",
   "execution_count": null,
   "metadata": {
    "slideshow": {
     "slide_type": "fragment"
    }
   },
   "outputs": [],
   "source": [
    "mean_passengers <- tidy_passengers %>%\n",
    "    group_by(Year)%>%\n",
    "    summarize(mean_monthly_passengers = mean(Passengers))\n",
    "head(mean_passengers)"
   ]
  }
 ],
 "metadata": {
  "celltoolbar": "Slideshow",
  "kernelspec": {
   "display_name": "R",
   "language": "R",
   "name": "ir"
  },
  "language_info": {
   "codemirror_mode": "r",
   "file_extension": ".r",
   "mimetype": "text/x-r-source",
   "name": "R",
   "pygments_lexer": "r",
   "version": "4.0.0"
  },
  "rise": {
   "transition": "fade"
  }
 },
 "nbformat": 4,
 "nbformat_minor": 2
}
