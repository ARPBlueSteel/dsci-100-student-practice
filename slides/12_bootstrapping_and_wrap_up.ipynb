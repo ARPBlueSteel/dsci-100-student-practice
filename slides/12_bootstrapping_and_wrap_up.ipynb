{
 "cells": [
  {
   "cell_type": "markdown",
   "metadata": {
    "slideshow": {
     "slide_type": "slide"
    }
   },
   "source": [
    "# DSCI 100 - Introduction to Data Science\n",
    "\n",
    "\n",
    "## Lecture 12 - Bootstrapping & Data Science wrap-up\n",
    "\n",
    "<img src= https://i.imgur.com/tQQzkTN.gif width = 500>"
   ]
  },
  {
   "cell_type": "markdown",
   "metadata": {
    "slideshow": {
     "slide_type": "slide"
    }
   },
   "source": [
    "# Housekeeping\n",
    "\n",
    "- Course evaluation is live! \n",
    "- Final project and teamwork document due Thursday June 23 11:59PM\n",
    "- Final exam (quiz 3) April 26, 19:00PM -- All sections!\n",
    "    - Section 002 - PHRM 1101\n",
    "    - check UBC Exam Schedule to be sure!\n",
    "    - will cover regression 2, clustering & statistical inference\n",
    "    - no alternate\n",
    "- no tutorial assignment this week -- use the time to wrap up + polish your project!\n",
    "- Summer: Everyone gets a full score for Inference 1 Grade"
   ]
  },
  {
   "cell_type": "markdown",
   "metadata": {
    "slideshow": {
     "slide_type": "slide"
    }
   },
   "source": [
    "## Review\n",
    "\n",
    "**Inference:** Using a sample to make a conclusion about the wider population\n",
    "\n",
    "What do the following terms mean:\n",
    "\n",
    "- population (and population parameter)\n",
    "- sample\n",
    "- estimation (and estimate)\n",
    "- sampling distribution"
   ]
  },
  {
   "cell_type": "markdown",
   "metadata": {
    "slideshow": {
     "slide_type": "slide"
    }
   },
   "source": [
    "## Review\n",
    "\n",
    "Suppose the true population mean age of Canadian Seniors = 79.3 years\n",
    "\n",
    "<img src=\"img/sampling_distribution.png\" width=700>"
   ]
  },
  {
   "cell_type": "markdown",
   "metadata": {
    "slideshow": {
     "slide_type": "fragment"
    }
   },
   "source": [
    "How did we generate this figure, and what does it tell us?"
   ]
  },
  {
   "cell_type": "markdown",
   "metadata": {
    "slideshow": {
     "slide_type": "fragment"
    }
   },
   "source": [
    "What happens if I make my sample smaller / larger? Where is the peak of the histogram centered?"
   ]
  },
  {
   "cell_type": "markdown",
   "metadata": {
    "slideshow": {
     "slide_type": "fragment"
    }
   },
   "source": [
    "Can we actually create this figure in a real data analysis problem?"
   ]
  },
  {
   "cell_type": "markdown",
   "metadata": {
    "slideshow": {
     "slide_type": "fragment"
    }
   },
   "source": [
    "What problem does that cause for us?"
   ]
  },
  {
   "cell_type": "markdown",
   "metadata": {
    "slideshow": {
     "slide_type": "notes"
    }
   },
   "source": [
    "- generated fig by creating many samples of size N, computing average age, plotting the histogram. This is a visualization of the sampling distribution.\n",
    "- If sample size gets larger, the spread of the distribution shrinks (and vice versa). The peak is centered at the true population parameter value.\n",
    "- No; in a real data analysis problem we only have one sample to work with (we can't create many samples)\n",
    "- This means we cannot visualize the spread, and so have no way of understanding how reliable our point estimate is using just one sample."
   ]
  },
  {
   "cell_type": "markdown",
   "metadata": {
    "slideshow": {
     "slide_type": "slide"
    }
   },
   "source": [
    "## Bootstrapping\n",
    "\n",
    "We only have one sample... but if it's big enough, the sample looks like the population!\n",
    "\n",
    "<img src=\"img/pop_vs_sample.png\" width=1200>"
   ]
  },
  {
   "cell_type": "markdown",
   "metadata": {
    "slideshow": {
     "slide_type": "fragment"
    }
   },
   "source": [
    "Let's pretend our *sample* **is** our population. Then we can take many samples from our original sample (called *bootstrap samples*) to give us an approximation of the sampling distribution (the *bootstrap sampling distribution*).\n",
    "\n",
    "We can use its shape and spread to get the plausible range for our population parameter!"
   ]
  },
  {
   "cell_type": "markdown",
   "metadata": {
    "slideshow": {
     "slide_type": "slide"
    }
   },
   "source": [
    "## Generating a single bootstrap sample"
   ]
  },
  {
   "cell_type": "markdown",
   "metadata": {
    "slideshow": {
     "slide_type": "fragment"
    }
   },
   "source": [
    "1. randomly draw an observation from the original sample (which was drawn from the population)"
   ]
  },
  {
   "cell_type": "markdown",
   "metadata": {
    "slideshow": {
     "slide_type": "fragment"
    }
   },
   "source": [
    "2. record the observation's value"
   ]
  },
  {
   "cell_type": "markdown",
   "metadata": {
    "slideshow": {
     "slide_type": "fragment"
    }
   },
   "source": [
    "3. return the observation to the original sample"
   ]
  },
  {
   "cell_type": "markdown",
   "metadata": {
    "slideshow": {
     "slide_type": "fragment"
    }
   },
   "source": [
    "4. repeat the above the **same number of times as there are observations in the original sample**"
   ]
  },
  {
   "cell_type": "markdown",
   "metadata": {
    "slideshow": {
     "slide_type": "slide"
    }
   },
   "source": [
    "## Bootstrap Sampling Distribution\n",
    "<img src=\"https://ubc-dsci.github.io/introduction-to-datascience/_main_files/figure-html/11-bootstrapping7-1.png\" width=1300/>"
   ]
  },
  {
   "cell_type": "markdown",
   "metadata": {
    "slideshow": {
     "slide_type": "fragment"
    }
   },
   "source": [
    "What would happen if we sampled *without* replacement? What does that mean?"
   ]
  },
  {
   "cell_type": "markdown",
   "metadata": {
    "slideshow": {
     "slide_type": "slide"
    }
   },
   "source": [
    "## Using the bootstrap to calculate a plausible range\n",
    "1. Take a bootstrap sample"
   ]
  },
  {
   "cell_type": "markdown",
   "metadata": {
    "slideshow": {
     "slide_type": "fragment"
    }
   },
   "source": [
    "2. Calculate the bootstrap point estimate (e.g., mean, median, proportion, slope, etc.) from that bootstrap sample"
   ]
  },
  {
   "cell_type": "markdown",
   "metadata": {
    "slideshow": {
     "slide_type": "fragment"
    }
   },
   "source": [
    "3. Repeat steps (1) and (2) many times to create a **bootstrap sampling distribution** - the distribution of bootstrap point estimates"
   ]
  },
  {
   "cell_type": "markdown",
   "metadata": {
    "slideshow": {
     "slide_type": "fragment"
    }
   },
   "source": [
    "4. Calculate the plausible range of values around our observed point estimate (we will call this a confidence interval and learn how to do this in the worksheet)"
   ]
  },
  {
   "cell_type": "markdown",
   "metadata": {
    "slideshow": {
     "slide_type": "slide"
    }
   },
   "source": [
    "## Sampling vs bootstrap distribution\n",
    "\n",
    "Reminder - true population mean = 79.3 years. The mean of our sample is 77.46 years.\n",
    "\n",
    "<img src=\"img/sampling_vs_boostrap_dist.png\" width=1400/>"
   ]
  },
  {
   "cell_type": "markdown",
   "metadata": {
    "slideshow": {
     "slide_type": "fragment"
    }
   },
   "source": [
    "We can use our bootstrap distribution to calculate the plausible range of values for the population parameter (only requires 1 sample!!):\n",
    "\n",
    "- $a$ is the 2.5% percentile (the value such that 2.5% of the bootstrap point estiamtes fall below)\n",
    "- $b$ is the 97.5% percentile (the value such that 97.5% of the bootstrap point estimates fall below)\n",
    "- the (approximate) *confidence interval* we report is the range from $a$ to $b$\n",
    "\n",
    "We can report **both** our sample point estimate and the plausible range where we expect our true population quantity to fall."
   ]
  },
  {
   "cell_type": "markdown",
   "metadata": {
    "slideshow": {
     "slide_type": "slide"
    }
   },
   "source": [
    "## Course Evaluation\n",
    "\n",
    "\n",
    "Let's take some time right now to all go do the course evaluation! \n",
    "\n",
    "We really appreciate your feedback here. It helps us understand what worked / what didn't / how to improve! \n"
   ]
  },
  {
   "cell_type": "markdown",
   "metadata": {
    "slideshow": {
     "slide_type": "fragment"
    }
   },
   "source": [
    "## OK, worksheet time!\n"
   ]
  },
  {
   "cell_type": "markdown",
   "metadata": {
    "slideshow": {
     "slide_type": "slide"
    }
   },
   "source": [
    "## Data Science wrap-up"
   ]
  },
  {
   "cell_type": "markdown",
   "metadata": {
    "slideshow": {
     "slide_type": "slide"
    }
   },
   "source": [
    "At the start of the semester, we started with this gif\n",
    "\n",
    "\n",
    "<img src=\"https://media.giphy.com/media/up25s7QBalEmQ/giphy.gif\">\n"
   ]
  },
  {
   "cell_type": "markdown",
   "metadata": {
    "slideshow": {
     "slide_type": "slide"
    }
   },
   "source": [
    "And we laid out these goals and this path:\n",
    "\n"
   ]
  },
  {
   "cell_type": "markdown",
   "metadata": {
    "slideshow": {
     "slide_type": "fragment"
    }
   },
   "source": [
    "## High-level goals of this course:"
   ]
  },
  {
   "cell_type": "markdown",
   "metadata": {
    "slideshow": {
     "slide_type": "fragment"
    }
   },
   "source": [
    "1. Map research/statistical questions to the appropriate type of data analysis"
   ]
  },
  {
   "cell_type": "markdown",
   "metadata": {
    "slideshow": {
     "slide_type": "fragment"
    }
   },
   "source": [
    "2. Use modern reproducible tools (Jupyter notebooks, R, tidyverse & tidymodels) to load, wrangle, and explore data; and to solve classification, regression, clustering, and inference problems"
   ]
  },
  {
   "cell_type": "markdown",
   "metadata": {
    "slideshow": {
     "slide_type": "fragment"
    }
   },
   "source": [
    "3. Correctly interpret and communicate results from all of the above analyses"
   ]
  },
  {
   "cell_type": "markdown",
   "metadata": {
    "slideshow": {
     "slide_type": "slide"
    }
   },
   "source": [
    "## Problems we focused on:"
   ]
  },
  {
   "cell_type": "markdown",
   "metadata": {
    "slideshow": {
     "slide_type": "fragment"
    }
   },
   "source": [
    "1. Predict a class/category for a new observation/measurement (predictive)"
   ]
  },
  {
   "cell_type": "markdown",
   "metadata": {
    "slideshow": {
     "slide_type": "fragment"
    }
   },
   "source": [
    "2. Predict a value for a new observation/measurement (predictive). "
   ]
  },
  {
   "cell_type": "markdown",
   "metadata": {
    "slideshow": {
     "slide_type": "fragment"
    }
   },
   "source": [
    "3. Find previously unknown/unlabelled subgroups in your data (exploratory)"
   ]
  },
  {
   "cell_type": "markdown",
   "metadata": {
    "slideshow": {
     "slide_type": "fragment"
    }
   },
   "source": [
    "4. Estimating a quantity from a population (inferential)"
   ]
  },
  {
   "cell_type": "markdown",
   "metadata": {
    "slideshow": {
     "slide_type": "slide"
    }
   },
   "source": [
    "## Another way to think of what we did in this course:\n",
    "\n",
    "![](https://ubc-dsci.github.io/introduction-to-datascience/img/chapter_overview.jpeg)\n"
   ]
  },
  {
   "cell_type": "markdown",
   "metadata": {
    "slideshow": {
     "slide_type": "slide"
    }
   },
   "source": [
    "## Where to from here\n",
    "\n",
    "- you learned a lot in this course!\n",
    "\n",
    "\n",
    "- many of you are asking for more Data Science (yeah!)\n",
    "\n",
    "\n",
    "- so here's a list of some UBC courses of interest you might want to take:\n",
    "    - [STAT 201 - Statistical Inference for Data Science](https://ubc-stat.github.io/stat-201)\n",
    "    - [STAT 301 - Statistical Modelling for Data Science](https://ubc-stat.github.io/stat-301)\n",
    "    - [STAT 406 - Methods for Statistical Learning](https://github.com/msalibian/STAT406)\n",
    "    - [CPSC 330 - Applied Machine Learning](https://courses.students.ubc.ca/cs/courseschedule?tname=subj-course&course=330&campuscd=UBC&dept=CPSC&pname=subjarea)\n",
    "    - CPSC 368 - Databases in Data Science\n",
    "    - DSCI 310 - Reproducible and trustworthy workflows for data science\n",
    "    - DSCI 320 - Visualization for Data Science"
   ]
  },
  {
   "cell_type": "markdown",
   "metadata": {
    "slideshow": {
     "slide_type": "slide"
    }
   },
   "source": [
    "## Minor in Data Science\n",
    "\n",
    "- UBC also has a new [Minor in Data Science](https://datascience.ubc.ca/minor). \n",
    "\n",
    "\n",
    "- Anybody can apply -- no matter your home faculty, no matter your major!\n"
   ]
  },
  {
   "cell_type": "markdown",
   "metadata": {
    "slideshow": {
     "slide_type": "fragment"
    }
   },
   "source": [
    "- outside of classes, I can recommend reading [An Introduction to Statistical Learning](https://www-bcf.usc.edu/~gareth/ISL/) and the [John Hopkins Coursera Data Science courses](https://www.coursera.org/specializations/jhu-data-science)"
   ]
  },
  {
   "cell_type": "markdown",
   "metadata": {
    "slideshow": {
     "slide_type": "slide"
    }
   },
   "source": [
    "## Thank-you and it's been a blast!\n",
    "\n",
    "<img align=\"left\" src=\"https://media.giphy.com/media/12xvz9NssSkaS4/giphy.gif\" width=\"500\">"
   ]
  }
 ],
 "metadata": {
  "celltoolbar": "Slideshow",
  "kernelspec": {
   "display_name": "R",
   "language": "R",
   "name": "ir"
  },
  "language_info": {
   "codemirror_mode": "r",
   "file_extension": ".r",
   "mimetype": "text/x-r-source",
   "name": "R",
   "pygments_lexer": "r",
   "version": "4.0.0"
  },
  "rise": {
   "transition": "fade"
  }
 },
 "nbformat": 4,
 "nbformat_minor": 2
}
