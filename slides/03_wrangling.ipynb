{
 "cells": [
  {
   "cell_type": "markdown",
   "metadata": {
    "slideshow": {
     "slide_type": "slide"
    }
   },
   "source": [
    "# DSCI 100 - Introduction to Data Science\n",
    "\n",
    "\n",
    "## Lecture 3 - Wrangling to get tidy data\n",
    "\n",
    "*Credit to [Jenny Brian's slides](https://www.slideshare.net/Plotly/plotcon-nyc-behind-every-great-plot-theres-a-great-deal-of-wrangling) and Garrett Grolemund's [tidying example](https://garrettgman.github.io/tidying/)*\n",
    "\n",
    "\n",
    "<img src=\"img/intentional_arrival.png\" width=800>"
   ]
  },
  {
   "cell_type": "markdown",
   "metadata": {
    "slideshow": {
     "slide_type": "skip"
    }
   },
   "source": [
    "### Housekeeping\n",
    "\n",
    "- (*I think...*) I've found the cause of the login issues!\n",
    "- Basically: some of you have been renaming/moving/deleting your worksheet files\n",
    "- **Please do not do this.**\n",
    "     - (the exact steps needed to produce the bug are more complicated)\n",
    "     - (but there are 400 of you, so statistically speaking some of you accidentally do it each time...)\n",
    "     - you can avoid it entirely:\n",
    "         - **do not ever rename, move, or delete your worksheet**\n",
    "         - **do not use \"Save As...\" when you're saving your work**\n",
    "         - use \"Save and Checkpoint\" or Ctrl-S instead!\n",
    "     - at a minimum, if you move/delete/rename worksheets, our autograder won't be able to find them and will give you 0"
   ]
  },
  {
   "cell_type": "markdown",
   "metadata": {
    "slideshow": {
     "slide_type": "slide"
    }
   },
   "source": [
    "### Housekeeping\n",
    "- Reminder about worksheets/tutorials: \n",
    " - **do not ever rename, move, or delete your worksheet**\n",
    "         - **do not use \"Save As...\" when you're saving your work**\n",
    "         - use \"Save Notebook\" or Ctrl-S instead!\n",
    "      - at a minimum, if you move/delete/rename worksheets, our autograder won't be able to find them and will give you 0\n",
    "\n",
    "- **Quiz dates:**\n",
    "    - Quiz 1: Thursday, June 2 from 10:30 - 11:15am **(Invigilated in person -- ALL SECTIONS)**\n",
    "    - Quiz 2: Thursday, June 16 from 10:30 - 11:15am **(Invigilated in person -- ALL SECTIONS)**\n",
    " \n",
    "- **Quiz format:**\n",
    "    - 45 mins, open-book (*not collaborative*), on Canvas\n",
    "        - Make sure you have either Chrome or Firefox. Safari has been known to have trouble.\n",
    "    - Quiz 1 covers **the material from weeks 1a - 3a**\n",
    "        - first 5 lectures; no classification; no optional web scraping / API stuff\n",
    "    - practice questions will be posted\n"
   ]
  },
  {
   "cell_type": "markdown",
   "metadata": {
    "slideshow": {
     "slide_type": "skip"
    }
   },
   "source": [
    "### Housekeeping\n",
    "\n",
    "- Worksheet 1 and 2 grades are posted (for most of you)\n",
    "- TAs are grading Tutorial 1 and 2\n",
    "- **If you got 0, but you're *certain* you completed the assignment:**\n",
    "    - let me know directly via email or Canvas. It's probably due to that login issue.\n",
    "    - (also, *don't rename/move/delete your assignments!*)\n",
    "- **If you didn't get 0:** \n",
    "    - do not contact the teaching team until you receive a feedback form\n",
    "    - the feedback form will show you what you got wrong\n",
    "- **Once you get your feedback form:**\n",
    "    - if (*and only if*) we made a **grading error**, make a private post on Piazza within 1 week to ask for a regrade\n",
    "    - otherwise, do not contact us regarding your worksheet/tutorial grade\n",
    "- **If you were sick / travelling / slept through the deadline / busy watching F1 Drive to Survive**:\n",
    "    - I will not give extensions.\n",
    "    - Note: we have to grade over 4,000 assignments/quizzes this semester (I'm not exaggerating!)\n",
    "    - I will drop your lowest worksheet + tutorial grade at the end of the semester.\n"
   ]
  },
  {
   "cell_type": "markdown",
   "metadata": {
    "slideshow": {
     "slide_type": "slide"
    }
   },
   "source": [
    "## Reminder  \n",
    "\n",
    "Where are we? Where are we going?\n",
    "\n",
    "<center><img src=\"https://d33wubrfki0l68.cloudfront.net/571b056757d68e6df81a3e3853f54d3c76ad6efc/32d37/diagrams/data-science.png\" width=\"800px\"/></center>\n",
    "\n",
    "*image source: [R for Data Science](https://r4ds.had.co.nz/) by Grolemund & Wickham*"
   ]
  },
  {
   "cell_type": "markdown",
   "metadata": {
    "slideshow": {
     "slide_type": "slide"
    }
   },
   "source": [
    "## Data Wrangling!\n",
    "<img src=\"img/wrangling.jpeg\" width=\"700\"/>\n",
    "\n",
    "image: [*Medium*](https://medium.com/@earny_joe/springboard-capstone-project-1-wrangling-the-data-a1e284d7ef5d)\n",
    "\n",
    "- In the real world, when you get data, it's usually *very messy*\n",
    "  - inconsistent format (commas, tabs, semicolons, missing data, extra empty lines)\n",
    "  - split into multiple files (e.g. yearly recorded data over many years)\n",
    "  - corrupted files, custom formats\n",
    "- when you read it successfully into R, it will often still be *very messy*"
   ]
  },
  {
   "cell_type": "markdown",
   "metadata": {
    "slideshow": {
     "slide_type": "fragment"
    }
   },
   "source": [
    "- you need to make your data **\"tidy\"**"
   ]
  },
  {
   "cell_type": "markdown",
   "metadata": {
    "slideshow": {
     "slide_type": "slide"
    }
   },
   "source": [
    "## What is Tidy Data?\n",
    "\n",
    "<img src=\"https://github.com/allisonhorst/stats-illustrations/blob/master/rstats-artwork/tidydata_1.jpg?raw=true\" width=800>"
   ]
  },
  {
   "cell_type": "markdown",
   "metadata": {
    "slideshow": {
     "slide_type": "fragment"
    }
   },
   "source": [
    "*Illustrations from the [Openscapes](https://www.openscapes.org/) blog [Tidy Data for reproducibility, efficiency, and collaboration](https://www.openscapes.org/blog/2020/10/12/tidy-data/) by Julia Lowndes and Allison Horst\"*\n"
   ]
  },
  {
   "cell_type": "markdown",
   "metadata": {
    "slideshow": {
     "slide_type": "slide"
    }
   },
   "source": [
    "\n",
    "<img src=\"https://github.com/allisonhorst/stats-illustrations/blob/master/rstats-artwork/tidydata_2.jpg?raw=true\" width=800>"
   ]
  },
  {
   "cell_type": "markdown",
   "metadata": {
    "slideshow": {
     "slide_type": "slide"
    }
   },
   "source": [
    "\n",
    "\n",
    "<img src=\"https://github.com/allisonhorst/stats-illustrations/blob/master/rstats-artwork/tidydata_3.jpg?raw=true\" width=800>"
   ]
  },
  {
   "cell_type": "markdown",
   "metadata": {
    "slideshow": {
     "slide_type": "slide"
    }
   },
   "source": [
    "## Examples of Tidy(?) Data\n",
    "\n",
    "...here is the same data represented in a few different ways. Let's vote on which are tidy!"
   ]
  },
  {
   "cell_type": "markdown",
   "metadata": {
    "slideshow": {
     "slide_type": "slide"
    }
   },
   "source": [
    "### Tuberculosis data\n",
    "\n",
    "This data is tidy. True or false?\n",
    "\n",
    "\n",
    "| country | year  | rate |\n",
    "|---------|-------|---|\n",
    "| Afghanistan | 1999|      745/19987071\n",
    "|Afghanistan |2000    | 2666/20595360\n",
    "|      Brazil |1999|   37737/172006362\n",
    "|      Brazil |2000  | 80488/174504898\n",
    "|      China |1999| 212258/1272915272\n",
    "|      China |2000 |213766/1280428583\n",
    "\n"
   ]
  },
  {
   "cell_type": "markdown",
   "metadata": {
    "slideshow": {
     "slide_type": "notes"
    }
   },
   "source": [
    "False. "
   ]
  },
  {
   "cell_type": "markdown",
   "metadata": {
    "slideshow": {
     "slide_type": "slide"
    }
   },
   "source": [
    "### Tuberculosis data\n",
    "\n",
    "This data is tidy. True or false?\n",
    "\n",
    "| country | cases (year=1999) | cases (year=2000)|\n",
    "|---------|-------|-------|\n",
    "| Afghanistan |   745 |  2666\n",
    "|  Brazil | 37737 | 80488\n",
    "|  China | 212258 | 213766\n",
    "\n",
    "| country | population (year=1999) | population (year=2000)|\n",
    "|---------|-------|-------|\n",
    "| Afghanistan |  19987071 |  20595360 |\n",
    "| Brazil | 172006362 | 174504898 |\n",
    "| China | 1272915272 | 1280428583 |\n"
   ]
  },
  {
   "cell_type": "markdown",
   "metadata": {
    "slideshow": {
     "slide_type": "notes"
    }
   },
   "source": [
    "False."
   ]
  },
  {
   "cell_type": "markdown",
   "metadata": {
    "slideshow": {
     "slide_type": "slide"
    }
   },
   "source": [
    "### Tuberculosis data\n",
    "\n",
    "This data is tidy. True or false?\n",
    "\n",
    "| country | 1999  | 2000 | \n",
    "|---------|-------|-------|\n",
    "| Afghanistan | 745  |  2666  |\n",
    "|Brazil |37737 | 80488  |\n",
    "| China | 212258 | 213766 |\n"
   ]
  },
  {
   "cell_type": "markdown",
   "metadata": {
    "slideshow": {
     "slide_type": "notes"
    }
   },
   "source": [
    "False. "
   ]
  },
  {
   "cell_type": "markdown",
   "metadata": {
    "slideshow": {
     "slide_type": "slide"
    }
   },
   "source": [
    "### Tuberculosis data\n",
    "\n",
    "This data is tidy. True or false?\n",
    "\n",
    "| country | year  | key | value |\n",
    "|---------|-------|-------|------------|\n",
    "|Afghanistan |1999 |     cases   |     745\n",
    "| Afghanistan |1999| population  | 19987071\n",
    "|  Afghanistan |2000|      cases |      2666\n",
    "|  Afghanistan| 2000| population |  20595360\n",
    "|       Brazil| 1999|      cases |     37737\n",
    "|       Brazil |1999| population | 172006362\n",
    "|       Brazil| 2000|      cases  |    80488\n",
    "|       Brazil |2000| population | 174504898\n",
    "|        China |1999|      cases  |   212258\n",
    "|       China |1999| population |1272915272\n",
    "|       China |2000|      cases |    213766\n",
    "|       China |2000| population| 1280428583"
   ]
  },
  {
   "cell_type": "markdown",
   "metadata": {
    "slideshow": {
     "slide_type": "notes"
    }
   },
   "source": [
    "False. "
   ]
  },
  {
   "cell_type": "markdown",
   "metadata": {
    "slideshow": {
     "slide_type": "slide"
    }
   },
   "source": [
    "### Tuberculosis data\n",
    "\n",
    "This data is tidy. True or false?\n",
    "\n",
    "| country | year  | cases | population |\n",
    "|---------|-------|-------|------------|\n",
    "| Afghanistan | 1999  |  745  | 19987071|\n",
    "| Afghanistan | 2000 |  2666 |  20595360|\n",
    "|Brazil |1999 | 37737  |172006362|\n",
    "| Brazil| 2000 | 80488 | 174504898|\n",
    "| China | 1999 | 212258 |1272915272|\n",
    "|  China |2000 | 213766 | 1280428583|"
   ]
  },
  {
   "cell_type": "markdown",
   "metadata": {
    "slideshow": {
     "slide_type": "notes"
    }
   },
   "source": [
    "- each row corresponds to a single observation,\n",
    "- each column corresponds to a single variable, and\n",
    "- each cell (row, column pair) correspond to a single value"
   ]
  },
  {
   "cell_type": "markdown",
   "metadata": {
    "slideshow": {
     "slide_type": "slide"
    }
   },
   "source": [
    "## Tools for tidying:\n",
    "\n",
    "- `tidyverse` package functions from: \n",
    "    - `dplyr` package (`select`, `filter`, `mutate`, `group_by`, `summarize`)\n",
    "    \n",
    "    - `tidyr` package (`pivot_longer`, `pivot_wider`)\n",
    "    \n",
    "    - `purrr` package (`map_df`)"
   ]
  },
  {
   "cell_type": "markdown",
   "metadata": {
    "slideshow": {
     "slide_type": "slide"
    }
   },
   "source": [
    "## Demo Time! \n",
    "<img src=\"img/penguins.jpg\" width=\"300\"/>\n"
   ]
  },
  {
   "cell_type": "code",
   "execution_count": null,
   "metadata": {
    "slideshow": {
     "slide_type": "slide"
    }
   },
   "outputs": [],
   "source": [
    "library(tidyverse)\n",
    "library(palmerpenguins)\n",
    "options(repr.matrix.max.rows = 6)"
   ]
  },
  {
   "cell_type": "code",
   "execution_count": null,
   "metadata": {
    "slideshow": {
     "slide_type": "slide"
    }
   },
   "outputs": [],
   "source": [
    "penguins"
   ]
  },
  {
   "cell_type": "markdown",
   "metadata": {
    "slideshow": {
     "slide_type": "notes"
    }
   },
   "source": [
    "Data for 344 penguins. There are 3 different species of penguins in this dataset, collected from 3 islands in the Antarctica.\n"
   ]
  },
  {
   "cell_type": "markdown",
   "metadata": {
    "slideshow": {
     "slide_type": "slide"
    }
   },
   "source": [
    "## Select\n",
    "\n",
    "The `select` function is used to choose a subset of columns (variables) in a dataframe.\n",
    "\n",
    "e.g. select only numeric variables"
   ]
  },
  {
   "cell_type": "code",
   "execution_count": null,
   "metadata": {},
   "outputs": [],
   "source": [
    "# select penguins example \n",
    "\n"
   ]
  },
  {
   "cell_type": "markdown",
   "metadata": {
    "slideshow": {
     "slide_type": "notes"
    }
   },
   "source": [
    "```\n",
    "penguins\n",
    "\n",
    "penguins_select <- select(penguins, bill_length_mm,\tbill_depth_mm,\tflipper_length_mm,\tbody_mass_g)\n",
    "penguins_select\n",
    "\n",
    "penguins_no_select <- select(penguins, -island, -species, -sex, -year)\n",
    "penguins_no_select\n",
    "```\n"
   ]
  },
  {
   "cell_type": "markdown",
   "metadata": {
    "slideshow": {
     "slide_type": "slide"
    }
   },
   "source": [
    "## Filter\n",
    "\n",
    "The `filter` function is used to choose a subset of rows (observations) in a dataframe.\n",
    "\n",
    "e.g. filter for only penguins with flippers longer than 190 mm"
   ]
  },
  {
   "cell_type": "code",
   "execution_count": null,
   "metadata": {
    "slideshow": {
     "slide_type": "-"
    }
   },
   "outputs": [],
   "source": [
    "#penguins filter example\n"
   ]
  },
  {
   "cell_type": "markdown",
   "metadata": {
    "slideshow": {
     "slide_type": "notes"
    }
   },
   "source": [
    "```\n",
    "penguins\n",
    "\n",
    "penguins_long <- filter(penguins, flipper_length_mm > 190)\n",
    "penguins_long\n",
    "\n",
    "```"
   ]
  },
  {
   "cell_type": "markdown",
   "metadata": {
    "slideshow": {
     "slide_type": "slide"
    }
   },
   "source": [
    "## Mutate\n",
    "\n",
    "The `mutate` function transforms old columns to add new columns.\n",
    "\n",
    "e.g. convert body mass from grams to pounds "
   ]
  },
  {
   "cell_type": "code",
   "execution_count": null,
   "metadata": {
    "slideshow": {
     "slide_type": "-"
    }
   },
   "outputs": [],
   "source": [
    "#penguin mutate example\n",
    "\n"
   ]
  },
  {
   "cell_type": "markdown",
   "metadata": {
    "slideshow": {
     "slide_type": "notes"
    }
   },
   "source": [
    "```\n",
    "penguin_pounds <- mutate(penguins, body_mass_lb = body_mass_g / 454)\n",
    "penguin_pounds\n",
    "```"
   ]
  },
  {
   "cell_type": "markdown",
   "metadata": {
    "slideshow": {
     "slide_type": "slide"
    }
   },
   "source": [
    "## Pipe Operator `%>%`\n",
    "\n",
    "When you need to do a long sequence of operations on data, you could: \n",
    "\n",
    "### 1. Save intermediate objects\n",
    "You *could* save intermediate objects (hard to read):\n",
    "\n",
    "```\n",
    "penguins_1 <- mutate(penguins, body_mass_lb = body_mass_g/454)\n",
    "penguins_2 <- filter(penguins_1, flipper_length_mm > 190)\n",
    "penguins_3 <- select(penguins_2, bill_length_mm, bill_depth_mm, flipper_length_mm, body_mass_lb)\n",
    "penguins3\n",
    "```\n",
    "#### Disadvantages:\n",
    "- The reader may be tricked into thinking the named `penguins_1` and `penguins_2` objects are important for some reason, while they are just temporary intermediate computations. \n",
    "- Further, the reader has to look through and find where `penguins_1` and `penguins_2` are used in each subsequent line."
   ]
  },
  {
   "cell_type": "markdown",
   "metadata": {
    "slideshow": {
     "slide_type": "slide"
    }
   },
   "source": [
    "### 2. Composing functions \n",
    "You *could* compose functions:\n",
    "\n",
    "```\n",
    "penguins_composed <- select(filter(mutate(penguins, body_mass_lb = body_mass_g/454), flipper_length_mm > 190), bill_length_mm, bill_depth_mm, flipper_length_mm, body_mass_lb)\n",
    "penguins_composed\n",
    "```\n",
    "#### Disadvantage: \n",
    "- Difficult to read"
   ]
  },
  {
   "cell_type": "markdown",
   "metadata": {
    "slideshow": {
     "slide_type": "slide"
    }
   },
   "source": [
    "### 3. Piping\n",
    "You can also *pipe* with the **`%>%` symbol**: passes the output of a function to the **1st argument** of another. \n",
    "\n",
    "```\n",
    "penguins_piped <- penguins %>% \n",
    "            mutate(body_mass_lb = body_mass_g/454) %>%\n",
    "            filter(flipper_length_mm > 190) %>%\n",
    "            select(bill_length_mm, bill_depth_mm, flipper_length_mm, body_mass_lb)\n",
    "penguins_piped\n",
    "```\n",
    "**note**: *if R sees a `%>%` at the end of a line, it keeps reading the next line of code before evaluating!*\n",
    "\n",
    "**note**: *in the newest version of R (and in the textbook!), you can use `|>`. In this class, we'll stick with `%>%`.*\n",
    "\n",
    "#### Advantage: \n",
    "Pipes make code more readable when you need to do a long sequence of operations on data."
   ]
  },
  {
   "cell_type": "code",
   "execution_count": null,
   "metadata": {
    "slideshow": {
     "slide_type": "fragment"
    }
   },
   "outputs": [],
   "source": [
    "# show pipe output \n",
    "penguins %>% mutate(body_mass_lb = body_mass_g/454)"
   ]
  },
  {
   "cell_type": "markdown",
   "metadata": {
    "slideshow": {
     "slide_type": "notes"
    }
   },
   "source": [
    "Note: you don't have to `select()` as the last step here "
   ]
  },
  {
   "cell_type": "markdown",
   "metadata": {
    "slideshow": {
     "slide_type": "slide"
    }
   },
   "source": [
    "## Another big concept this week: iteration\n",
    "\n",
    "- iteration is when you need to do something repeatedly (e.g., ringing in and bagging groceries at the till)\n",
    "\n",
    "![](https://www.ecomcrew.com/wp-content/uploads/2015/07/bar-code-scanning-grocery-store.jpg)"
   ]
  },
  {
   "cell_type": "markdown",
   "metadata": {
    "slideshow": {
     "slide_type": "notes"
    }
   },
   "source": [
    "- important to reduce duplication of code  \n",
    "- easier to see the intent of your code \n",
    "- likely have fewer bugs"
   ]
  },
  {
   "cell_type": "markdown",
   "metadata": {
    "slideshow": {
     "slide_type": "slide"
    }
   },
   "source": [
    "## Tidyverse tools for iteration\n",
    "\n",
    "1. `group_by` + `summarize`: iterate over groups of rows\n",
    "2. `map_df`: iterate over columns"
   ]
  },
  {
   "cell_type": "markdown",
   "metadata": {
    "slideshow": {
     "slide_type": "slide"
    }
   },
   "source": [
    "## `group_by` + `summarize`\n",
    "\n",
    "e.g. calculate the average body mass (`body_mass_g`) for each penguin species from the `penguins` dataset\n"
   ]
  },
  {
   "cell_type": "code",
   "execution_count": null,
   "metadata": {
    "slideshow": {
     "slide_type": "slide"
    }
   },
   "outputs": [],
   "source": [
    "#preview data frame\n",
    "penguins"
   ]
  },
  {
   "cell_type": "markdown",
   "metadata": {
    "slideshow": {
     "slide_type": "slide"
    }
   },
   "source": [
    "To do this we use `group_by` + `summarize` to iterate over species, calculating average body mass."
   ]
  },
  {
   "cell_type": "code",
   "execution_count": null,
   "metadata": {
    "slideshow": {
     "slide_type": "fragment"
    }
   },
   "outputs": [],
   "source": [
    "# calculate average body mass for each species"
   ]
  },
  {
   "cell_type": "markdown",
   "metadata": {
    "slideshow": {
     "slide_type": "notes"
    }
   },
   "source": [
    "```\n",
    "avg_body_mass <- penguins %>% \n",
    "    group_by(species) %>% \n",
    "    summarise(avg_body_mass = mean(body_mass_g))\n",
    "avg_body_mass\n",
    "```"
   ]
  },
  {
   "cell_type": "markdown",
   "metadata": {
    "slideshow": {
     "slide_type": "slide"
    }
   },
   "source": [
    "What's going on with those NA's?"
   ]
  },
  {
   "cell_type": "code",
   "execution_count": null,
   "metadata": {
    "slideshow": {
     "slide_type": "fragment"
    }
   },
   "outputs": [],
   "source": [
    "# calculate average body mass for each species handling NA's"
   ]
  },
  {
   "cell_type": "markdown",
   "metadata": {
    "slideshow": {
     "slide_type": "notes"
    }
   },
   "source": [
    "```\n",
    "avg_body_mass <- penguins %>% \n",
    "    group_by(species) %>% \n",
    "    summarise(avg_body_mass = mean(body_mass_g, na.rm = TRUE))\n",
    "avg_body_mass\n",
    "```\n",
    "\n",
    "```\n",
    "penguins %>% \n",
    "summarise(num_nas = sum(is.na(body_mass_g)))\n",
    "```"
   ]
  },
  {
   "cell_type": "markdown",
   "metadata": {
    "slideshow": {
     "slide_type": "slide"
    }
   },
   "source": [
    "## `map_df` \n",
    "\n",
    "e.g. calculate the average for each numeric column in the `penguins` data\n",
    "\n",
    "**Be careful:** *There are a lot of `map_...` functions that you could use (`map`, `map_lgl`, `map_chr`, etc). Usually in this course we'll only use `map_df`, but you should investigate the others yourself!*"
   ]
  },
  {
   "cell_type": "markdown",
   "metadata": {
    "slideshow": {
     "slide_type": "notes"
    }
   },
   "source": [
    "- `map()` is a function for applying a function to each element of a list (similar to lapply() ) \n",
    "- `map_df()` returns a data frame\n",
    "- `map()` returns a list, `map_lgl()` a logical vector, `map_int()` an integer vector, `map_dbl()` a double vector, `and map_chr()` a character vector.\n",
    "- `map(YOUR_LIST, YOUR_FUNCTION)`\n",
    "\n",
    "- This data set contains statistics, in arrests per 100,000 residents for assault, murder, and rape in each of the 50 US states in 1973. Also given is the percent of the population living in urban areas."
   ]
  },
  {
   "cell_type": "code",
   "execution_count": null,
   "metadata": {
    "scrolled": true,
    "slideshow": {
     "slide_type": "slide"
    }
   },
   "outputs": [],
   "source": [
    "\n"
   ]
  },
  {
   "cell_type": "code",
   "execution_count": null,
   "metadata": {
    "slideshow": {
     "slide_type": "-"
    }
   },
   "outputs": [],
   "source": [
    "#calculate average each numeric column in penguins data set \n"
   ]
  },
  {
   "cell_type": "markdown",
   "metadata": {
    "slideshow": {
     "slide_type": "notes"
    }
   },
   "source": [
    "```\n",
    "numeric_penguins <- penguins %>% select(where(is.numeric)) \n",
    "\n",
    "numeric_penguins\n",
    "```\n",
    "\n",
    "```\n",
    "penguins_summarized <- map_df(numeric_penguins, mean, na.rm = TRUE) # returns a dataframe\n",
    "penguins_summarized_df\n",
    "\n",
    "penguins_summarized_list <- map(numeric_penguins, mean, na.rm = TRUE) # returns a list\n",
    "class(penguins_summarized_list)\n",
    "```\n",
    "\n",
    "- notice we can do the same thing with the following but not as efficient, more duplication of code /more prone to errors/less clean:\n",
    "```\n",
    "numeric_penguins  %>% \n",
    "summarize(mean(bill_length_mm, na.rm = TRUE), mean(bill_depth_mm, na.rm = TRUE), mean(flipper_length_mm, na.rm = TRUE), mean(body_mass_g, na.rm = TRUE), mean(year, na.rm = TRUE))\n",
    "```\n",
    "\n",
    "- Vector, Array, List and Data Frame are 4 basic data types defined in R. Knowing the differences between them will help you use R more efficiently.\n",
    "- Vector: All elements must be of the same type.\n",
    "- Matrix/array: A matrix is a vector with two additional attributes: the number of rows and the number of columns.\n",
    "- List can contain elements of different types.\n",
    "- Dataframe: A data frame is used for storing data tables. It is a list of vectors of equal length.\n",
    "\n",
    "\n"
   ]
  },
  {
   "cell_type": "markdown",
   "metadata": {
    "slideshow": {
     "slide_type": "slide"
    }
   },
   "source": [
    "\n",
    "## Go forth and wrangle! \n",
    "\n",
    "<img align=\"left\" src=\"https://media.giphy.com/media/Qgm6tIYrSQqC4/giphy.gif\" width=\"300\">"
   ]
  },
  {
   "cell_type": "markdown",
   "metadata": {
    "slideshow": {
     "slide_type": "-"
    }
   },
   "source": [
    "*image source: https://media.giphy.com/media/Qgm6tIYrSQqC4/giphy-downsized-large.gif*"
   ]
  },
  {
   "cell_type": "markdown",
   "metadata": {
    "slideshow": {
     "slide_type": "slide"
    }
   },
   "source": [
    "## What did we learn?\n",
    "\n",
    "- \n",
    "- \n",
    "- \n",
    "\n",
    "\n",
    "\n"
   ]
  },
  {
   "cell_type": "markdown",
   "metadata": {
    "slideshow": {
     "slide_type": "slide"
    }
   },
   "source": [
    "Friends with similar tools:\n",
    "\n",
    "<img src=\"https://github.com/allisonhorst/stats-illustrations/blob/master/rstats-artwork/tidydata_4.jpg?raw=true\" width=800>"
   ]
  },
  {
   "cell_type": "markdown",
   "metadata": {
    "slideshow": {
     "slide_type": "slide"
    }
   },
   "source": [
    "Easier for automation & iteration!\n",
    "\n",
    "<img src=\"https://github.com/allisonhorst/stats-illustrations/blob/master/rstats-artwork/tidydata_5.jpg?raw=true\" width=800>"
   ]
  },
  {
   "cell_type": "markdown",
   "metadata": {
    "slideshow": {
     "slide_type": "slide"
    }
   },
   "source": [
    "And it makes all other tidy datasets seem more welcoming!\n",
    "\n",
    "<img src=\"https://github.com/allisonhorst/stats-illustrations/raw/master/rstats-artwork/tidydata_6.jpg?raw=true\" width=800>"
   ]
  },
  {
   "cell_type": "markdown",
   "metadata": {
    "slideshow": {
     "slide_type": "slide"
    }
   },
   "source": [
    "So make friends with tidy data!\n",
    "\n",
    "<img src=\"https://github.com/allisonhorst/stats-illustrations/blob/master/rstats-artwork/tidydata_7.jpg?raw=true\" width=800>"
   ]
  }
 ],
 "metadata": {
  "celltoolbar": "Slideshow",
  "kernelspec": {
   "display_name": "R",
   "language": "R",
   "name": "ir"
  },
  "language_info": {
   "codemirror_mode": "r",
   "file_extension": ".r",
   "mimetype": "text/x-r-source",
   "name": "R",
   "pygments_lexer": "r",
   "version": "4.0.0"
  },
  "rise": {
   "transition": "fade"
  }
 },
 "nbformat": 4,
 "nbformat_minor": 2
}
