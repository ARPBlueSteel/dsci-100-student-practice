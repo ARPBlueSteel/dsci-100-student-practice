{
 "cells": [
  {
   "cell_type": "code",
   "execution_count": 1,
   "metadata": {},
   "outputs": [
    {
     "name": "stderr",
     "output_type": "stream",
     "text": [
      "── \u001b[1mAttaching packages\u001b[22m ─────────────────────────────────────── tidyverse 1.3.0 ──\n",
      "\n",
      "\u001b[32m✔\u001b[39m \u001b[34mggplot2\u001b[39m 3.3.2     \u001b[32m✔\u001b[39m \u001b[34mpurrr  \u001b[39m 0.3.4\n",
      "\u001b[32m✔\u001b[39m \u001b[34mtibble \u001b[39m 3.0.3     \u001b[32m✔\u001b[39m \u001b[34mdplyr  \u001b[39m 1.0.2\n",
      "\u001b[32m✔\u001b[39m \u001b[34mtidyr  \u001b[39m 1.1.2     \u001b[32m✔\u001b[39m \u001b[34mstringr\u001b[39m 1.4.0\n",
      "\u001b[32m✔\u001b[39m \u001b[34mreadr  \u001b[39m 1.3.1     \u001b[32m✔\u001b[39m \u001b[34mforcats\u001b[39m 0.5.0\n",
      "\n",
      "Warning message:\n",
      "“package ‘ggplot2’ was built under R version 4.0.1”\n",
      "Warning message:\n",
      "“package ‘tibble’ was built under R version 4.0.2”\n",
      "Warning message:\n",
      "“package ‘tidyr’ was built under R version 4.0.2”\n",
      "Warning message:\n",
      "“package ‘dplyr’ was built under R version 4.0.2”\n",
      "── \u001b[1mConflicts\u001b[22m ────────────────────────────────────────── tidyverse_conflicts() ──\n",
      "\u001b[31m✖\u001b[39m \u001b[34mdplyr\u001b[39m::\u001b[32mfilter()\u001b[39m masks \u001b[34mstats\u001b[39m::filter()\n",
      "\u001b[31m✖\u001b[39m \u001b[34mdplyr\u001b[39m::\u001b[32mlag()\u001b[39m    masks \u001b[34mstats\u001b[39m::lag()\n",
      "\n"
     ]
    }
   ],
   "source": [
    "# run before presenting to create population\n",
    "# create virtual box\n",
    "options(repr.matrix.max.rows = 6)\n",
    "library(tidyverse)\n",
    "set.seed(1)\n",
    "virtual_ugrads <- tibble(student_id = seq(1, 50000, by = 1),\n",
    "                     phone_type = factor(rbinom(50000, 1, 0.63),\n",
    "                     labels = c(\"other\", \"iphone\")))"
   ]
  },
  {
   "cell_type": "markdown",
   "metadata": {
    "slideshow": {
     "slide_type": "slide"
    }
   },
   "source": [
    "## DSCI 100 - Introduction to Data Science\n",
    "\n",
    "### Lecture 11 - Introduction to inference & sampling\n",
    "\n",
    "<img src=\"https://tinystats.github.io/teacups-giraffes-and-statistics/images/02_bellCurve/giraffe_lineup4.jpg\" width=600>\n",
    "\n",
    "Source: [Desirée De Lyon's Tea cup Giraffe's statistics course](https://tinystats.github.io/teacups-giraffes-and-statistics/02_bellCurve.html)"
   ]
  },
  {
   "cell_type": "markdown",
   "metadata": {
    "slideshow": {
     "slide_type": "slide"
    }
   },
   "source": [
    "## Reminders\n",
    "\n",
    "- Final exam (quiz 3) June 26 12:00PM (Noon PDT) -- All sections!\n",
    "    - Section 002: PHRM 1101\n",
    "\n",
    "\n",
    "- Be respectful and polite."
   ]
  },
  {
   "cell_type": "markdown",
   "metadata": {
    "slideshow": {
     "slide_type": "slide"
    }
   },
   "source": [
    "## What is statistical inference?\n",
    "\n",
    "Statistical inference is the process of using a *sample* to make conclusions about a wider *population* the sample came from.\n",
    "\n",
    "**Why?:** It's often expensive or not possible to measure the whole population.\n",
    "\n",
    "#### E.g.: we want to know the average width of a species of sea star\n",
    "\n",
    "<img src=\"img/intro-inf-1.png\" width=1100>\n"
   ]
  },
  {
   "cell_type": "markdown",
   "metadata": {
    "slideshow": {
     "slide_type": "slide"
    }
   },
   "source": [
    "## What is statistical inference?\n",
    "\n",
    "Statistical inference is the process of using a *sample* to make conclusions about a wider *population* the sample came from.\n",
    "\n",
    "**Why?:** It's often expensive or not possible to measure the whole population.\n",
    "\n",
    "#### E.g.: we want to know the average width of a species of sea star\n",
    "\n",
    "<img src=\"img/intro-inf-2.png\" width=1100>"
   ]
  },
  {
   "cell_type": "markdown",
   "metadata": {
    "slideshow": {
     "slide_type": "slide"
    }
   },
   "source": [
    "## What is statistical inference?\n",
    "\n",
    "Statistical inference is the process of using a *sample* to make conclusions about a wider *population* the sample came from.\n",
    "\n",
    "**Why?:** It's often expensive or not possible to measure the whole population.\n",
    "\n",
    "#### E.g.: we want to know the average width of a species of sea star\n",
    "\n",
    "<img src=\"img/intro-inf-3.png\" width=1100>"
   ]
  },
  {
   "cell_type": "markdown",
   "metadata": {
    "slideshow": {
     "slide_type": "slide"
    }
   },
   "source": [
    "## What is statistical inference?\n",
    "\n",
    "Statistical inference is the process of using a *sample* to make conclusions about a wider *population* the sample came from.\n",
    "\n",
    "**Why?:** It's often expensive or not possible to measure the whole population.\n",
    "\n",
    "#### E.g.: we want to know the average width of a species of sea star\n",
    "\n",
    "<img src=\"img/intro-inf-4.png\" width=1100>"
   ]
  },
  {
   "cell_type": "markdown",
   "metadata": {
    "slideshow": {
     "slide_type": "notes"
    }
   },
   "source": [
    "- **Population:** collection of all possible observations + their frequency/count\n",
    "    - e.g. the widths of the entire population of sea stars\n",
    "\n",
    "- **Sample:** a randomly selected subset of observations\n",
    "    - e.g. I randomly pick 50 sea stars and record their widths\n",
    "\n",
    "- **Statistic:** something I compute using my sample\n",
    "    - e.g. the mean width of the sea stars *in my sample*\n",
    "\n",
    "- **Inference:** using the sample to make a conclusion about the whole population, and *knowing how uncertain you are* about your conclusion"
   ]
  },
  {
   "cell_type": "markdown",
   "metadata": {
    "slideshow": {
     "slide_type": "slide"
    }
   },
   "source": [
    "## Inference in the wild: opinion polling\n",
    "\n",
    "Based on the results of a recent Reuters poll, we estimate that 47.2% of Americans think that firearms should have strong regulations or restrictions when thinking about gun ownership rights and gun laws.\n",
    "\n",
    "source: http://polling.reuters.com/#!response/PV20/type/smallest/dates/20180505-20181002/collapsed/true"
   ]
  },
  {
   "cell_type": "markdown",
   "metadata": {
    "slideshow": {
     "slide_type": "notes"
    }
   },
   "source": [
    "acquiescence bias: (from wikipedia): Acquiescence bias, also known as agreement bias,\n",
    "is a category of response bias common to survey research in which respondents have a tendency to select a positive response option or indicate a positive connotation disproportionately more frequently.\n",
    "\n",
    "See also: NYTimes Daily episode: \"Why Polling on Gun Control Gets It Wrong\"\n",
    "https://www.nytimes.com/2022/06/07/podcasts/the-daily/gun-control-polling.html"
   ]
  },
  {
   "cell_type": "markdown",
   "metadata": {
    "slideshow": {
     "slide_type": "slide"
    }
   },
   "source": [
    "## Inference in the wild: market assessment\n",
    "\n",
    "What proportion of undergraduate students have an iphone?\n",
    "\n",
    "<img img align=\"left\" src=\"https://media.wired.com/photos/5b22c5c4b878a15e9ce80d92/master/w_582,c_limit/iphonex-TA.jpg\" width=\"500\"/>"
   ]
  },
  {
   "cell_type": "markdown",
   "metadata": {
    "slideshow": {
     "slide_type": "slide"
    }
   },
   "source": [
    "## Inference in the wild: A/B testing\n",
    "\n",
    "*(not in DSCI100 - you'll need to take a more advanced DSCI or STAT class for this!)*\n",
    "\n",
    "Which of the 2 website designs will lead to more customer engagement (measured by click-through-rate, for example)?\n",
    "\n",
    "<img img align=\"left\" src=\"https://images.ctfassets.net/zw48pl1isxmc/4QYN7VubAAgEAGs0EuWguw/165749ef2fa01c1c004b6a167fd27835/ab-testing.png\" width=\"600\"/>"
   ]
  },
  {
   "cell_type": "markdown",
   "metadata": {
    "slideshow": {
     "slide_type": "notes"
    }
   },
   "source": [
    "source: https://images.ctfassets.net/zw48pl1isxmc/4QYN7VubAAgEAGs0EuWguw/165749ef2fa01c1c004b6a167fd27835/ab-testing.png"
   ]
  },
  {
   "cell_type": "markdown",
   "metadata": {
    "slideshow": {
     "slide_type": "slide"
    }
   },
   "source": [
    "## Estimation\n",
    "\n",
    "A particular inferential problem where we try to *estimate a quantitative property* of the population\n",
    "\n",
    "This quantitative property is called a **population parameter**\n",
    "\n",
    "**Question:** What *proportion* (a quantitative population parameter!) of UBC  undergrads have an iphone?\n",
    "<img align=\"left\" src=\"img/sampling.001.jpeg\" width=\"700\"/>"
   ]
  },
  {
   "cell_type": "markdown",
   "metadata": {
    "slideshow": {
     "slide_type": "slide"
    }
   },
   "source": [
    "## Estimation\n",
    "\n",
    "Step 1: randomly select a subset (a *sample*) and ask them if they have an iPhone\n",
    "\n",
    "Step 2: calculate the proportion in our sample (a *statistic* or *point estimate*) and use it as an estimate of the true population proportion.\n",
    "\n",
    "<img align=\"left\" src=\"img/sampling.002.jpeg\" width=\"700\"/>"
   ]
  },
  {
   "cell_type": "markdown",
   "metadata": {
    "slideshow": {
     "slide_type": "slide"
    }
   },
   "source": [
    "# Virtual simulation experiment\n",
    "\n",
    "Let's simulate this process to see how well sample estimates reflect the true population parameter!\n",
    "\n",
    "**Question:** What proportion of UBC undergrads have an iPhone?\n",
    "\n",
    "<img img align=\"left\" src=\"https://www.ubc.ca/_assets/img/okanagan-undergraduates-1920x700.jpg\" width = 800/>\n",
    "\n",
    "- Let's create a virtual group of students (our population) where 63% of the students have iPhones\n",
    "- Then:\n",
    "    - collect a random sample of 40 students, \n",
    "    - calculate a proportion of students with iPhones\n",
    "   \n"
   ]
  },
  {
   "cell_type": "markdown",
   "metadata": {
    "slideshow": {
     "slide_type": "slide"
    }
   },
   "source": [
    "### As always, load the libraries we'll be using:"
   ]
  },
  {
   "cell_type": "code",
   "execution_count": 2,
   "metadata": {
    "scrolled": true,
    "slideshow": {
     "slide_type": "fragment"
    }
   },
   "outputs": [
    {
     "name": "stderr",
     "output_type": "stream",
     "text": [
      "Warning message:\n",
      "“package ‘infer’ was built under R version 4.0.3”\n"
     ]
    }
   ],
   "source": [
    "# load libraries for wrangling and plotting\n",
    "library(dplyr)\n",
    "library(infer) "
   ]
  },
  {
   "cell_type": "markdown",
   "metadata": {
    "slideshow": {
     "slide_type": "slide"
    }
   },
   "source": [
    "\n",
    "### 1. Our virtual UBC students (population)\n",
    "\n",
    "Let's examine our population of 50,000 students. Remember that the true proportion of iPhone users is 63%."
   ]
  },
  {
   "cell_type": "code",
   "execution_count": 10,
   "metadata": {
    "slideshow": {
     "slide_type": "fragment"
    }
   },
   "outputs": [
    {
     "data": {
      "text/html": [
       "<table>\n",
       "<caption>A tibble: 50000 × 2</caption>\n",
       "<thead>\n",
       "\t<tr><th scope=col>student_id</th><th scope=col>phone_type</th></tr>\n",
       "\t<tr><th scope=col>&lt;dbl&gt;</th><th scope=col>&lt;fct&gt;</th></tr>\n",
       "</thead>\n",
       "<tbody>\n",
       "\t<tr><td>1</td><td>iphone</td></tr>\n",
       "\t<tr><td>2</td><td>iphone</td></tr>\n",
       "\t<tr><td>3</td><td>iphone</td></tr>\n",
       "\t<tr><td>⋮</td><td>⋮</td></tr>\n",
       "\t<tr><td>49998</td><td>iphone</td></tr>\n",
       "\t<tr><td>49999</td><td>iphone</td></tr>\n",
       "\t<tr><td>50000</td><td>iphone</td></tr>\n",
       "</tbody>\n",
       "</table>\n"
      ],
      "text/latex": [
       "A tibble: 50000 × 2\n",
       "\\begin{tabular}{ll}\n",
       " student\\_id & phone\\_type\\\\\n",
       " <dbl> & <fct>\\\\\n",
       "\\hline\n",
       "\t 1 & iphone\\\\\n",
       "\t 2 & iphone\\\\\n",
       "\t 3 & iphone\\\\\n",
       "\t ⋮ & ⋮\\\\\n",
       "\t 49998 & iphone\\\\\n",
       "\t 49999 & iphone\\\\\n",
       "\t 50000 & iphone\\\\\n",
       "\\end{tabular}\n"
      ],
      "text/markdown": [
       "\n",
       "A tibble: 50000 × 2\n",
       "\n",
       "| student_id &lt;dbl&gt; | phone_type &lt;fct&gt; |\n",
       "|---|---|\n",
       "| 1 | iphone |\n",
       "| 2 | iphone |\n",
       "| 3 | iphone |\n",
       "| ⋮ | ⋮ |\n",
       "| 49998 | iphone |\n",
       "| 49999 | iphone |\n",
       "| 50000 | iphone |\n",
       "\n"
      ],
      "text/plain": [
       "      student_id phone_type\n",
       "1     1          iphone    \n",
       "2     2          iphone    \n",
       "3     3          iphone    \n",
       "⋮     ⋮          ⋮         \n",
       "49998 49998      iphone    \n",
       "49999 49999      iphone    \n",
       "50000 50000      iphone    "
      ]
     },
     "metadata": {},
     "output_type": "display_data"
    }
   ],
   "source": [
    "virtual_ugrads"
   ]
  },
  {
   "cell_type": "markdown",
   "metadata": {
    "slideshow": {
     "slide_type": "slide"
    }
   },
   "source": [
    "Check that the virtual population contains ~ 63% iPhone users:"
   ]
  },
  {
   "cell_type": "code",
   "execution_count": 11,
   "metadata": {
    "slideshow": {
     "slide_type": "fragment"
    }
   },
   "outputs": [
    {
     "name": "stderr",
     "output_type": "stream",
     "text": [
      "`summarise()` ungrouping output (override with `.groups` argument)\n",
      "\n"
     ]
    },
    {
     "data": {
      "text/html": [
       "<table>\n",
       "<caption>A tibble: 2 × 3</caption>\n",
       "<thead>\n",
       "\t<tr><th scope=col>phone_type</th><th scope=col>n</th><th scope=col>proportion</th></tr>\n",
       "\t<tr><th scope=col>&lt;fct&gt;</th><th scope=col>&lt;int&gt;</th><th scope=col>&lt;dbl&gt;</th></tr>\n",
       "</thead>\n",
       "<tbody>\n",
       "\t<tr><td>other </td><td>18480</td><td>0.3696</td></tr>\n",
       "\t<tr><td>iphone</td><td>31520</td><td>0.6304</td></tr>\n",
       "</tbody>\n",
       "</table>\n"
      ],
      "text/latex": [
       "A tibble: 2 × 3\n",
       "\\begin{tabular}{lll}\n",
       " phone\\_type & n & proportion\\\\\n",
       " <fct> & <int> & <dbl>\\\\\n",
       "\\hline\n",
       "\t other  & 18480 & 0.3696\\\\\n",
       "\t iphone & 31520 & 0.6304\\\\\n",
       "\\end{tabular}\n"
      ],
      "text/markdown": [
       "\n",
       "A tibble: 2 × 3\n",
       "\n",
       "| phone_type &lt;fct&gt; | n &lt;int&gt; | proportion &lt;dbl&gt; |\n",
       "|---|---|---|\n",
       "| other  | 18480 | 0.3696 |\n",
       "| iphone | 31520 | 0.6304 |\n",
       "\n"
      ],
      "text/plain": [
       "  phone_type n     proportion\n",
       "1 other      18480 0.3696    \n",
       "2 iphone     31520 0.6304    "
      ]
     },
     "metadata": {},
     "output_type": "display_data"
    }
   ],
   "source": [
    "virtual_ugrads %>% \n",
    "    group_by(phone_type) %>% \n",
    "    summarize(n = n(),\n",
    "             proportion = n() / 50000)"
   ]
  },
  {
   "cell_type": "markdown",
   "metadata": {
    "slideshow": {
     "slide_type": "slide"
    }
   },
   "source": [
    "### 2. Drawing a single sample of size 40\n",
    "\n",
    "Let's simulate taking one random sample from our virtual undergrad population. We will use the `rep_sample_n` function from the `infer` package:"
   ]
  },
  {
   "cell_type": "code",
   "execution_count": 13,
   "metadata": {
    "slideshow": {
     "slide_type": "fragment"
    }
   },
   "outputs": [
    {
     "data": {
      "text/html": [
       "<table>\n",
       "<caption>A grouped_df: 40 × 3</caption>\n",
       "<thead>\n",
       "\t<tr><th scope=col>replicate</th><th scope=col>student_id</th><th scope=col>phone_type</th></tr>\n",
       "\t<tr><th scope=col>&lt;int&gt;</th><th scope=col>&lt;dbl&gt;</th><th scope=col>&lt;fct&gt;</th></tr>\n",
       "</thead>\n",
       "<tbody>\n",
       "\t<tr><td>1</td><td>45917</td><td>other </td></tr>\n",
       "\t<tr><td>1</td><td> 7801</td><td>iphone</td></tr>\n",
       "\t<tr><td>1</td><td> 3390</td><td>iphone</td></tr>\n",
       "\t<tr><td>⋮</td><td>⋮</td><td>⋮</td></tr>\n",
       "\t<tr><td>1</td><td>34576</td><td>other </td></tr>\n",
       "\t<tr><td>1</td><td>40770</td><td>iphone</td></tr>\n",
       "\t<tr><td>1</td><td> 6692</td><td>iphone</td></tr>\n",
       "</tbody>\n",
       "</table>\n"
      ],
      "text/latex": [
       "A grouped\\_df: 40 × 3\n",
       "\\begin{tabular}{lll}\n",
       " replicate & student\\_id & phone\\_type\\\\\n",
       " <int> & <dbl> & <fct>\\\\\n",
       "\\hline\n",
       "\t 1 & 45917 & other \\\\\n",
       "\t 1 &  7801 & iphone\\\\\n",
       "\t 1 &  3390 & iphone\\\\\n",
       "\t ⋮ & ⋮ & ⋮\\\\\n",
       "\t 1 & 34576 & other \\\\\n",
       "\t 1 & 40770 & iphone\\\\\n",
       "\t 1 &  6692 & iphone\\\\\n",
       "\\end{tabular}\n"
      ],
      "text/markdown": [
       "\n",
       "A grouped_df: 40 × 3\n",
       "\n",
       "| replicate &lt;int&gt; | student_id &lt;dbl&gt; | phone_type &lt;fct&gt; |\n",
       "|---|---|---|\n",
       "| 1 | 45917 | other  |\n",
       "| 1 |  7801 | iphone |\n",
       "| 1 |  3390 | iphone |\n",
       "| ⋮ | ⋮ | ⋮ |\n",
       "| 1 | 34576 | other  |\n",
       "| 1 | 40770 | iphone |\n",
       "| 1 |  6692 | iphone |\n",
       "\n"
      ],
      "text/plain": [
       "   replicate student_id phone_type\n",
       "1  1         45917      other     \n",
       "2  1          7801      iphone    \n",
       "3  1          3390      iphone    \n",
       "⋮  ⋮         ⋮          ⋮         \n",
       "38 1         34576      other     \n",
       "39 1         40770      iphone    \n",
       "40 1          6692      iphone    "
      ]
     },
     "metadata": {},
     "output_type": "display_data"
    }
   ],
   "source": [
    "# draw a single sample from the virtual population\n",
    "student_sample <- rep_sample_n(virtual_ugrads, size = 40)\n",
    "student_sample"
   ]
  },
  {
   "cell_type": "markdown",
   "metadata": {
    "slideshow": {
     "slide_type": "notes"
    }
   },
   "source": [
    "```\n",
    "# function signature:\n",
    "# rep_sample_n(tbl, size, replace = FALSE, reps = 1, prob = NULL)\n",
    "\n",
    "student_sample <- rep_sample_n(virtual_ugrads, size = 40)\n",
    "student_sample\n",
    "```"
   ]
  },
  {
   "cell_type": "markdown",
   "metadata": {
    "slideshow": {
     "slide_type": "fragment"
    }
   },
   "source": [
    "We can tell by the `student_id` column that R indeed did what we asked - randomly selected 40 students from our virtual population."
   ]
  },
  {
   "cell_type": "markdown",
   "metadata": {
    "slideshow": {
     "slide_type": "slide"
    }
   },
   "source": [
    "### What is the proportion of iPhone users in our sample?\n",
    "\n",
    "Is it close to the population proportion?"
   ]
  },
  {
   "cell_type": "code",
   "execution_count": 19,
   "metadata": {
    "slideshow": {
     "slide_type": "fragment"
    }
   },
   "outputs": [
    {
     "name": "stderr",
     "output_type": "stream",
     "text": [
      "`summarise()` ungrouping output (override with `.groups` argument)\n",
      "\n"
     ]
    },
    {
     "data": {
      "text/html": [
       "<table>\n",
       "<caption>A tibble: 1 × 3</caption>\n",
       "<thead>\n",
       "\t<tr><th scope=col>replicate</th><th scope=col>n</th><th scope=col>prop</th></tr>\n",
       "\t<tr><th scope=col>&lt;int&gt;</th><th scope=col>&lt;int&gt;</th><th scope=col>&lt;dbl&gt;</th></tr>\n",
       "</thead>\n",
       "<tbody>\n",
       "\t<tr><td>1</td><td>24</td><td>0.6</td></tr>\n",
       "</tbody>\n",
       "</table>\n"
      ],
      "text/latex": [
       "A tibble: 1 × 3\n",
       "\\begin{tabular}{lll}\n",
       " replicate & n & prop\\\\\n",
       " <int> & <int> & <dbl>\\\\\n",
       "\\hline\n",
       "\t 1 & 24 & 0.6\\\\\n",
       "\\end{tabular}\n"
      ],
      "text/markdown": [
       "\n",
       "A tibble: 1 × 3\n",
       "\n",
       "| replicate &lt;int&gt; | n &lt;int&gt; | prop &lt;dbl&gt; |\n",
       "|---|---|---|\n",
       "| 1 | 24 | 0.6 |\n",
       "\n"
      ],
      "text/plain": [
       "  replicate n  prop\n",
       "1 1         24 0.6 "
      ]
     },
     "metadata": {},
     "output_type": "display_data"
    }
   ],
   "source": [
    "# compute the proportion of iPhone users\n",
    "iphone_estimate_1 <- student_sample %>%\n",
    "    summarize(n = sum(phone_type == \"iphone\"),\n",
    "              prop = sum(phone_type == \"iphone\") / 40)\n",
    "iphone_estimate_1"
   ]
  },
  {
   "cell_type": "markdown",
   "metadata": {
    "slideshow": {
     "slide_type": "notes"
    }
   },
   "source": [
    "```\n",
    "iphone_estimate_1 <- student_sample %>%\n",
    "    summarize(student_sample, n = sum(phone_type == \"iphone\"),\n",
    "              prop = sum(phone_type == \"iphone\") / 40)\n",
    "iphone_estimate_1\n",
    "```"
   ]
  },
  {
   "cell_type": "markdown",
   "metadata": {
    "slideshow": {
     "slide_type": "slide"
    }
   },
   "source": [
    "### What happens if we were to take another sample?\n",
    "\n",
    "Would the sample proportion be the same?"
   ]
  },
  {
   "cell_type": "code",
   "execution_count": 20,
   "metadata": {
    "slideshow": {
     "slide_type": "fragment"
    }
   },
   "outputs": [
    {
     "name": "stderr",
     "output_type": "stream",
     "text": [
      "`summarise()` ungrouping output (override with `.groups` argument)\n",
      "\n"
     ]
    },
    {
     "data": {
      "text/html": [
       "<table>\n",
       "<caption>A tibble: 1 × 3</caption>\n",
       "<thead>\n",
       "\t<tr><th scope=col>replicate</th><th scope=col>n</th><th scope=col>prop</th></tr>\n",
       "\t<tr><th scope=col>&lt;int&gt;</th><th scope=col>&lt;int&gt;</th><th scope=col>&lt;dbl&gt;</th></tr>\n",
       "</thead>\n",
       "<tbody>\n",
       "\t<tr><td>1</td><td>26</td><td>0.65</td></tr>\n",
       "</tbody>\n",
       "</table>\n"
      ],
      "text/latex": [
       "A tibble: 1 × 3\n",
       "\\begin{tabular}{lll}\n",
       " replicate & n & prop\\\\\n",
       " <int> & <int> & <dbl>\\\\\n",
       "\\hline\n",
       "\t 1 & 26 & 0.65\\\\\n",
       "\\end{tabular}\n"
      ],
      "text/markdown": [
       "\n",
       "A tibble: 1 × 3\n",
       "\n",
       "| replicate &lt;int&gt; | n &lt;int&gt; | prop &lt;dbl&gt; |\n",
       "|---|---|---|\n",
       "| 1 | 26 | 0.65 |\n",
       "\n"
      ],
      "text/plain": [
       "  replicate n  prop\n",
       "1 1         26 0.65"
      ]
     },
     "metadata": {},
     "output_type": "display_data"
    }
   ],
   "source": [
    "# random sample from virtual population\n",
    "iphone_estimate_2 <- virtual_ugrads %>%\n",
    "    rep_sample_n(size = 40) %>% \n",
    "    summarize(n = sum(phone_type == \"iphone\"),\n",
    "              prop = sum(phone_type == \"iphone\") / 40)\n",
    "iphone_estimate_2"
   ]
  },
  {
   "cell_type": "markdown",
   "metadata": {
    "slideshow": {
     "slide_type": "notes"
    }
   },
   "source": [
    "```\n",
    "iphone_estimate_2 <- virtual_ugrads %>%\n",
    "    rep_sample_n(size = 40) %>% \n",
    "    summarize(n = sum(phone_type == \"iphone\"),\n",
    "              prop = sum(phone_type == \"iphone\") / 40)\n",
    "iphone_estimate_2\n",
    "```"
   ]
  },
  {
   "cell_type": "markdown",
   "metadata": {
    "slideshow": {
     "slide_type": "fragment"
    }
   },
   "source": [
    "### What about another?"
   ]
  },
  {
   "cell_type": "code",
   "execution_count": 21,
   "metadata": {
    "slideshow": {
     "slide_type": "fragment"
    }
   },
   "outputs": [
    {
     "name": "stderr",
     "output_type": "stream",
     "text": [
      "`summarise()` ungrouping output (override with `.groups` argument)\n",
      "\n"
     ]
    },
    {
     "data": {
      "text/html": [
       "<table>\n",
       "<caption>A tibble: 1 × 3</caption>\n",
       "<thead>\n",
       "\t<tr><th scope=col>replicate</th><th scope=col>n</th><th scope=col>prop</th></tr>\n",
       "\t<tr><th scope=col>&lt;int&gt;</th><th scope=col>&lt;int&gt;</th><th scope=col>&lt;dbl&gt;</th></tr>\n",
       "</thead>\n",
       "<tbody>\n",
       "\t<tr><td>1</td><td>25</td><td>0.625</td></tr>\n",
       "</tbody>\n",
       "</table>\n"
      ],
      "text/latex": [
       "A tibble: 1 × 3\n",
       "\\begin{tabular}{lll}\n",
       " replicate & n & prop\\\\\n",
       " <int> & <int> & <dbl>\\\\\n",
       "\\hline\n",
       "\t 1 & 25 & 0.625\\\\\n",
       "\\end{tabular}\n"
      ],
      "text/markdown": [
       "\n",
       "A tibble: 1 × 3\n",
       "\n",
       "| replicate &lt;int&gt; | n &lt;int&gt; | prop &lt;dbl&gt; |\n",
       "|---|---|---|\n",
       "| 1 | 25 | 0.625 |\n",
       "\n"
      ],
      "text/plain": [
       "  replicate n  prop \n",
       "1 1         25 0.625"
      ]
     },
     "metadata": {},
     "output_type": "display_data"
    }
   ],
   "source": [
    "# random sample from virtual student population\n",
    "iphone_estimate_3 <- virtual_ugrads %>%\n",
    "    rep_sample_n(size = 40) %>% \n",
    "    summarize(n = sum(phone_type == \"iphone\"),\n",
    "              prop = sum(phone_type == \"iphone\") / 40)\n",
    "iphone_estimate_3"
   ]
  },
  {
   "cell_type": "markdown",
   "metadata": {
    "slideshow": {
     "slide_type": "notes"
    }
   },
   "source": [
    "```\n",
    "iphone_estimate_3 <- rep_sample_n(virtual_ugrads, size = 40) %>% \n",
    "    summarize(n = sum(phone_type == \"iphone\"),\n",
    "              prop = sum(phone_type == \"iphone\") / 40)\n",
    "iphone_estimate_3\n",
    "```"
   ]
  },
  {
   "cell_type": "markdown",
   "metadata": {
    "slideshow": {
     "slide_type": "slide"
    }
   },
   "source": [
    "### What values do we expect when we sample?"
   ]
  },
  {
   "cell_type": "code",
   "execution_count": 22,
   "metadata": {
    "slideshow": {
     "slide_type": "-"
    }
   },
   "outputs": [
    {
     "data": {
      "text/html": [
       "<table>\n",
       "<caption>A tibble: 1 × 3</caption>\n",
       "<thead>\n",
       "\t<tr><th scope=col>replicate</th><th scope=col>n</th><th scope=col>prop</th></tr>\n",
       "\t<tr><th scope=col>&lt;int&gt;</th><th scope=col>&lt;int&gt;</th><th scope=col>&lt;dbl&gt;</th></tr>\n",
       "</thead>\n",
       "<tbody>\n",
       "\t<tr><td>1</td><td>24</td><td>0.6</td></tr>\n",
       "</tbody>\n",
       "</table>\n"
      ],
      "text/latex": [
       "A tibble: 1 × 3\n",
       "\\begin{tabular}{lll}\n",
       " replicate & n & prop\\\\\n",
       " <int> & <int> & <dbl>\\\\\n",
       "\\hline\n",
       "\t 1 & 24 & 0.6\\\\\n",
       "\\end{tabular}\n"
      ],
      "text/markdown": [
       "\n",
       "A tibble: 1 × 3\n",
       "\n",
       "| replicate &lt;int&gt; | n &lt;int&gt; | prop &lt;dbl&gt; |\n",
       "|---|---|---|\n",
       "| 1 | 24 | 0.6 |\n",
       "\n"
      ],
      "text/plain": [
       "  replicate n  prop\n",
       "1 1         24 0.6 "
      ]
     },
     "metadata": {},
     "output_type": "display_data"
    },
    {
     "data": {
      "text/html": [
       "<table>\n",
       "<caption>A tibble: 1 × 3</caption>\n",
       "<thead>\n",
       "\t<tr><th scope=col>replicate</th><th scope=col>n</th><th scope=col>prop</th></tr>\n",
       "\t<tr><th scope=col>&lt;int&gt;</th><th scope=col>&lt;int&gt;</th><th scope=col>&lt;dbl&gt;</th></tr>\n",
       "</thead>\n",
       "<tbody>\n",
       "\t<tr><td>1</td><td>26</td><td>0.65</td></tr>\n",
       "</tbody>\n",
       "</table>\n"
      ],
      "text/latex": [
       "A tibble: 1 × 3\n",
       "\\begin{tabular}{lll}\n",
       " replicate & n & prop\\\\\n",
       " <int> & <int> & <dbl>\\\\\n",
       "\\hline\n",
       "\t 1 & 26 & 0.65\\\\\n",
       "\\end{tabular}\n"
      ],
      "text/markdown": [
       "\n",
       "A tibble: 1 × 3\n",
       "\n",
       "| replicate &lt;int&gt; | n &lt;int&gt; | prop &lt;dbl&gt; |\n",
       "|---|---|---|\n",
       "| 1 | 26 | 0.65 |\n",
       "\n"
      ],
      "text/plain": [
       "  replicate n  prop\n",
       "1 1         26 0.65"
      ]
     },
     "metadata": {},
     "output_type": "display_data"
    },
    {
     "data": {
      "text/html": [
       "<table>\n",
       "<caption>A tibble: 1 × 3</caption>\n",
       "<thead>\n",
       "\t<tr><th scope=col>replicate</th><th scope=col>n</th><th scope=col>prop</th></tr>\n",
       "\t<tr><th scope=col>&lt;int&gt;</th><th scope=col>&lt;int&gt;</th><th scope=col>&lt;dbl&gt;</th></tr>\n",
       "</thead>\n",
       "<tbody>\n",
       "\t<tr><td>1</td><td>25</td><td>0.625</td></tr>\n",
       "</tbody>\n",
       "</table>\n"
      ],
      "text/latex": [
       "A tibble: 1 × 3\n",
       "\\begin{tabular}{lll}\n",
       " replicate & n & prop\\\\\n",
       " <int> & <int> & <dbl>\\\\\n",
       "\\hline\n",
       "\t 1 & 25 & 0.625\\\\\n",
       "\\end{tabular}\n"
      ],
      "text/markdown": [
       "\n",
       "A tibble: 1 × 3\n",
       "\n",
       "| replicate &lt;int&gt; | n &lt;int&gt; | prop &lt;dbl&gt; |\n",
       "|---|---|---|\n",
       "| 1 | 25 | 0.625 |\n",
       "\n"
      ],
      "text/plain": [
       "  replicate n  prop \n",
       "1 1         25 0.625"
      ]
     },
     "metadata": {},
     "output_type": "display_data"
    }
   ],
   "source": [
    "iphone_estimate_1\n",
    "iphone_estimate_2\n",
    "iphone_estimate_3\n"
   ]
  },
  {
   "cell_type": "markdown",
   "metadata": {
    "slideshow": {
     "slide_type": "slide"
    }
   },
   "source": [
    "## Sampling distribution\n",
    "\n",
    "The *distribution* of estimates you get by taking many samples *of a fixed sample size* is called the **sampling distribution**.\n",
    "\n"
   ]
  },
  {
   "cell_type": "code",
   "execution_count": 24,
   "metadata": {
    "slideshow": {
     "slide_type": "fragment"
    }
   },
   "outputs": [
    {
     "name": "stderr",
     "output_type": "stream",
     "text": [
      "`summarise()` ungrouping output (override with `.groups` argument)\n",
      "\n"
     ]
    }
   ],
   "source": [
    "# take many samples from virtual student population\n",
    "replicates <- virtual_ugrads %>%\n",
    "   rep_sample_n(size = 40, reps = 10000)  %>% \n",
    "   group_by(replicate)  %>% \n",
    "   summarize(proportion = sum(phone_type == \"iphone\")/40)"
   ]
  },
  {
   "cell_type": "markdown",
   "metadata": {
    "slideshow": {
     "slide_type": "notes"
    }
   },
   "source": [
    "```\n",
    "replicates <- virtual_ugrads %>%\n",
    "   rep_sample_n(size = 40, reps = 10000)  %>% \n",
    "   group_by(replicate)  %>% \n",
    "   summarize(proportion = sum(phone_type == \"iphone\")/40)\n",
    "```"
   ]
  },
  {
   "cell_type": "markdown",
   "metadata": {
    "slideshow": {
     "slide_type": "slide"
    }
   },
   "source": [
    "## Sampling distribution\n",
    "\n",
    "The *distribution* of estimates you get by taking many samples *of a fixed sample size* is called the **sampling distribution**.\n",
    "\n",
    "How did we do? How reliable is our sample estimate? Should we do anything to change it?\n",
    "\n"
   ]
  },
  {
   "cell_type": "code",
   "execution_count": 25,
   "metadata": {
    "slideshow": {
     "slide_type": "-"
    }
   },
   "outputs": [
    {
     "data": {
      "image/png": "[encoded data removed]",
      "text/plain": [
       "plot without title"
      ]
     },
     "metadata": {
      "image/png": {
       "height": 420,
       "width": 420
      }
     },
     "output_type": "display_data"
    }
   ],
   "source": [
    "ggplot(replicates, aes(x = proportion)) +\n",
    "    geom_histogram(binwidth = .05) +\n",
    "    labs(x = \"Proportion of iPhone Users\", y = \"Count\") +\n",
    "    theme(text = element_text(size=20))"
   ]
  },
  {
   "cell_type": "markdown",
   "metadata": {
    "slideshow": {
     "slide_type": "slide"
    }
   },
   "source": [
    "## Worksheet time - go for it!\n",
    "\n",
    "<img align=\"left\" src=\"https://media.giphy.com/media/CjmvTCZf2U3p09Cn0h/giphy.gif\" width=\"500\"/>"
   ]
  },
  {
   "cell_type": "markdown",
   "metadata": {
    "slideshow": {
     "slide_type": "slide"
    }
   },
   "source": [
    "### Go to Canvas, and fill out the survey `iphone_poll` in week 11!"
   ]
  },
  {
   "cell_type": "markdown",
   "metadata": {
    "slideshow": {
     "slide_type": "slide"
    }
   },
   "source": [
    "### True or False:\n",
    "1. A larger sample will give a more accurate sample statistic.\n",
    "2. If our population is only size 20, we should just measure all the observations instead of sampling.\n",
    "3. In order to understand how reliable our sample estimate is, we can take many *replicates* and see how the estimate varies.\n",
    "4. UBC has implanted a secret microchip in all of your brains to know whether or not you have an iPhone, and so doesn't need to sample."
   ]
  },
  {
   "cell_type": "markdown",
   "metadata": {
    "slideshow": {
     "slide_type": "slide"
    }
   },
   "source": [
    "### Let's vote! Which of these are these proportion values? \n",
    "- parameters\n",
    "- statistics \n",
    "- samples\n",
    "- populations"
   ]
  },
  {
   "cell_type": "markdown",
   "metadata": {
    "slideshow": {
     "slide_type": "slide"
    }
   },
   "source": [
    "# Acknowledgements\n",
    "- [Data Science in a box](https://github.com/rstudio-education/datascience-box) by Mine Cetinkaya-Rundel\n",
    "- [Inference in 3 hours](https://github.com/AllenDowney/CompStats) by Allan Downey\n",
    "- [Modern Dive: An Introduction to Statistical and Data Sciences via R](https://moderndive.com/index.html) by Chester Ismay and Albert Y. Kim"
   ]
  }
 ],
 "metadata": {
  "celltoolbar": "Slideshow",
  "kernelspec": {
   "display_name": "R",
   "language": "R",
   "name": "ir"
  },
  "language_info": {
   "codemirror_mode": "r",
   "file_extension": ".r",
   "mimetype": "text/x-r-source",
   "name": "R",
   "pygments_lexer": "r",
   "version": "4.0.0"
  },
  "rise": {
   "transition": "fade"
  }
 },
 "nbformat": 4,
 "nbformat_minor": 2
}
